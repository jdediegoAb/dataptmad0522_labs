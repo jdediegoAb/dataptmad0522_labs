{
 "cells": [
  {
   "cell_type": "markdown",
   "metadata": {},
   "source": [
    "# Web Scraping Lab\n",
    "\n",
    "You will find in this notebook some scrapy exercises to practise your scraping skills.\n",
    "\n",
    "**Tips:**\n",
    "\n",
    "- Check the response status code for each request to ensure you have obtained the intended content.\n",
    "- Print the response text in each request to understand the kind of info you are getting and its format.\n",
    "- Check for patterns in the response text to extract the data/info requested in each question.\n",
    "- Visit the urls below and take a look at their source code through Chrome DevTools. You'll need to identify the html tags, special class names, etc used in the html content you are expected to extract.\n",
    "\n",
    "**Resources**:\n",
    "- [Requests library](http://docs.python-requests.org/en/master/#the-user-guide)\n",
    "- [Beautiful Soup Doc](https://www.crummy.com/software/BeautifulSoup/bs4/doc/)\n",
    "- [Urllib](https://docs.python.org/3/library/urllib.html#module-urllib)\n",
    "- [re lib](https://docs.python.org/3/library/re.html)\n",
    "- [lxml lib](https://lxml.de/)\n",
    "- [Scrapy](https://scrapy.org/)\n",
    "- [List of HTTP status codes](https://en.wikipedia.org/wiki/List_of_HTTP_status_codes)\n",
    "- [HTML basics](http://www.simplehtmlguide.com/cheatsheet.php)\n",
    "- [CSS basics](https://www.cssbasics.com/#page_start)"
   ]
  },
  {
   "cell_type": "markdown",
   "metadata": {},
   "source": [
    "#### Below are the libraries and modules you may need. `requests`,  `BeautifulSoup` and `pandas` are already imported for you. If you prefer to use additional libraries feel free to do it."
   ]
  },
  {
   "cell_type": "code",
   "execution_count": 1,
   "metadata": {},
   "outputs": [],
   "source": [
    "import requests\n",
    "import bs4\n",
    "import pandas as pd"
   ]
  },
  {
   "cell_type": "markdown",
   "metadata": {},
   "source": [
    "#### Download, parse (using BeautifulSoup), and print the content from the Trending Developers page from GitHub:"
   ]
  },
  {
   "cell_type": "code",
   "execution_count": 2,
   "metadata": {},
   "outputs": [],
   "source": [
    "# This is the url you will scrape in this exercise\n",
    "url = 'https://github.com/trending/developers'\n"
   ]
  },
  {
   "cell_type": "code",
   "execution_count": 3,
   "metadata": {},
   "outputs": [
    {
     "name": "stdout",
     "output_type": "stream",
     "text": [
      "<class 'bs4.BeautifulSoup'>\n"
     ]
    }
   ],
   "source": [
    "# your code here\n",
    "r=response = requests.get(url)\n",
    "r=r.content\n",
    "type(r)\n",
    "parsed_html = bs4.BeautifulSoup(r, \"html.parser\") \n",
    "print(type(parsed_html))\n"
   ]
  },
  {
   "cell_type": "code",
   "execution_count": 4,
   "metadata": {},
   "outputs": [
    {
     "data": {
      "text/plain": [
       "['Felix Kling',\n",
       " 'Daniel Vaz Gaspar',\n",
       " 'Simon Warta',\n",
       " 'James Henry',\n",
       " 'Phil Davis',\n",
       " 'Casey Rodarmor',\n",
       " '@greweb',\n",
       " 'Jose Diaz-Gonzalez',\n",
       " 'Rick Anderson',\n",
       " 'Nathan Rajlich',\n",
       " 'Marten Seemann',\n",
       " 'fiatjaf',\n",
       " 'Jim Crist-Harif',\n",
       " 'James Newton-King',\n",
       " 'MichaIng',\n",
       " 'Ariel Mashraki',\n",
       " 'Jason Quense',\n",
       " 'chencheng (云谦)',\n",
       " 'Jarred Sumner',\n",
       " 'Manu MA',\n",
       " 'Roman Shtylman',\n",
       " 'Christian Dietrich',\n",
       " 'Magnus Edenhill',\n",
       " 'Diego Muracciole',\n",
       " 'Rich Harris']"
      ]
     },
     "execution_count": 4,
     "metadata": {},
     "output_type": "execute_result"
    }
   ],
   "source": [
    "#metodo 2\n",
    "article=parsed_html.find_all('h1',{\"class\",\"h3 lh-condensed\"})\n",
    "articles=[]\n",
    "for a in article:\n",
    "    a=str(a)\n",
    "    soup_a=bs4.BeautifulSoup(a,\"html.parser\")\n",
    "    list_a=soup_a.find_all('a')\n",
    "    for e in list_a:\n",
    "        articles.append(e.string.strip())\n",
    "articles\n",
    "#metodo1:article=str(parsed_html.find_all('article',{\"class:\",\"Box-row d-flex\"}))\n",
    "\n",
    "#no hay strings en esa etiqueta, hay que ir mas abajo en las etiquetas. La string está en etiqueta a."
   ]
  },
  {
   "cell_type": "markdown",
   "metadata": {},
   "source": [
    "#### Display the names of the trending developers retrieved in the previous step.\n",
    "\n",
    "Your output should be a Python list of developer names. Each name should not contain any html tag.\n",
    "\n",
    "**Instructions:**\n",
    "\n",
    "1. Find out the html tag and class names used for the developer names. You can achieve this using Chrome DevTools.\n",
    "\n",
    "1. Use BeautifulSoup to extract all the html elements that contain the developer names.\n",
    "\n",
    "1. Use string manipulation techniques to replace whitespaces and linebreaks (i.e. `\\n`) in the *text* of each html element. Use a list to store the clean names.\n",
    "\n",
    "1. Print the list of names.\n",
    "\n",
    "Your output should look like below:\n",
    "\n",
    "```\n",
    "['trimstray (@trimstray)',\n",
    " 'joewalnes (JoeWalnes)',\n",
    " 'charlax (Charles-AxelDein)',\n",
    " 'ForrestKnight (ForrestKnight)',\n",
    " 'revery-ui (revery-ui)',\n",
    " 'alibaba (Alibaba)',\n",
    " 'Microsoft (Microsoft)',\n",
    " 'github (GitHub)',\n",
    " 'facebook (Facebook)',\n",
    " 'boazsegev (Bo)',\n",
    " 'google (Google)',\n",
    " 'cloudfetch',\n",
    " 'sindresorhus (SindreSorhus)',\n",
    " 'tensorflow',\n",
    " 'apache (TheApacheSoftwareFoundation)',\n",
    " 'DevonCrawford (DevonCrawford)',\n",
    " 'ARMmbed (ArmMbed)',\n",
    " 'vuejs (vuejs)',\n",
    " 'fastai (fast.ai)',\n",
    " 'QiShaoXuan (Qi)',\n",
    " 'joelparkerhenderson (JoelParkerHenderson)',\n",
    " 'torvalds (LinusTorvalds)',\n",
    " 'CyC2018',\n",
    " 'komeiji-satori (神楽坂覚々)',\n",
    " 'script-8']\n",
    " ```"
   ]
  },
  {
   "cell_type": "code",
   "execution_count": 5,
   "metadata": {},
   "outputs": [],
   "source": [
    "# your code here"
   ]
  },
  {
   "cell_type": "markdown",
   "metadata": {},
   "source": [
    "#### Display the trending Python repositories in GitHub.\n",
    "\n",
    "The steps to solve this problem is similar to the previous one except that you need to find out the repository names instead of developer names."
   ]
  },
  {
   "cell_type": "code",
   "execution_count": 6,
   "metadata": {},
   "outputs": [],
   "source": [
    "# This is the url you will scrape in this exercise\n",
    "url = 'https://github.com/trending/python?since=daily'"
   ]
  },
  {
   "cell_type": "code",
   "execution_count": 7,
   "metadata": {},
   "outputs": [],
   "source": [
    "# your code here"
   ]
  },
  {
   "cell_type": "markdown",
   "metadata": {},
   "source": [
    "#### Display all the image links from Walt Disney wikipedia page."
   ]
  },
  {
   "cell_type": "code",
   "execution_count": 8,
   "metadata": {},
   "outputs": [],
   "source": [
    "# This is the url you will scrape in this exercise\n",
    "url = 'https://en.wikipedia.org/wiki/Walt_Disney'"
   ]
  },
  {
   "cell_type": "code",
   "execution_count": 9,
   "metadata": {},
   "outputs": [
    {
     "name": "stdout",
     "output_type": "stream",
     "text": [
      "https:////upload.wikimedia.org/wikipedia/en/thumb/e/e7/Cscr-featured.svg/20px-Cscr-featured.svg.png\n",
      "https:////upload.wikimedia.org/wikipedia/en/thumb/8/8c/Extended-protection-shackle.svg/20px-Extended-protection-shackle.svg.png\n",
      "https:////upload.wikimedia.org/wikipedia/commons/thumb/d/df/Walt_Disney_1946.JPG/220px-Walt_Disney_1946.JPG\n",
      "https:////upload.wikimedia.org/wikipedia/commons/thumb/8/87/Walt_Disney_1942_signature.svg/150px-Walt_Disney_1942_signature.svg.png\n",
      "https:////upload.wikimedia.org/wikipedia/commons/thumb/c/c4/Walt_Disney_envelope_ca._1921.jpg/220px-Walt_Disney_envelope_ca._1921.jpg\n",
      "https:////upload.wikimedia.org/wikipedia/commons/thumb/0/0d/Trolley_Troubles_poster.jpg/170px-Trolley_Troubles_poster.jpg\n",
      "https:////upload.wikimedia.org/wikipedia/en/thumb/4/4e/Steamboat-willie.jpg/170px-Steamboat-willie.jpg\n",
      "https:////upload.wikimedia.org/wikipedia/commons/thumb/5/57/Walt_Disney_1935.jpg/170px-Walt_Disney_1935.jpg\n",
      "https:////upload.wikimedia.org/wikipedia/commons/thumb/c/cd/Walt_Disney_Snow_white_1937_trailer_screenshot_%2813%29.jpg/220px-Walt_Disney_Snow_white_1937_trailer_screenshot_%2813%29.jpg\n",
      "https:////upload.wikimedia.org/wikipedia/commons/thumb/1/15/Disney_drawing_goofy.jpg/170px-Disney_drawing_goofy.jpg\n",
      "https:////upload.wikimedia.org/wikipedia/commons/thumb/1/13/DisneySchiphol1951.jpg/220px-DisneySchiphol1951.jpg\n",
      "https:////upload.wikimedia.org/wikipedia/commons/thumb/8/8c/WaltDisneyplansDisneylandDec1954.jpg/220px-WaltDisneyplansDisneylandDec1954.jpg\n",
      "https:////upload.wikimedia.org/wikipedia/commons/thumb/f/ff/Walt_disney_portrait_right.jpg/170px-Walt_disney_portrait_right.jpg\n",
      "https:////upload.wikimedia.org/wikipedia/commons/thumb/1/1a/Walt_Disney_Grave.JPG/170px-Walt_Disney_Grave.JPG\n",
      "https:////upload.wikimedia.org/wikipedia/commons/thumb/2/2d/Roy_O._Disney_with_Company_at_Press_Conference.jpg/170px-Roy_O._Disney_with_Company_at_Press_Conference.jpg\n",
      "https:////upload.wikimedia.org/wikipedia/commons/thumb/b/b0/Disney_Oscar_1953_%28cropped%29.jpg/170px-Disney_Oscar_1953_%28cropped%29.jpg\n",
      "https:////upload.wikimedia.org/wikipedia/commons/thumb/6/6c/Disney1968.jpg/170px-Disney1968.jpg\n",
      "https:////upload.wikimedia.org/wikipedia/en/thumb/8/8a/OOjs_UI_icon_edit-ltr-progressive.svg/10px-OOjs_UI_icon_edit-ltr-progressive.svg.png\n",
      "https:////upload.wikimedia.org/wikipedia/en/thumb/8/8a/OOjs_UI_icon_edit-ltr-progressive.svg/10px-OOjs_UI_icon_edit-ltr-progressive.svg.png\n",
      "https:////upload.wikimedia.org/wikipedia/commons/thumb/e/e3/Disneyland_Resort_logo.svg/135px-Disneyland_Resort_logo.svg.png\n",
      "https:////upload.wikimedia.org/wikipedia/commons/thumb/d/da/Animation_disc.svg/20px-Animation_disc.svg.png\n",
      "https:////upload.wikimedia.org/wikipedia/en/thumb/6/69/P_vip.svg/19px-P_vip.svg.png\n",
      "https:////upload.wikimedia.org/wikipedia/commons/thumb/1/1a/Magic_Kingdom_castle.jpg/15px-Magic_Kingdom_castle.jpg\n",
      "https:////upload.wikimedia.org/wikipedia/en/thumb/e/e7/Video-x-generic.svg/19px-Video-x-generic.svg.png\n",
      "https:////upload.wikimedia.org/wikipedia/commons/thumb/a/a3/Flag_of_Los_Angeles_County%2C_California.svg/21px-Flag_of_Los_Angeles_County%2C_California.svg.png\n",
      "https:////upload.wikimedia.org/wikipedia/commons/thumb/8/8c/Blank_television_set.svg/21px-Blank_television_set.svg.png\n",
      "https:////upload.wikimedia.org/wikipedia/en/thumb/a/a4/Flag_of_the_United_States.svg/21px-Flag_of_the_United_States.svg.png\n",
      "https:////upload.wikimedia.org/wikipedia/en/thumb/4/4a/Commons-logo.svg/14px-Commons-logo.svg.png\n",
      "https:////upload.wikimedia.org/wikipedia/commons/thumb/f/fa/Wikiquote-logo.svg/16px-Wikiquote-logo.svg.png\n",
      "https:////upload.wikimedia.org/wikipedia/commons/thumb/f/ff/Wikidata-logo.svg/21px-Wikidata-logo.svg.png\n",
      "https:////upload.wikimedia.org/wikipedia/en/thumb/8/8a/OOjs_UI_icon_edit-ltr-progressive.svg/10px-OOjs_UI_icon_edit-ltr-progressive.svg.png\n",
      "https:////en.wikipedia.org/wiki/Special:CentralAutoLogin/start?type=1x1\n",
      "https:///static/images/footer/wikimedia-button.png\n",
      "https:///static/images/footer/poweredby_mediawiki_88x31.png\n"
     ]
    }
   ],
   "source": [
    "# your code here\n",
    "r=response = requests.get(url)\n",
    "r=r.content\n",
    "parsed_html = bs4.BeautifulSoup(r, \"html.parser\")\n",
    "walt_img=parsed_html.find_all('img')\n",
    "for i in walt_img:\n",
    "    print('https://'+ i.attrs['src'] )\n"
   ]
  },
  {
   "cell_type": "markdown",
   "metadata": {},
   "source": [
    "#### Retrieve an arbitary Wikipedia page of \"Python\" and create a list of links on that page."
   ]
  },
  {
   "cell_type": "code",
   "execution_count": 81,
   "metadata": {},
   "outputs": [],
   "source": [
    "# This is the url you will scrape in this exercise\n",
    "url ='https://en.wikipedia.org/wiki/Python' \n"
   ]
  },
  {
   "cell_type": "code",
   "execution_count": 83,
   "metadata": {},
   "outputs": [
    {
     "name": "stdout",
     "output_type": "stream",
     "text": [
      "None\n",
      "#mw-head\n",
      "#searchInput\n",
      "https://en.wiktionary.org/wiki/Python\n",
      "https://en.wiktionary.org/wiki/python\n",
      "#Snakes\n",
      "#Computing\n",
      "#People\n",
      "#Roller_coasters\n",
      "#Vehicles\n",
      "#Weaponry\n",
      "#Other_uses\n",
      "#See_also\n",
      "/w/index.php?title=Python&action=edit&section=1\n",
      "/wiki/Pythonidae\n",
      "/wiki/Python_(genus)\n",
      "/wiki/Python_(mythology)\n",
      "/w/index.php?title=Python&action=edit&section=2\n",
      "/wiki/Python_(programming_language)\n",
      "/wiki/CMU_Common_Lisp\n",
      "/wiki/PERQ#PERQ_3\n",
      "/w/index.php?title=Python&action=edit&section=3\n",
      "/wiki/Python_of_Aenus\n",
      "/wiki/Python_(painter)\n",
      "/wiki/Python_of_Byzantium\n",
      "/wiki/Python_of_Catana\n",
      "/wiki/Python_Anghelo\n",
      "/w/index.php?title=Python&action=edit&section=4\n",
      "/wiki/Python_(Efteling)\n",
      "/wiki/Python_(Busch_Gardens_Tampa_Bay)\n",
      "/wiki/Python_(Coney_Island,_Cincinnati,_Ohio)\n",
      "/w/index.php?title=Python&action=edit&section=5\n",
      "/wiki/Python_(automobile_maker)\n",
      "/wiki/Python_(Ford_prototype)\n",
      "/w/index.php?title=Python&action=edit&section=6\n",
      "/wiki/Python_(missile)\n",
      "/wiki/Python_(nuclear_primary)\n",
      "/wiki/Colt_Python\n",
      "/w/index.php?title=Python&action=edit&section=7\n",
      "/wiki/PYTHON\n",
      "/wiki/Python_(film)\n",
      "/wiki/Monty_Python\n",
      "/wiki/Python_(Monty)_Pictures\n",
      "/wiki/Timon_of_Phlius\n",
      "/w/index.php?title=Python&action=edit&section=8\n",
      "/wiki/Cython\n",
      "/wiki/Pyton\n",
      "/wiki/Pithon\n",
      "/wiki/File:Disambig_gray.svg\n",
      "/wiki/Help:Disambiguation\n",
      "https://en.wikipedia.org/w/index.php?title=Special:WhatLinksHere/Python&namespace=0\n",
      "https://en.wikipedia.org/w/index.php?title=Python&oldid=1087251762\n",
      "/wiki/Help:Category\n",
      "/wiki/Category:Disambiguation_pages\n",
      "/wiki/Category:Human_name_disambiguation_pages\n",
      "/wiki/Category:Disambiguation_pages_with_given-name-holder_lists\n",
      "/wiki/Category:Disambiguation_pages_with_short_descriptions\n",
      "/wiki/Category:Short_description_is_different_from_Wikidata\n",
      "/wiki/Category:All_article_disambiguation_pages\n",
      "/wiki/Category:All_disambiguation_pages\n",
      "/wiki/Category:Animal_common_name_disambiguation_pages\n",
      "/wiki/Special:MyTalk\n",
      "/wiki/Special:MyContributions\n",
      "/w/index.php?title=Special:CreateAccount&returnto=Python\n",
      "/w/index.php?title=Special:UserLogin&returnto=Python\n",
      "/wiki/Python\n",
      "/wiki/Talk:Python\n",
      "/wiki/Python\n",
      "/w/index.php?title=Python&action=edit\n",
      "/w/index.php?title=Python&action=history\n",
      "/wiki/Main_Page\n",
      "/wiki/Main_Page\n",
      "/wiki/Wikipedia:Contents\n",
      "/wiki/Portal:Current_events\n",
      "/wiki/Special:Random\n",
      "/wiki/Wikipedia:About\n",
      "//en.wikipedia.org/wiki/Wikipedia:Contact_us\n",
      "https://donate.wikimedia.org/wiki/Special:FundraiserRedirector?utm_source=donate&utm_medium=sidebar&utm_campaign=C13_en.wikipedia.org&uselang=en\n",
      "/wiki/Help:Contents\n",
      "/wiki/Help:Introduction\n",
      "/wiki/Wikipedia:Community_portal\n",
      "/wiki/Special:RecentChanges\n",
      "/wiki/Wikipedia:File_Upload_Wizard\n",
      "/wiki/Special:WhatLinksHere/Python\n",
      "/wiki/Special:RecentChangesLinked/Python\n",
      "/wiki/Wikipedia:File_Upload_Wizard\n",
      "/wiki/Special:SpecialPages\n",
      "/w/index.php?title=Python&oldid=1087251762\n",
      "/w/index.php?title=Python&action=info\n",
      "/w/index.php?title=Special:CiteThisPage&page=Python&id=1087251762&wpFormIdentifier=titleform\n",
      "https://www.wikidata.org/wiki/Special:EntityPage/Q747452\n",
      "/w/index.php?title=Special:DownloadAsPdf&page=Python&action=show-download-screen\n",
      "/w/index.php?title=Python&printable=yes\n",
      "https://commons.wikimedia.org/wiki/Category:Python\n",
      "https://af.wikipedia.org/wiki/Python\n",
      "https://als.wikipedia.org/wiki/Python\n",
      "https://ar.wikipedia.org/wiki/%D8%A8%D8%A7%D9%8A%D8%AB%D9%88%D9%86_(%D8%AA%D9%88%D8%B6%D9%8A%D8%AD)\n",
      "https://az.wikipedia.org/wiki/Python\n",
      "https://bn.wikipedia.org/wiki/%E0%A6%AA%E0%A6%BE%E0%A6%87%E0%A6%A5%E0%A6%A8_(%E0%A6%A6%E0%A7%8D%E0%A6%AC%E0%A7%8D%E0%A6%AF%E0%A6%B0%E0%A7%8D%E0%A6%A5%E0%A6%A4%E0%A6%BE_%E0%A6%A8%E0%A6%BF%E0%A6%B0%E0%A6%B8%E0%A6%A8)\n",
      "https://be.wikipedia.org/wiki/Python\n",
      "https://bg.wikipedia.org/wiki/%D0%9F%D0%B8%D1%82%D0%BE%D0%BD_(%D0%BF%D0%BE%D1%8F%D1%81%D0%BD%D0%B5%D0%BD%D0%B8%D0%B5)\n",
      "https://cs.wikipedia.org/wiki/Python_(rozcestn%C3%ADk)\n",
      "https://da.wikipedia.org/wiki/Python\n",
      "https://de.wikipedia.org/wiki/Python\n",
      "https://eo.wikipedia.org/wiki/Pitono_(apartigilo)\n",
      "https://eu.wikipedia.org/wiki/Python_(argipena)\n",
      "https://fa.wikipedia.org/wiki/%D9%BE%D8%A7%DB%8C%D8%AA%D9%88%D9%86\n",
      "https://fr.wikipedia.org/wiki/Python\n",
      "https://ko.wikipedia.org/wiki/%ED%8C%8C%EC%9D%B4%EC%84%A0\n",
      "https://hr.wikipedia.org/wiki/Python_(razdvojba)\n",
      "https://io.wikipedia.org/wiki/Pitono\n",
      "https://id.wikipedia.org/wiki/Python\n",
      "https://ia.wikipedia.org/wiki/Python_(disambiguation)\n",
      "https://is.wikipedia.org/wiki/Python_(a%C3%B0greining)\n",
      "https://it.wikipedia.org/wiki/Python_(disambigua)\n",
      "https://he.wikipedia.org/wiki/%D7%A4%D7%99%D7%AA%D7%95%D7%9F\n",
      "https://ka.wikipedia.org/wiki/%E1%83%9E%E1%83%98%E1%83%97%E1%83%9D%E1%83%9C%E1%83%98_(%E1%83%9B%E1%83%A0%E1%83%90%E1%83%95%E1%83%90%E1%83%9A%E1%83%9B%E1%83%9C%E1%83%98%E1%83%A8%E1%83%95%E1%83%9C%E1%83%94%E1%83%9A%E1%83%9D%E1%83%95%E1%83%90%E1%83%9C%E1%83%98)\n",
      "https://kg.wikipedia.org/wiki/Mboma_(nyoka)\n",
      "https://la.wikipedia.org/wiki/Python_(discretiva)\n",
      "https://lb.wikipedia.org/wiki/Python\n",
      "https://hu.wikipedia.org/wiki/Python_(egy%C3%A9rtelm%C5%B1s%C3%ADt%C5%91_lap)\n",
      "https://mr.wikipedia.org/wiki/%E0%A4%AA%E0%A4%BE%E0%A4%AF%E0%A4%A5%E0%A5%89%E0%A4%A8_(%E0%A4%86%E0%A4%9C%E0%A5%8D%E0%A4%9E%E0%A4%BE%E0%A4%B5%E0%A4%B2%E0%A5%80_%E0%A4%AD%E0%A4%BE%E0%A4%B7%E0%A4%BE)\n",
      "https://nl.wikipedia.org/wiki/Python\n",
      "https://ja.wikipedia.org/wiki/%E3%83%91%E3%82%A4%E3%82%BD%E3%83%B3\n",
      "https://no.wikipedia.org/wiki/Pyton\n",
      "https://pl.wikipedia.org/wiki/Pyton\n",
      "https://pt.wikipedia.org/wiki/Python_(desambigua%C3%A7%C3%A3o)\n",
      "https://ru.wikipedia.org/wiki/Python_(%D0%B7%D0%BD%D0%B0%D1%87%D0%B5%D0%BD%D0%B8%D1%8F)\n",
      "https://sk.wikipedia.org/wiki/Python\n",
      "https://sr.wikipedia.org/wiki/%D0%9F%D0%B8%D1%82%D0%BE%D0%BD_(%D0%B2%D0%B8%D1%88%D0%B5%D0%B7%D0%BD%D0%B0%D1%87%D0%BD%D0%B0_%D0%BE%D0%B4%D1%80%D0%B5%D0%B4%D0%BD%D0%B8%D1%86%D0%B0)\n",
      "https://sh.wikipedia.org/wiki/Python\n",
      "https://fi.wikipedia.org/wiki/Python\n",
      "https://sv.wikipedia.org/wiki/Pyton\n",
      "https://th.wikipedia.org/wiki/%E0%B9%84%E0%B8%9E%E0%B8%97%E0%B8%AD%E0%B8%99\n",
      "https://tr.wikipedia.org/wiki/Python_(anlam_ayr%C4%B1m%C4%B1)\n",
      "https://uk.wikipedia.org/wiki/%D0%9F%D1%96%D1%84%D0%BE%D0%BD\n",
      "https://ur.wikipedia.org/wiki/%D9%BE%D8%A7%D8%A6%DB%8C%D8%AA%DA%BE%D9%88%D9%86\n",
      "https://vi.wikipedia.org/wiki/Python\n",
      "https://zh.wikipedia.org/wiki/Python_(%E6%B6%88%E6%AD%A7%E4%B9%89)\n",
      "https://www.wikidata.org/wiki/Special:EntityPage/Q747452#sitelinks-wikipedia\n",
      "//en.wikipedia.org/wiki/Wikipedia:Text_of_Creative_Commons_Attribution-ShareAlike_3.0_Unported_License\n",
      "//creativecommons.org/licenses/by-sa/3.0/\n",
      "//foundation.wikimedia.org/wiki/Terms_of_Use\n",
      "//foundation.wikimedia.org/wiki/Privacy_policy\n",
      "//www.wikimediafoundation.org/\n",
      "https://foundation.wikimedia.org/wiki/Privacy_policy\n",
      "/wiki/Wikipedia:About\n",
      "/wiki/Wikipedia:General_disclaimer\n",
      "//en.wikipedia.org/wiki/Wikipedia:Contact_us\n",
      "//en.m.wikipedia.org/w/index.php?title=Python&mobileaction=toggle_view_mobile\n",
      "https://developer.wikimedia.org\n",
      "https://stats.wikimedia.org/#/en.wikipedia.org\n",
      "https://foundation.wikimedia.org/wiki/Cookie_statement\n",
      "https://wikimediafoundation.org/\n",
      "https://www.mediawiki.org/\n"
     ]
    }
   ],
   "source": [
    "# your code here\n",
    "p=response = requests.get(url)\n",
    "p=p.content\n",
    "parsed_html3 = bs4.BeautifulSoup(p, \"html.parser\")\n",
    "python_p=parsed_html3.find_all('a')\n",
    "for i in python_p:\n",
    "        print(i.get('href'))\n"
   ]
  },
  {
   "cell_type": "code",
   "execution_count": null,
   "metadata": {},
   "outputs": [],
   "source": []
  },
  {
   "cell_type": "markdown",
   "metadata": {},
   "source": [
    "#### Find the number of titles that have changed in the United States Code since its last release point."
   ]
  },
  {
   "cell_type": "code",
   "execution_count": 12,
   "metadata": {},
   "outputs": [],
   "source": [
    "# This is the url you will scrape in this exercise\n",
    "url = 'http://uscode.house.gov/download/download.shtml'"
   ]
  },
  {
   "cell_type": "code",
   "execution_count": 56,
   "metadata": {},
   "outputs": [
    {
     "name": "stdout",
     "output_type": "stream",
     "text": [
      "\n",
      "\n",
      "          Title 6 - Domestic Security\n",
      "\n",
      "        \n",
      "\n",
      "\n",
      "          Title 7 - Agriculture\n",
      "\n",
      "        \n",
      "\n",
      "\n",
      "          Title 11 - Bankruptcy ٭\n",
      "\n",
      "\n",
      "\n",
      "          Title 18 - Crimes and Criminal Procedure ٭\n",
      "\n",
      "\n",
      "\n",
      "          Title 20 - Education\n",
      "\n",
      "        \n",
      "\n",
      "\n",
      "          Title 22 - Foreign Relations and Intercourse\n",
      "\n",
      "        \n",
      "\n",
      "\n",
      "          Title 28 - Judiciary and Judicial Procedure ٭\n",
      "\n",
      "\n",
      "\n",
      "          Title 34 - Crime Control and Law Enforcement\n",
      "\n",
      "        \n",
      "\n",
      "\n",
      "          Title 42 - The Public Health and Welfare\n",
      "\n",
      "        \n"
     ]
    }
   ],
   "source": [
    "# your code here\n",
    "c=response = requests.get(url)\n",
    "c=c.content\n",
    "parsed_html4 = bs4.BeautifulSoup(c, \"html.parser\")\n",
    "code_us=parsed_html4.find_all('div',{\"class\",\"usctitlechanged\"})\n",
    "var = \"\"\n",
    "for i in code_us:\n",
    "    if \"Title\" in i.get_text():\n",
    "        var = i.get_text()\n",
    "    print(var)\n",
    "    \n"
   ]
  },
  {
   "cell_type": "markdown",
   "metadata": {},
   "source": [
    "#### Find a Python list with the top ten FBI's Most Wanted names."
   ]
  },
  {
   "cell_type": "code",
   "execution_count": 85,
   "metadata": {},
   "outputs": [],
   "source": [
    "# This is the url you will scrape in this exercise\n",
    "url = 'https://www.fbi.gov/wanted/topten'"
   ]
  },
  {
   "cell_type": "code",
   "execution_count": 104,
   "metadata": {},
   "outputs": [
    {
     "name": "stdout",
     "output_type": "stream",
     "text": [
      "['RUJA', 'IGNATOVA', 'ARNOLDO', 'JIMENEZ', 'ALEXIS', 'FLORES', 'JOSE', 'RODOLFO', 'VILLARREAL', 'HERNANDEZ', 'YULAN', 'ADONAY', 'ARCHAGA', 'CARIAS', 'RAFAEL', 'CARO', 'QUINTERO', 'EUGENE', 'PALMER', 'BHADRESHKUMAR', 'CHETANBHAI', 'PATEL', 'ALEJANDRO', 'ROSALES', 'CASTILLO', 'JASON', 'DEREK', 'BROWN', 'FBI', 'C', 'C']\n"
     ]
    }
   ],
   "source": [
    "# your code here\n",
    "d=response = requests.get(url)\n",
    "d=d.content\n",
    "parsed_html4 = bs4.BeautifulSoup(d, \"html.parser\")\n",
    "FBI=parsed_html4.find_all('h3')\n",
    "list1=str(FBI)\n",
    "import re\n",
    "pattern =  '[A-Z]+'\n",
    "print(re.findall(pattern, list1))"
   ]
  },
  {
   "cell_type": "markdown",
   "metadata": {},
   "source": [
    "####  Display the 20 latest earthquakes info (date, time, latitude, longitude and region name) by the EMSC as a pandas dataframe."
   ]
  },
  {
   "cell_type": "code",
   "execution_count": 105,
   "metadata": {},
   "outputs": [],
   "source": [
    "# This is the url you will scrape in this exercise\n",
    "url = 'https://www.emsc-csem.org/Earthquake/'"
   ]
  },
  {
   "cell_type": "code",
   "execution_count": 115,
   "metadata": {},
   "outputs": [
    {
     "data": {
      "text/plain": [
       "[<td class=\"tabev1\">1.53 </td>,\n",
       " <td class=\"tabev2\">S  </td>,\n",
       " <td class=\"tabev1\">120.69 </td>,\n",
       " <td class=\"tabev2\">E  </td>,\n",
       " <td class=\"tabev3\">10</td>,\n",
       " <td class=\"tabev2\">2.7</td>,\n",
       " <td class=\"tb_region\" id=\"reg0\"> SULAWESI, INDONESIA</td>,\n",
       " <td class=\"tabev1\">20.57 </td>,\n",
       " <td class=\"tabev2\">S  </td>,\n",
       " <td class=\"tabev1\">69.11 </td>,\n",
       " <td class=\"tabev2\">W  </td>,\n",
       " <td class=\"tabev3\">97</td>,\n",
       " <td class=\"tabev2\">2.5</td>,\n",
       " <td class=\"tb_region\" id=\"reg1\"> TARAPACA, CHILE</td>,\n",
       " <td class=\"tabev1\">17.58 </td>,\n",
       " <td class=\"tabev2\">S  </td>,\n",
       " <td class=\"tabev1\">69.62 </td>,\n",
       " <td class=\"tabev2\">W  </td>,\n",
       " <td class=\"tabev3\">145</td>,\n",
       " <td class=\"tabev2\">3.3</td>,\n",
       " <td class=\"tb_region\" id=\"reg2\"> SOUTHERN PERU</td>,\n",
       " <td class=\"tabev1\">17.83 </td>,\n",
       " <td class=\"tabev2\">N  </td>,\n",
       " <td class=\"tabev1\">66.96 </td>,\n",
       " <td class=\"tabev2\">W  </td>,\n",
       " <td class=\"tabev3\">13</td>,\n",
       " <td class=\"tabev2\">2.2</td>,\n",
       " <td class=\"tb_region\" id=\"reg3\"> PUERTO RICO REGION</td>,\n",
       " <td class=\"tabev1\">12.60 </td>,\n",
       " <td class=\"tabev2\">N  </td>,\n",
       " <td class=\"tabev1\">87.96 </td>,\n",
       " <td class=\"tabev2\">W  </td>,\n",
       " <td class=\"tabev3\">24</td>,\n",
       " <td class=\"tabev2\">3.0</td>,\n",
       " <td class=\"tb_region\" id=\"reg4\"> NEAR COAST OF NICARAGUA</td>,\n",
       " <td class=\"tabev1\">19.24 </td>,\n",
       " <td class=\"tabev2\">N  </td>,\n",
       " <td class=\"tabev1\">155.44 </td>,\n",
       " <td class=\"tabev2\">W  </td>,\n",
       " <td class=\"tabev3\">34</td>,\n",
       " <td class=\"tabev2\">2.1</td>,\n",
       " <td class=\"tb_region\" id=\"reg5\"> ISLAND OF HAWAII, HAWAII</td>,\n",
       " <td class=\"tabev1\">30.77 </td>,\n",
       " <td class=\"tabev2\">S  </td>,\n",
       " <td class=\"tabev1\">71.29 </td>,\n",
       " <td class=\"tabev2\">W  </td>,\n",
       " <td class=\"tabev3\">62</td>,\n",
       " <td class=\"tabev2\">2.8</td>,\n",
       " <td class=\"tb_region\" id=\"reg6\"> COQUIMBO, CHILE</td>,\n",
       " <td class=\"tabev1\">37.75 </td>,\n",
       " <td class=\"tabev2\">N  </td>,\n",
       " <td class=\"tabev1\">2.34 </td>,\n",
       " <td class=\"tabev2\">W  </td>,\n",
       " <td class=\"tabev3\">0</td>,\n",
       " <td class=\"tabev2\">2.3</td>,\n",
       " <td class=\"tb_region\" id=\"reg7\"> SPAIN</td>,\n",
       " <td class=\"tabev1\">18.48 </td>,\n",
       " <td class=\"tabev2\">N  </td>,\n",
       " <td class=\"tabev1\">73.47 </td>,\n",
       " <td class=\"tabev2\">W  </td>,\n",
       " <td class=\"tabev3\">8</td>,\n",
       " <td class=\"tabev2\">3.6</td>,\n",
       " <td class=\"tb_region\" id=\"reg8\"> HAITI REGION</td>,\n",
       " <td class=\"tabev1\">9.29 </td>,\n",
       " <td class=\"tabev2\">N  </td>,\n",
       " <td class=\"tabev1\">125.50 </td>,\n",
       " <td class=\"tabev2\">E  </td>,\n",
       " <td class=\"tabev3\">3</td>,\n",
       " <td class=\"tabev2\">4.0</td>,\n",
       " <td class=\"tb_region\" id=\"reg9\"> MINDANAO, PHILIPPINES</td>,\n",
       " <td class=\"tabev1\">46.23 </td>,\n",
       " <td class=\"tabev2\">N  </td>,\n",
       " <td class=\"tabev1\">6.97 </td>,\n",
       " <td class=\"tabev2\">E  </td>,\n",
       " <td class=\"tabev3\">0</td>,\n",
       " <td class=\"tabev2\">1.7</td>,\n",
       " <td class=\"tb_region\" id=\"reg10\"> SWITZERLAND</td>,\n",
       " <td class=\"tabev1\">35.42 </td>,\n",
       " <td class=\"tabev2\">N  </td>,\n",
       " <td class=\"tabev1\">3.66 </td>,\n",
       " <td class=\"tabev2\">W  </td>,\n",
       " <td class=\"tabev3\">9</td>,\n",
       " <td class=\"tabev2\">2.5</td>,\n",
       " <td class=\"tb_region\" id=\"reg11\"> STRAIT OF GIBRALTAR</td>,\n",
       " <td class=\"tabev1\">35.44 </td>,\n",
       " <td class=\"tabev2\">N  </td>,\n",
       " <td class=\"tabev1\">3.56 </td>,\n",
       " <td class=\"tabev2\">W  </td>,\n",
       " <td class=\"tabev3\">28</td>,\n",
       " <td class=\"tabev2\">2.3</td>,\n",
       " <td class=\"tb_region\" id=\"reg12\"> STRAIT OF GIBRALTAR</td>,\n",
       " <td class=\"tabev1\">35.42 </td>,\n",
       " <td class=\"tabev2\">N  </td>,\n",
       " <td class=\"tabev1\">3.64 </td>,\n",
       " <td class=\"tabev2\">W  </td>,\n",
       " <td class=\"tabev3\">20</td>,\n",
       " <td class=\"tabev2\">2.8</td>,\n",
       " <td class=\"tb_region\" id=\"reg13\"> STRAIT OF GIBRALTAR</td>,\n",
       " <td class=\"tabev1\">45.93 </td>,\n",
       " <td class=\"tabev2\">N  </td>,\n",
       " <td class=\"tabev1\">1.41 </td>,\n",
       " <td class=\"tabev2\">W  </td>,\n",
       " <td class=\"tabev3\">9</td>,\n",
       " <td class=\"tabev2\">2.6</td>,\n",
       " <td class=\"tb_region\" id=\"reg14\"> FRANCE</td>,\n",
       " <td class=\"tabev1\">19.50 </td>,\n",
       " <td class=\"tabev2\">N  </td>,\n",
       " <td class=\"tabev1\">155.66 </td>,\n",
       " <td class=\"tabev2\">W  </td>,\n",
       " <td class=\"tabev3\">-3</td>,\n",
       " <td class=\"tabev2\">2.1</td>,\n",
       " <td class=\"tb_region\" id=\"reg15\"> ISLAND OF HAWAII, HAWAII</td>,\n",
       " <td class=\"tabev1\">38.51 </td>,\n",
       " <td class=\"tabev2\">N  </td>,\n",
       " <td class=\"tabev1\">20.49 </td>,\n",
       " <td class=\"tabev2\">E  </td>,\n",
       " <td class=\"tabev3\">10</td>,\n",
       " <td class=\"tabev2\">2.7</td>,\n",
       " <td class=\"tb_region\" id=\"reg16\"> GREECE</td>,\n",
       " <td class=\"tabev1\">38.44 </td>,\n",
       " <td class=\"tabev2\">N  </td>,\n",
       " <td class=\"tabev1\">39.14 </td>,\n",
       " <td class=\"tabev2\">E  </td>,\n",
       " <td class=\"tabev3\">2</td>,\n",
       " <td class=\"tabev2\">2.2</td>,\n",
       " <td class=\"tb_region\" id=\"reg17\"> EASTERN TURKEY</td>,\n",
       " <td class=\"tabev1\">6.65 </td>,\n",
       " <td class=\"tabev2\">N  </td>,\n",
       " <td class=\"tabev1\">126.62 </td>,\n",
       " <td class=\"tabev2\">E  </td>,\n",
       " <td class=\"tabev3\">32</td>,\n",
       " <td class=\"tabev2\">3.9</td>,\n",
       " <td class=\"tb_region\" id=\"reg18\"> MINDANAO, PHILIPPINES</td>,\n",
       " <td class=\"tabev1\">30.44 </td>,\n",
       " <td class=\"tabev2\">S  </td>,\n",
       " <td class=\"tabev1\">71.62 </td>,\n",
       " <td class=\"tabev2\">W  </td>,\n",
       " <td class=\"tabev3\">33</td>,\n",
       " <td class=\"tabev2\">2.7</td>,\n",
       " <td class=\"tb_region\" id=\"reg19\"> COQUIMBO, CHILE</td>,\n",
       " <td class=\"tabev1\">35.54 </td>,\n",
       " <td class=\"tabev2\">N  </td>,\n",
       " <td class=\"tabev1\">3.68 </td>,\n",
       " <td class=\"tabev2\">W  </td>,\n",
       " <td class=\"tabev3\">7</td>,\n",
       " <td class=\"tabev2\">2.1</td>,\n",
       " <td class=\"tb_region\" id=\"reg20\"> STRAIT OF GIBRALTAR</td>,\n",
       " <td class=\"tabev1\">37.88 </td>,\n",
       " <td class=\"tabev2\">N  </td>,\n",
       " <td class=\"tabev1\">113.06 </td>,\n",
       " <td class=\"tabev2\">W  </td>,\n",
       " <td class=\"tabev3\">12</td>,\n",
       " <td class=\"tabev2\">2.0</td>,\n",
       " <td class=\"tb_region\" id=\"reg21\"> UTAH</td>,\n",
       " <td class=\"tabev1\">43.83 </td>,\n",
       " <td class=\"tabev2\">N  </td>,\n",
       " <td class=\"tabev1\">12.28 </td>,\n",
       " <td class=\"tabev2\">E  </td>,\n",
       " <td class=\"tabev3\">34</td>,\n",
       " <td class=\"tabev2\">2.4</td>,\n",
       " <td class=\"tb_region\" id=\"reg22\"> CENTRAL ITALY</td>,\n",
       " <td class=\"tabev1\">41.75 </td>,\n",
       " <td class=\"tabev2\">N  </td>,\n",
       " <td class=\"tabev1\">81.40 </td>,\n",
       " <td class=\"tabev2\">E  </td>,\n",
       " <td class=\"tabev3\">10</td>,\n",
       " <td class=\"tabev2\">4.4</td>,\n",
       " <td class=\"tb_region\" id=\"reg23\"> SOUTHERN XINJIANG, CHINA</td>,\n",
       " <td class=\"tabev1\">18.00 </td>,\n",
       " <td class=\"tabev2\">N  </td>,\n",
       " <td class=\"tabev1\">66.75 </td>,\n",
       " <td class=\"tabev2\">W  </td>,\n",
       " <td class=\"tabev3\">14</td>,\n",
       " <td class=\"tabev2\">2.4</td>,\n",
       " <td class=\"tb_region\" id=\"reg24\"> PUERTO RICO</td>,\n",
       " <td class=\"tabev1\">41.71 </td>,\n",
       " <td class=\"tabev2\">N  </td>,\n",
       " <td class=\"tabev1\">81.48 </td>,\n",
       " <td class=\"tabev2\">E  </td>,\n",
       " <td class=\"tabev3\">10</td>,\n",
       " <td class=\"tabev2\">4.3</td>,\n",
       " <td class=\"tb_region\" id=\"reg25\"> SOUTHERN XINJIANG, CHINA</td>,\n",
       " <td class=\"tabev1\">57.90 </td>,\n",
       " <td class=\"tabev2\">N  </td>,\n",
       " <td class=\"tabev1\">153.54 </td>,\n",
       " <td class=\"tabev2\">W  </td>,\n",
       " <td class=\"tabev3\">35</td>,\n",
       " <td class=\"tabev2\">2.8</td>,\n",
       " <td class=\"tb_region\" id=\"reg26\"> KODIAK ISLAND REGION, ALASKA</td>,\n",
       " <td class=\"tabev1\">24.83 </td>,\n",
       " <td class=\"tabev2\">N  </td>,\n",
       " <td class=\"tabev1\">121.99 </td>,\n",
       " <td class=\"tabev2\">E  </td>,\n",
       " <td class=\"tabev3\">10</td>,\n",
       " <td class=\"tabev2\">4.3</td>,\n",
       " <td class=\"tb_region\" id=\"reg27\"> TAIWAN</td>,\n",
       " <td class=\"tabev1\">68.84 </td>,\n",
       " <td class=\"tabev2\">N  </td>,\n",
       " <td class=\"tabev1\">145.41 </td>,\n",
       " <td class=\"tabev2\">W  </td>,\n",
       " <td class=\"tabev3\">10</td>,\n",
       " <td class=\"tabev2\">3.0</td>,\n",
       " <td class=\"tb_region\" id=\"reg28\"> NORTHERN ALASKA</td>,\n",
       " <td class=\"tabev1\">35.50 </td>,\n",
       " <td class=\"tabev2\">N  </td>,\n",
       " <td class=\"tabev1\">3.57 </td>,\n",
       " <td class=\"tabev2\">W  </td>,\n",
       " <td class=\"tabev3\">19</td>,\n",
       " <td class=\"tabev2\">2.4</td>,\n",
       " <td class=\"tb_region\" id=\"reg29\"> STRAIT OF GIBRALTAR</td>,\n",
       " <td class=\"tabev1\">46.24 </td>,\n",
       " <td class=\"tabev2\">N  </td>,\n",
       " <td class=\"tabev1\">8.27 </td>,\n",
       " <td class=\"tabev2\">E  </td>,\n",
       " <td class=\"tabev3\">3</td>,\n",
       " <td class=\"tabev2\">1.2</td>,\n",
       " <td class=\"tb_region\" id=\"reg30\"> NORTHERN ITALY</td>,\n",
       " <td class=\"tabev1\">8.62 </td>,\n",
       " <td class=\"tabev2\">N  </td>,\n",
       " <td class=\"tabev1\">122.78 </td>,\n",
       " <td class=\"tabev2\">E  </td>,\n",
       " <td class=\"tabev3\">24</td>,\n",
       " <td class=\"tabev2\">3.5</td>,\n",
       " <td class=\"tb_region\" id=\"reg31\"> MINDANAO, PHILIPPINES</td>,\n",
       " <td class=\"tabev1\">35.66 </td>,\n",
       " <td class=\"tabev2\">N  </td>,\n",
       " <td class=\"tabev1\">3.58 </td>,\n",
       " <td class=\"tabev2\">W  </td>,\n",
       " <td class=\"tabev3\">26</td>,\n",
       " <td class=\"tabev2\">2.4</td>,\n",
       " <td class=\"tb_region\" id=\"reg32\"> STRAIT OF GIBRALTAR</td>,\n",
       " <td class=\"tabev1\">29.88 </td>,\n",
       " <td class=\"tabev2\">S  </td>,\n",
       " <td class=\"tabev1\">72.57 </td>,\n",
       " <td class=\"tabev2\">W  </td>,\n",
       " <td class=\"tabev3\">40</td>,\n",
       " <td class=\"tabev2\">3.2</td>,\n",
       " <td class=\"tb_region\" id=\"reg33\"> OFFSHORE COQUIMBO, CHILE</td>,\n",
       " <td class=\"tabev1\">5.73 </td>,\n",
       " <td class=\"tabev2\">N  </td>,\n",
       " <td class=\"tabev1\">126.05 </td>,\n",
       " <td class=\"tabev2\">E  </td>,\n",
       " <td class=\"tabev3\">136</td>,\n",
       " <td class=\"tabev2\">3.2</td>,\n",
       " <td class=\"tb_region\" id=\"reg34\"> MINDANAO, PHILIPPINES</td>,\n",
       " <td class=\"tabev1\">21.15 </td>,\n",
       " <td class=\"tabev2\">S  </td>,\n",
       " <td class=\"tabev1\">68.63 </td>,\n",
       " <td class=\"tabev2\">W  </td>,\n",
       " <td class=\"tabev3\">124</td>,\n",
       " <td class=\"tabev2\">2.9</td>,\n",
       " <td class=\"tb_region\" id=\"reg35\"> ANTOFAGASTA, CHILE</td>,\n",
       " <td class=\"tabev1\">33.23 </td>,\n",
       " <td class=\"tabev2\">N  </td>,\n",
       " <td class=\"tabev1\">116.12 </td>,\n",
       " <td class=\"tabev2\">W  </td>,\n",
       " <td class=\"tabev3\">11</td>,\n",
       " <td class=\"tabev2\">2.9</td>,\n",
       " <td class=\"tb_region\" id=\"reg36\"> SOUTHERN CALIFORNIA</td>,\n",
       " <td class=\"tabev1\">21.82 </td>,\n",
       " <td class=\"tabev2\">S  </td>,\n",
       " <td class=\"tabev1\">68.81 </td>,\n",
       " <td class=\"tabev2\">W  </td>,\n",
       " <td class=\"tabev3\">120</td>,\n",
       " <td class=\"tabev2\">2.6</td>,\n",
       " <td class=\"tb_region\" id=\"reg37\"> ANTOFAGASTA, CHILE</td>,\n",
       " <td class=\"tabev1\">38.10 </td>,\n",
       " <td class=\"tabev2\">N  </td>,\n",
       " <td class=\"tabev1\">48.23 </td>,\n",
       " <td class=\"tabev2\">E  </td>,\n",
       " <td class=\"tabev3\">2</td>,\n",
       " <td class=\"tabev2\">3.9</td>,\n",
       " <td class=\"tb_region\" id=\"reg38\"> NORTHWESTERN IRAN</td>,\n",
       " <td class=\"tabev1\">52.20 </td>,\n",
       " <td class=\"tabev2\">N  </td>,\n",
       " <td class=\"tabev1\">174.95 </td>,\n",
       " <td class=\"tabev2\">W  </td>,\n",
       " <td class=\"tabev3\">12</td>,\n",
       " <td class=\"tabev2\">5.2</td>,\n",
       " <td class=\"tb_region\" id=\"reg39\"> ANDREANOF ISLANDS, ALEUTIAN IS.</td>,\n",
       " <td class=\"tabev1\">35.48 </td>,\n",
       " <td class=\"tabev2\">N  </td>,\n",
       " <td class=\"tabev1\">3.62 </td>,\n",
       " <td class=\"tabev2\">W  </td>,\n",
       " <td class=\"tabev3\">20</td>,\n",
       " <td class=\"tabev2\">2.5</td>,\n",
       " <td class=\"tb_region\" id=\"reg40\"> STRAIT OF GIBRALTAR</td>,\n",
       " <td class=\"tabev1\">19.54 </td>,\n",
       " <td class=\"tabev2\">N  </td>,\n",
       " <td class=\"tabev1\">104.05 </td>,\n",
       " <td class=\"tabev2\">W  </td>,\n",
       " <td class=\"tabev3\">39</td>,\n",
       " <td class=\"tabev2\">3.7</td>,\n",
       " <td class=\"tb_region\" id=\"reg41\"> JALISCO, MEXICO</td>,\n",
       " <td class=\"tabev1\">16.25 </td>,\n",
       " <td class=\"tabev2\">N  </td>,\n",
       " <td class=\"tabev1\">98.01 </td>,\n",
       " <td class=\"tabev2\">W  </td>,\n",
       " <td class=\"tabev3\">7</td>,\n",
       " <td class=\"tabev2\">3.6</td>,\n",
       " <td class=\"tb_region\" id=\"reg42\"> OAXACA, MEXICO</td>,\n",
       " <td class=\"tabev1\">19.10 </td>,\n",
       " <td class=\"tabev2\">N  </td>,\n",
       " <td class=\"tabev1\">104.12 </td>,\n",
       " <td class=\"tabev2\">W  </td>,\n",
       " <td class=\"tabev3\">5</td>,\n",
       " <td class=\"tabev2\">3.3</td>,\n",
       " <td class=\"tb_region\" id=\"reg43\"> COLIMA, MEXICO</td>,\n",
       " <td class=\"tabev1\">19.80 </td>,\n",
       " <td class=\"tabev2\">S  </td>,\n",
       " <td class=\"tabev1\">69.31 </td>,\n",
       " <td class=\"tabev2\">W  </td>,\n",
       " <td class=\"tabev3\">96</td>,\n",
       " <td class=\"tabev2\">2.7</td>,\n",
       " <td class=\"tb_region\" id=\"reg44\"> TARAPACA, CHILE</td>,\n",
       " <td class=\"tabev1\">19.05 </td>,\n",
       " <td class=\"tabev2\">N  </td>,\n",
       " <td class=\"tabev1\">104.09 </td>,\n",
       " <td class=\"tabev2\">W  </td>,\n",
       " <td class=\"tabev3\">5</td>,\n",
       " <td class=\"tabev2\">3.0</td>,\n",
       " <td class=\"tb_region\" id=\"reg45\"> COLIMA, MEXICO</td>,\n",
       " <td class=\"tabev1\">17.98 </td>,\n",
       " <td class=\"tabev2\">N  </td>,\n",
       " <td class=\"tabev1\">66.96 </td>,\n",
       " <td class=\"tabev2\">W  </td>,\n",
       " <td class=\"tabev3\">12</td>,\n",
       " <td class=\"tabev2\">2.0</td>,\n",
       " <td class=\"tb_region\" id=\"reg46\"> PUERTO RICO</td>,\n",
       " <td class=\"tabev1\">35.53 </td>,\n",
       " <td class=\"tabev2\">N  </td>,\n",
       " <td class=\"tabev1\">3.61 </td>,\n",
       " <td class=\"tabev2\">W  </td>,\n",
       " <td class=\"tabev3\">20</td>,\n",
       " <td class=\"tabev2\">2.3</td>,\n",
       " <td class=\"tb_region\" id=\"reg47\"> STRAIT OF GIBRALTAR</td>,\n",
       " <td class=\"tabev1\">19.09 </td>,\n",
       " <td class=\"tabev2\">N  </td>,\n",
       " <td class=\"tabev1\">104.11 </td>,\n",
       " <td class=\"tabev2\">W  </td>,\n",
       " <td class=\"tabev3\">5</td>,\n",
       " <td class=\"tabev2\">3.4</td>,\n",
       " <td class=\"tb_region\" id=\"reg48\"> COLIMA, MEXICO</td>,\n",
       " <td class=\"tabev1\">23.70 </td>,\n",
       " <td class=\"tabev2\">S  </td>,\n",
       " <td class=\"tabev1\">66.69 </td>,\n",
       " <td class=\"tabev2\">W  </td>,\n",
       " <td class=\"tabev3\">195</td>,\n",
       " <td class=\"tabev2\">3.3</td>,\n",
       " <td class=\"tb_region\" id=\"reg49\"> JUJUY, ARGENTINA</td>]"
      ]
     },
     "execution_count": 115,
     "metadata": {},
     "output_type": "execute_result"
    }
   ],
   "source": [
    "# your code here\n",
    "e=response = requests.get(url)\n",
    "e=e.content\n",
    "parsed_html4 = bs4.BeautifulSoup(e, \"html.parser\")\n",
    "quake=parsed_html4.find_all('td',{'class','tabev1','tabev2','tabev3','tb_region'})\n",
    "quake"
   ]
  },
  {
   "cell_type": "markdown",
   "metadata": {},
   "source": [
    "#### Count the number of tweets by a given Twitter account.\n",
    "Ask the user for the handle (@handle) of a twitter account. You will need to include a ***try/except block*** for account names not found. \n",
    "<br>***Hint:*** the program should count the number of tweets for any provided account."
   ]
  },
  {
   "cell_type": "code",
   "execution_count": null,
   "metadata": {},
   "outputs": [],
   "source": [
    "# This is the url you will scrape in this exercise \n",
    "# You will need to add the account credentials to this url\n",
    "url = 'https://twitter.com/'"
   ]
  },
  {
   "cell_type": "code",
   "execution_count": null,
   "metadata": {},
   "outputs": [],
   "source": [
    "# your code here"
   ]
  },
  {
   "cell_type": "markdown",
   "metadata": {},
   "source": [
    "#### Number of followers of a given twitter account\n",
    "Ask the user for the handle (@handle) of a twitter account. You will need to include a ***try/except block*** for account names not found. \n",
    "<br>***Hint:*** the program should count the followers for any provided account."
   ]
  },
  {
   "cell_type": "code",
   "execution_count": null,
   "metadata": {},
   "outputs": [],
   "source": [
    "# This is the url you will scrape in this exercise \n",
    "# You will need to add the account credentials to this url\n",
    "url = 'https://twitter.com/'"
   ]
  },
  {
   "cell_type": "code",
   "execution_count": null,
   "metadata": {},
   "outputs": [],
   "source": [
    "# your code here"
   ]
  },
  {
   "cell_type": "markdown",
   "metadata": {},
   "source": [
    "#### List all language names and number of related articles in the order they appear in wikipedia.org."
   ]
  },
  {
   "cell_type": "code",
   "execution_count": null,
   "metadata": {},
   "outputs": [],
   "source": [
    "# This is the url you will scrape in this exercise\n",
    "url = 'https://www.wikipedia.org/'"
   ]
  },
  {
   "cell_type": "code",
   "execution_count": null,
   "metadata": {},
   "outputs": [],
   "source": [
    "# your code here"
   ]
  },
  {
   "cell_type": "markdown",
   "metadata": {},
   "source": [
    "#### A list with the different kind of datasets available in data.gov.uk."
   ]
  },
  {
   "cell_type": "code",
   "execution_count": null,
   "metadata": {},
   "outputs": [],
   "source": [
    "# This is the url you will scrape in this exercise\n",
    "url = 'https://data.gov.uk/'"
   ]
  },
  {
   "cell_type": "code",
   "execution_count": null,
   "metadata": {},
   "outputs": [],
   "source": [
    "# your code here"
   ]
  },
  {
   "cell_type": "markdown",
   "metadata": {},
   "source": [
    "#### Display the top 10 languages by number of native speakers stored in a pandas dataframe."
   ]
  },
  {
   "cell_type": "code",
   "execution_count": null,
   "metadata": {},
   "outputs": [],
   "source": [
    "# This is the url you will scrape in this exercise\n",
    "url = 'https://en.wikipedia.org/wiki/List_of_languages_by_number_of_native_speakers'"
   ]
  },
  {
   "cell_type": "code",
   "execution_count": null,
   "metadata": {},
   "outputs": [],
   "source": [
    "# your code here"
   ]
  },
  {
   "cell_type": "markdown",
   "metadata": {},
   "source": [
    "## Bonus\n",
    "#### Scrape a certain number of tweets of a given Twitter account."
   ]
  },
  {
   "cell_type": "code",
   "execution_count": null,
   "metadata": {},
   "outputs": [],
   "source": [
    "# This is the url you will scrape in this exercise \n",
    "# You will need to add the account credentials to this url\n",
    "url = 'https://twitter.com/'"
   ]
  },
  {
   "cell_type": "code",
   "execution_count": null,
   "metadata": {},
   "outputs": [],
   "source": [
    "# your code here"
   ]
  },
  {
   "cell_type": "markdown",
   "metadata": {},
   "source": [
    "#### Display IMDB's top 250 data (movie name, initial release, director name and stars) as a pandas dataframe."
   ]
  },
  {
   "cell_type": "code",
   "execution_count": null,
   "metadata": {},
   "outputs": [],
   "source": [
    "# This is the url you will scrape in this exercise \n",
    "url = 'https://www.imdb.com/chart/top'"
   ]
  },
  {
   "cell_type": "code",
   "execution_count": null,
   "metadata": {},
   "outputs": [],
   "source": [
    "# your code here"
   ]
  },
  {
   "cell_type": "markdown",
   "metadata": {},
   "source": [
    "#### Display the movie name, year and a brief summary of the top 10 random movies (IMDB) as a pandas dataframe."
   ]
  },
  {
   "cell_type": "code",
   "execution_count": null,
   "metadata": {},
   "outputs": [],
   "source": [
    "#This is the url you will scrape in this exercise\n",
    "url = 'http://www.imdb.com/chart/top'"
   ]
  },
  {
   "cell_type": "code",
   "execution_count": null,
   "metadata": {},
   "outputs": [],
   "source": [
    "# your code here"
   ]
  },
  {
   "cell_type": "markdown",
   "metadata": {},
   "source": [
    "#### Find the live weather report (temperature, wind speed, description and weather) of a given city."
   ]
  },
  {
   "cell_type": "code",
   "execution_count": null,
   "metadata": {},
   "outputs": [],
   "source": [
    "#https://openweathermap.org/current\n",
    "city = input('Enter the city: ')\n",
    "url = 'http://api.openweathermap.org/data/2.5/weather?'+'q='+city+'&APPID=b35975e18dc93725acb092f7272cc6b8&units=metric'"
   ]
  },
  {
   "cell_type": "code",
   "execution_count": null,
   "metadata": {},
   "outputs": [],
   "source": [
    "# your code here"
   ]
  },
  {
   "cell_type": "markdown",
   "metadata": {},
   "source": [
    "#### Find the book name, price and stock availability as a pandas dataframe."
   ]
  },
  {
   "cell_type": "code",
   "execution_count": null,
   "metadata": {},
   "outputs": [],
   "source": [
    "# This is the url you will scrape in this exercise. \n",
    "# It is a fictional bookstore created to be scraped. \n",
    "url = 'http://books.toscrape.com/'"
   ]
  },
  {
   "cell_type": "code",
   "execution_count": null,
   "metadata": {},
   "outputs": [],
   "source": [
    "# your code here"
   ]
  }
 ],
 "metadata": {
  "kernelspec": {
   "display_name": "Python [conda env:m1-ih]",
   "language": "python",
   "name": "conda-env-m1-ih-py"
  },
  "language_info": {
   "codemirror_mode": {
    "name": "ipython",
    "version": 3
   },
   "file_extension": ".py",
   "mimetype": "text/x-python",
   "name": "python",
   "nbconvert_exporter": "python",
   "pygments_lexer": "ipython3",
   "version": "3.9.12"
  }
 },
 "nbformat": 4,
 "nbformat_minor": 2
}
