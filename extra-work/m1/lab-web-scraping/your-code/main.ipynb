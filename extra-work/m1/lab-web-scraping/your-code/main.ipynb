{
 "cells": [
  {
   "cell_type": "markdown",
   "metadata": {},
   "source": [
    "# Web Scraping Lab\n",
    "\n",
    "You will find in this notebook some scrapy exercises to practise your scraping skills.\n",
    "\n",
    "**Tips:**\n",
    "\n",
    "- Check the response status code for each request to ensure you have obtained the intended content.\n",
    "- Print the response text in each request to understand the kind of info you are getting and its format.\n",
    "- Check for patterns in the response text to extract the data/info requested in each question.\n",
    "- Visit the urls below and take a look at their source code through Chrome DevTools. You'll need to identify the html tags, special class names, etc used in the html content you are expected to extract.\n",
    "\n",
    "**Resources**:\n",
    "- [Requests library](http://docs.python-requests.org/en/master/#the-user-guide)\n",
    "- [Beautiful Soup Doc](https://www.crummy.com/software/BeautifulSoup/bs4/doc/)\n",
    "- [Urllib](https://docs.python.org/3/library/urllib.html#module-urllib)\n",
    "- [re lib](https://docs.python.org/3/library/re.html)\n",
    "- [lxml lib](https://lxml.de/)\n",
    "- [Scrapy](https://scrapy.org/)\n",
    "- [List of HTTP status codes](https://en.wikipedia.org/wiki/List_of_HTTP_status_codes)\n",
    "- [HTML basics](http://www.simplehtmlguide.com/cheatsheet.php)\n",
    "- [CSS basics](https://www.cssbasics.com/#page_start)"
   ]
  },
  {
   "cell_type": "markdown",
   "metadata": {},
   "source": [
    "#### Below are the libraries and modules you may need. `requests`,  `BeautifulSoup` and `pandas` are already imported for you. If you prefer to use additional libraries feel free to do it."
   ]
  },
  {
   "cell_type": "code",
   "execution_count": 88,
   "metadata": {},
   "outputs": [],
   "source": [
    "import requests\n",
    "import bs4\n",
    "import pandas as pd"
   ]
  },
  {
   "cell_type": "markdown",
   "metadata": {},
   "source": [
    "#### Download, parse (using BeautifulSoup), and print the content from the Trending Developers page from GitHub:"
   ]
  },
  {
   "cell_type": "code",
   "execution_count": 89,
   "metadata": {},
   "outputs": [],
   "source": [
    "# This is the url you will scrape in this exercise\n",
    "url = 'https://github.com/trending/developers'\n"
   ]
  },
  {
   "cell_type": "code",
   "execution_count": 90,
   "metadata": {},
   "outputs": [
    {
     "name": "stdout",
     "output_type": "stream",
     "text": [
      "<class 'bs4.BeautifulSoup'>\n"
     ]
    }
   ],
   "source": [
    "# your code here\n",
    "r=response = requests.get(url)\n",
    "r=r.content\n",
    "type(r)\n",
    "parsed_html = bs4.BeautifulSoup(r, \"html.parser\") \n",
    "print(type(parsed_html))\n"
   ]
  },
  {
   "cell_type": "code",
   "execution_count": 91,
   "metadata": {},
   "outputs": [
    {
     "data": {
      "text/plain": [
       "['Ha Thach',\n",
       " 'Olivier Halligon',\n",
       " 'Jaco',\n",
       " 'Florian Rival',\n",
       " 'Abubakar Abid',\n",
       " 'Charles Kerr',\n",
       " 'Dotan Simha',\n",
       " 'David Sherret',\n",
       " 'Roman Khavronenko',\n",
       " 'chencheng (云谦)',\n",
       " 'Anders Jenbo',\n",
       " 'Valentin Churavy',\n",
       " 'Max Brunsfeld',\n",
       " 'Rom',\n",
       " 'Geoffroy Couprie',\n",
       " 'Roj',\n",
       " 'Raphaël',\n",
       " 'Frost Ming',\n",
       " 'Rex Raphael',\n",
       " 'Arseny Kapoulkine',\n",
       " 'Jonny Borges',\n",
       " 'Roger Peppe',\n",
       " 'Kenji Miyake',\n",
       " 'Dongdong Tian',\n",
       " 'Jonas Chevalier']"
      ]
     },
     "execution_count": 91,
     "metadata": {},
     "output_type": "execute_result"
    }
   ],
   "source": [
    "#metodo 2\n",
    "article=parsed_html.find_all('h1',{\"class\",\"h3 lh-condensed\"})\n",
    "articles=[]\n",
    "for a in article:\n",
    "    a=str(a)\n",
    "    soup_a=bs4.BeautifulSoup(a,\"html.parser\")\n",
    "    list_a=soup_a.find_all('a')\n",
    "    for e in list_a:\n",
    "        articles.append(e.string.strip())\n",
    "articles\n",
    "#metodo1:article=str(parsed_html.find_all('article',{\"class:\",\"Box-row d-flex\"}))\n",
    "\n",
    "#no hay strings en esa etiqueta, hay que ir mas abajo en las etiquetas. La string está en etiqueta a."
   ]
  },
  {
   "cell_type": "markdown",
   "metadata": {},
   "source": [
    "#### Display the names of the trending developers retrieved in the previous step.\n",
    "\n",
    "Your output should be a Python list of developer names. Each name should not contain any html tag.\n",
    "\n",
    "**Instructions:**\n",
    "\n",
    "1. Find out the html tag and class names used for the developer names. You can achieve this using Chrome DevTools.\n",
    "\n",
    "1. Use BeautifulSoup to extract all the html elements that contain the developer names.\n",
    "\n",
    "1. Use string manipulation techniques to replace whitespaces and linebreaks (i.e. `\\n`) in the *text* of each html element. Use a list to store the clean names.\n",
    "\n",
    "1. Print the list of names.\n",
    "\n",
    "Your output should look like below:\n",
    "\n",
    "```\n",
    "['trimstray (@trimstray)',\n",
    " 'joewalnes (JoeWalnes)',\n",
    " 'charlax (Charles-AxelDein)',\n",
    " 'ForrestKnight (ForrestKnight)',\n",
    " 'revery-ui (revery-ui)',\n",
    " 'alibaba (Alibaba)',\n",
    " 'Microsoft (Microsoft)',\n",
    " 'github (GitHub)',\n",
    " 'facebook (Facebook)',\n",
    " 'boazsegev (Bo)',\n",
    " 'google (Google)',\n",
    " 'cloudfetch',\n",
    " 'sindresorhus (SindreSorhus)',\n",
    " 'tensorflow',\n",
    " 'apache (TheApacheSoftwareFoundation)',\n",
    " 'DevonCrawford (DevonCrawford)',\n",
    " 'ARMmbed (ArmMbed)',\n",
    " 'vuejs (vuejs)',\n",
    " 'fastai (fast.ai)',\n",
    " 'QiShaoXuan (Qi)',\n",
    " 'joelparkerhenderson (JoelParkerHenderson)',\n",
    " 'torvalds (LinusTorvalds)',\n",
    " 'CyC2018',\n",
    " 'komeiji-satori (神楽坂覚々)',\n",
    " 'script-8']\n",
    " ```"
   ]
  },
  {
   "cell_type": "code",
   "execution_count": 92,
   "metadata": {},
   "outputs": [],
   "source": [
    "# your code here"
   ]
  },
  {
   "cell_type": "markdown",
   "metadata": {},
   "source": [
    "#### Display the trending Python repositories in GitHub.\n",
    "\n",
    "The steps to solve this problem is similar to the previous one except that you need to find out the repository names instead of developer names."
   ]
  },
  {
   "cell_type": "code",
   "execution_count": 93,
   "metadata": {},
   "outputs": [],
   "source": [
    "# This is the url you will scrape in this exercise\n",
    "url = 'https://github.com/trending/python?since=daily'"
   ]
  },
  {
   "cell_type": "code",
   "execution_count": 94,
   "metadata": {},
   "outputs": [],
   "source": [
    "# your code here"
   ]
  },
  {
   "cell_type": "markdown",
   "metadata": {},
   "source": [
    "#### Display all the image links from Walt Disney wikipedia page."
   ]
  },
  {
   "cell_type": "code",
   "execution_count": 95,
   "metadata": {},
   "outputs": [],
   "source": [
    "# This is the url you will scrape in this exercise\n",
    "url = 'https://en.wikipedia.org/wiki/Walt_Disney'"
   ]
  },
  {
   "cell_type": "code",
   "execution_count": 96,
   "metadata": {},
   "outputs": [
    {
     "name": "stdout",
     "output_type": "stream",
     "text": [
      "https:////upload.wikimedia.org/wikipedia/en/thumb/e/e7/Cscr-featured.svg/20px-Cscr-featured.svg.png\n",
      "https:////upload.wikimedia.org/wikipedia/en/thumb/8/8c/Extended-protection-shackle.svg/20px-Extended-protection-shackle.svg.png\n",
      "https:////upload.wikimedia.org/wikipedia/commons/thumb/d/df/Walt_Disney_1946.JPG/220px-Walt_Disney_1946.JPG\n",
      "https:////upload.wikimedia.org/wikipedia/commons/thumb/8/87/Walt_Disney_1942_signature.svg/150px-Walt_Disney_1942_signature.svg.png\n",
      "https:////upload.wikimedia.org/wikipedia/commons/thumb/c/c4/Walt_Disney_envelope_ca._1921.jpg/220px-Walt_Disney_envelope_ca._1921.jpg\n",
      "https:////upload.wikimedia.org/wikipedia/commons/thumb/0/0d/Trolley_Troubles_poster.jpg/170px-Trolley_Troubles_poster.jpg\n",
      "https:////upload.wikimedia.org/wikipedia/en/thumb/4/4e/Steamboat-willie.jpg/170px-Steamboat-willie.jpg\n",
      "https:////upload.wikimedia.org/wikipedia/commons/thumb/5/57/Walt_Disney_1935.jpg/170px-Walt_Disney_1935.jpg\n",
      "https:////upload.wikimedia.org/wikipedia/commons/thumb/c/cd/Walt_Disney_Snow_white_1937_trailer_screenshot_%2813%29.jpg/220px-Walt_Disney_Snow_white_1937_trailer_screenshot_%2813%29.jpg\n",
      "https:////upload.wikimedia.org/wikipedia/commons/thumb/1/15/Disney_drawing_goofy.jpg/170px-Disney_drawing_goofy.jpg\n",
      "https:////upload.wikimedia.org/wikipedia/commons/thumb/1/13/DisneySchiphol1951.jpg/220px-DisneySchiphol1951.jpg\n",
      "https:////upload.wikimedia.org/wikipedia/commons/thumb/8/8c/WaltDisneyplansDisneylandDec1954.jpg/220px-WaltDisneyplansDisneylandDec1954.jpg\n",
      "https:////upload.wikimedia.org/wikipedia/commons/thumb/f/ff/Walt_disney_portrait_right.jpg/170px-Walt_disney_portrait_right.jpg\n",
      "https:////upload.wikimedia.org/wikipedia/commons/thumb/1/1a/Walt_Disney_Grave.JPG/170px-Walt_Disney_Grave.JPG\n",
      "https:////upload.wikimedia.org/wikipedia/commons/thumb/2/2d/Roy_O._Disney_with_Company_at_Press_Conference.jpg/170px-Roy_O._Disney_with_Company_at_Press_Conference.jpg\n",
      "https:////upload.wikimedia.org/wikipedia/commons/thumb/b/b0/Disney_Oscar_1953_%28cropped%29.jpg/170px-Disney_Oscar_1953_%28cropped%29.jpg\n",
      "https:////upload.wikimedia.org/wikipedia/commons/thumb/6/6c/Disney1968.jpg/170px-Disney1968.jpg\n",
      "https:////upload.wikimedia.org/wikipedia/en/thumb/8/8a/OOjs_UI_icon_edit-ltr-progressive.svg/10px-OOjs_UI_icon_edit-ltr-progressive.svg.png\n",
      "https:////upload.wikimedia.org/wikipedia/en/thumb/8/8a/OOjs_UI_icon_edit-ltr-progressive.svg/10px-OOjs_UI_icon_edit-ltr-progressive.svg.png\n",
      "https:////upload.wikimedia.org/wikipedia/commons/thumb/e/e3/Disneyland_Resort_logo.svg/135px-Disneyland_Resort_logo.svg.png\n",
      "https:////upload.wikimedia.org/wikipedia/commons/thumb/d/da/Animation_disc.svg/20px-Animation_disc.svg.png\n",
      "https:////upload.wikimedia.org/wikipedia/en/thumb/6/69/P_vip.svg/19px-P_vip.svg.png\n",
      "https:////upload.wikimedia.org/wikipedia/commons/thumb/1/1a/Magic_Kingdom_castle.jpg/15px-Magic_Kingdom_castle.jpg\n",
      "https:////upload.wikimedia.org/wikipedia/en/thumb/e/e7/Video-x-generic.svg/19px-Video-x-generic.svg.png\n",
      "https:////upload.wikimedia.org/wikipedia/commons/thumb/a/a3/Flag_of_Los_Angeles_County%2C_California.svg/21px-Flag_of_Los_Angeles_County%2C_California.svg.png\n",
      "https:////upload.wikimedia.org/wikipedia/commons/thumb/8/8c/Blank_television_set.svg/21px-Blank_television_set.svg.png\n",
      "https:////upload.wikimedia.org/wikipedia/en/thumb/a/a4/Flag_of_the_United_States.svg/21px-Flag_of_the_United_States.svg.png\n",
      "https:////upload.wikimedia.org/wikipedia/en/thumb/4/4a/Commons-logo.svg/14px-Commons-logo.svg.png\n",
      "https:////upload.wikimedia.org/wikipedia/commons/thumb/f/fa/Wikiquote-logo.svg/16px-Wikiquote-logo.svg.png\n",
      "https:////upload.wikimedia.org/wikipedia/commons/thumb/f/ff/Wikidata-logo.svg/21px-Wikidata-logo.svg.png\n",
      "https:////upload.wikimedia.org/wikipedia/en/thumb/8/8a/OOjs_UI_icon_edit-ltr-progressive.svg/10px-OOjs_UI_icon_edit-ltr-progressive.svg.png\n",
      "https:////en.wikipedia.org/wiki/Special:CentralAutoLogin/start?type=1x1\n",
      "https:///static/images/footer/wikimedia-button.png\n",
      "https:///static/images/footer/poweredby_mediawiki_88x31.png\n"
     ]
    }
   ],
   "source": [
    "# your code here\n",
    "r=response = requests.get(url)\n",
    "r=r.content\n",
    "parsed_html = bs4.BeautifulSoup(r, \"html.parser\")\n",
    "walt_img=parsed_html.find_all('img')\n",
    "for i in walt_img:\n",
    "    print('https://'+ i.attrs['src'] )\n"
   ]
  },
  {
   "cell_type": "markdown",
   "metadata": {},
   "source": [
    "#### Retrieve an arbitary Wikipedia page of \"Python\" and create a list of links on that page."
   ]
  },
  {
   "cell_type": "code",
   "execution_count": 97,
   "metadata": {},
   "outputs": [],
   "source": [
    "# This is the url you will scrape in this exercise\n",
    "url ='https://en.wikipedia.org/wiki/Python' \n"
   ]
  },
  {
   "cell_type": "code",
   "execution_count": 110,
   "metadata": {},
   "outputs": [
    {
     "ename": "KeyError",
     "evalue": "'div'",
     "output_type": "error",
     "traceback": [
      "\u001b[0;31m---------------------------------------------------------------------------\u001b[0m",
      "\u001b[0;31mKeyError\u001b[0m                                  Traceback (most recent call last)",
      "Input \u001b[0;32mIn [110]\u001b[0m, in \u001b[0;36m<cell line: 6>\u001b[0;34m()\u001b[0m\n\u001b[1;32m      5\u001b[0m python_p\u001b[38;5;241m=\u001b[39mparsed_html3\u001b[38;5;241m.\u001b[39mfind_all(\u001b[38;5;124m'\u001b[39m\u001b[38;5;124ma\u001b[39m\u001b[38;5;124m'\u001b[39m)\n\u001b[1;32m      6\u001b[0m \u001b[38;5;28;01mfor\u001b[39;00m i \u001b[38;5;129;01min\u001b[39;00m python_p:\n\u001b[0;32m----> 7\u001b[0m     \u001b[38;5;28mprint\u001b[39m(\u001b[43mi\u001b[49m\u001b[38;5;241;43m.\u001b[39;49m\u001b[43mattrs\u001b[49m\u001b[43m[\u001b[49m\u001b[38;5;124;43m'\u001b[39;49m\u001b[38;5;124;43mdiv\u001b[39;49m\u001b[38;5;124;43m'\u001b[39;49m\u001b[43m]\u001b[49m)\n",
      "\u001b[0;31mKeyError\u001b[0m: 'div'"
     ]
    }
   ],
   "source": [
    "# your code here\n",
    "p=response = requests.get(url)\n",
    "p=p.content\n",
    "parsed_html3 = bs4.BeautifulSoup(p, \"html.parser\")\n",
    "python_p=parsed_html3.find_all('a')\n",
    "for i in python_p:\n",
    "    print(i.attrs['href'])\n"
   ]
  },
  {
   "cell_type": "markdown",
   "metadata": {},
   "source": [
    "#### Find the number of titles that have changed in the United States Code since its last release point."
   ]
  },
  {
   "cell_type": "code",
   "execution_count": 114,
   "metadata": {},
   "outputs": [],
   "source": [
    "# This is the url you will scrape in this exercise\n",
    "url = 'http://uscode.house.gov/download/download.shtml'"
   ]
  },
  {
   "cell_type": "code",
   "execution_count": 115,
   "metadata": {},
   "outputs": [
    {
     "data": {
      "text/plain": [
       "[<a href=\"/browse.xhtml;jsessionid=1328FDA88448DDCDD5D9136B7CB7B918\"><img alt=\"OLRC home\" src=\"/javax.faces.resource/u4.png.xhtml?ln=images\" style=\"border: none;\"/></a>,\n",
       " <a href=\"/browse.xhtml;jsessionid=1328FDA88448DDCDD5D9136B7CB7B918\" style=\"text-decoration: none; font-family: 'Calibri'; color: rgb(69, 38, 35); font-size: 15px; font-weight: bold;\">\n",
       "                     Home</a>,\n",
       " <a href=\"/browse.xhtml;jsessionid=1328FDA88448DDCDD5D9136B7CB7B918\"><img src=\"/javax.faces.resource/transparent.gif.xhtml?ln=images\" style=\"position: absolute; top: 0px; left: 0px; width: 100%; height: 31px; cursor: pointer; border: none;\"/></a>,\n",
       " <a href=\"/currency/currency.shtml;jsessionid=1328FDA88448DDCDD5D9136B7CB7B918\"><img src=\"/javax.faces.resource/transparent.gif.xhtml?ln=images\" style=\"position: absolute; top: 0px; left: 0px; width: 100%; height: 31px; cursor: pointer; border: none;\"/></a>,\n",
       " <a href=\"/classification/tables.shtml;jsessionid=1328FDA88448DDCDD5D9136B7CB7B918\"><img src=\"/javax.faces.resource/transparent.gif.xhtml?ln=images\" style=\"position: absolute; top: 0px; left: 0px; width: 100%; height: 31px; cursor: pointer; border: none;\"/></a>,\n",
       " <a href=\"/popularnames/popularnames.htm;jsessionid=1328FDA88448DDCDD5D9136B7CB7B918\"><img src=\"/javax.faces.resource/transparent.gif.xhtml?ln=images\" style=\"position: absolute; top: 0px; left: 0px; width: 100%; height: 31px; cursor: pointer; border: none;\"/></a>,\n",
       " <a href=\"#.xhtml\"><img src=\"/javax.faces.resource/transparent.gif.xhtml?ln=images\" style=\"position: absolute; top: 0px; left: 0px; width: 100%; height: 31px; cursor: pointer; border: none;\"/></a>,\n",
       " <a href=\"/cite.xhtml;jsessionid=1328FDA88448DDCDD5D9136B7CB7B918\"><img src=\"/javax.faces.resource/transparent.gif.xhtml?ln=images\" style=\"position: absolute; top: 0px; left: 0px; width: 100%; height: 31px; cursor: pointer; border: none;\"/></a>,\n",
       " <a href=\"/table3/table3years.htm;jsessionid=1328FDA88448DDCDD5D9136B7CB7B918\"><img src=\"/javax.faces.resource/transparent.gif.xhtml?ln=images\" style=\"position: absolute; top: 0px; left: 0px; width: 100%; height: 31px; cursor: pointer; border: none;\"/></a>,\n",
       " <a href=\"/tables/usctable1.htm;jsessionid=1328FDA88448DDCDD5D9136B7CB7B918\"><img src=\"/javax.faces.resource/transparent.gif.xhtml?ln=images\" style=\"position: absolute; top: 0px; left: 0px; width: 100%; height: 31px; cursor: pointer; border: none;\"/></a>,\n",
       " <a href=\"#.xhtml\"><img src=\"/javax.faces.resource/transparent.gif.xhtml?ln=images\" style=\"position: absolute; top: 0px; left: 0px; width: 100%; height: 31px; cursor: pointer; border: none;\"/></a>,\n",
       " <a href=\"/about_code.xhtml;jsessionid=1328FDA88448DDCDD5D9136B7CB7B918\"><img src=\"/javax.faces.resource/transparent.gif.xhtml?ln=images\" style=\"position: absolute; top: 0px; left: 0px; width: 100%; height: 31px; cursor: pointer; border: none;\"/></a>,\n",
       " <a href=\"/about_classification.xhtml;jsessionid=1328FDA88448DDCDD5D9136B7CB7B918\"><img src=\"/javax.faces.resource/transparent.gif.xhtml?ln=images\" style=\"position: absolute; top: 0px; left: 0px; width: 100%; height: 31px; cursor: pointer; border: none;\"/></a>,\n",
       " <a href=\"/detailed_guide.xhtml;jsessionid=1328FDA88448DDCDD5D9136B7CB7B918\"><img src=\"/javax.faces.resource/transparent.gif.xhtml?ln=images\" style=\"position: absolute; top: 0px; left: 0px; width: 100%; height: 31px; cursor: pointer; border: none;\"/></a>,\n",
       " <a href=\"/faq.xhtml;jsessionid=1328FDA88448DDCDD5D9136B7CB7B918\"><img src=\"/javax.faces.resource/transparent.gif.xhtml?ln=images\" style=\"position: absolute; top: 0px; left: 0px; width: 100%; height: 31px; cursor: pointer; border: none;\"/></a>,\n",
       " <a href=\"/codification/legislation.shtml;jsessionid=1328FDA88448DDCDD5D9136B7CB7B918\"><img src=\"/javax.faces.resource/transparent.gif.xhtml?ln=images\" style=\"position: absolute; top: 0px; left: 0px; width: 100%; height: 31px; cursor: pointer; border: none;\"/></a>,\n",
       " <a href=\"/editorialreclassification/reclassification.html;jsessionid=1328FDA88448DDCDD5D9136B7CB7B918\"><img src=\"/javax.faces.resource/transparent.gif.xhtml?ln=images\" style=\"position: absolute; top: 0px; left: 0px; width: 100%; height: 31px; cursor: pointer; border: none;\"/></a>,\n",
       " <a href=\"/download/download.shtml;jsessionid=1328FDA88448DDCDD5D9136B7CB7B918\"><img src=\"/javax.faces.resource/transparent.gif.xhtml?ln=images\" style=\"position: absolute; top: 0px; left: 0px; width: 100%; height: 31px; cursor: pointer; border: none;\"/></a>,\n",
       " <a href=\"#.xhtml\"><img src=\"/javax.faces.resource/transparent.gif.xhtml?ln=images\" style=\"position: absolute; top: 0px; left: 0px; width: 100%; height: 31px; cursor: pointer; border: none;\"/></a>,\n",
       " <a href=\"https://congress.gov/\"><img src=\"/javax.faces.resource/transparent.gif.xhtml?ln=images\" style=\"position: absolute; top: 0px; left: 0px; width: 100%; height: 31px; cursor: pointer; border: none;\"/></a>,\n",
       " <a href=\"https://www.govinfo.gov\"><img src=\"/javax.faces.resource/transparent.gif.xhtml?ln=images\" style=\"position: absolute; top: 0px; left: 0px; width: 100%; height: 31px; cursor: pointer; border: none;\"/></a>,\n",
       " <a href=\"https://www.govinfo.gov/app/collection/comps/\"><img src=\"/javax.faces.resource/transparent.gif.xhtml?ln=images\" style=\"position: absolute; top: 0px; left: 0px; width: 100%; height: 31px; cursor: pointer; border: none;\"/></a>,\n",
       " <a href=\"resources/USLM-User-Guide.pdf\">User Guide</a>,\n",
       " <a href=\"resources/schemaandcss.zip\">USLM Schema and stylesheet</a>,\n",
       " <a href=\"resources/uscxhtmlcss.zip\">stylesheet</a>,\n",
       " <a href=\"http://www.gpo.gov\">GPO</a>,\n",
       " <a href=\"/currency/currency.shtml\">Currency</a>,\n",
       " <a href=\"priorreleasepoints.htm\">Prior Release Points</a>,\n",
       " <a href=\"annualhistoricalarchives/annualhistoricalarchives.htm\">Annual Historical Archives</a>,\n",
       " <a href=\"releasepoints/us/pl/117/159/xml_uscAll@117-159.zip\" title=\"All USC Titles in XML\">[XML]</a>,\n",
       " <a href=\"releasepoints/us/pl/117/159/htm_uscAll@117-159.zip\" title=\"All USC Titles in XHTML\">[XHTML]</a>,\n",
       " <a href=\"releasepoints/us/pl/117/159/pcc_uscAll@117-159.zip\" title=\"All USC Titles in PCC\">[PCC]</a>,\n",
       " <a href=\"releasepoints/us/pl/117/159/pdf_uscAll@117-159.zip\" title=\"All USC Titles in PDF\">[PDF]</a>,\n",
       " <a class=\"fn\" href=\"#fn\">٭</a>,\n",
       " <a href=\"releasepoints/us/pl/117/159/xml_usc01@117-159.zip\" title=\"Title 1 XML\">[XML]</a>,\n",
       " <a href=\"releasepoints/us/pl/117/159/htm_usc01@117-159.zip\" title=\"Title 1 XHTML\">[XHTML]</a>,\n",
       " <a href=\"releasepoints/us/pl/117/159/pcc_usc01@117-159.zip\" title=\"Title 1 PCC\">[PCC]</a>,\n",
       " <a href=\"releasepoints/us/pl/117/159/pdf_usc01@117-159.zip\" title=\"Title 1 PDF\">[PDF]</a>,\n",
       " <a href=\"releasepoints/us/pl/117/159/xml_usc02@117-159.zip\" title=\"Title 2 XML\">[XML]</a>,\n",
       " <a href=\"releasepoints/us/pl/117/159/htm_usc02@117-159.zip\" title=\"Title 2 XHTML\">[XHTML]</a>,\n",
       " <a href=\"releasepoints/us/pl/117/159/pcc_usc02@117-159.zip\" title=\"Title 2 PCC\">[PCC]</a>,\n",
       " <a href=\"releasepoints/us/pl/117/159/pdf_usc02@117-159.zip\" title=\"Title 2 PDF\">[PDF]</a>,\n",
       " <a class=\"fn\" href=\"#fn\">٭</a>,\n",
       " <a href=\"releasepoints/us/pl/117/159/xml_usc03@117-159.zip\" title=\"Title ? XML\">[XML]</a>,\n",
       " <a href=\"releasepoints/us/pl/117/159/htm_usc03@117-159.zip\" title=\"Title 3 XHTML\">[XHTML]</a>,\n",
       " <a href=\"releasepoints/us/pl/117/159/pcc_usc03@117-159.zip\" title=\"Title 3 PCC\">[PCC]</a>,\n",
       " <a href=\"releasepoints/us/pl/117/159/pdf_usc03@117-159.zip\" title=\"Title 3 PDF\">[PDF]</a>,\n",
       " <a class=\"fn\" href=\"#fn\">٭</a>,\n",
       " <a href=\"releasepoints/us/pl/117/159/xml_usc04@117-159.zip\" title=\"Title 4 XML\">[XML]</a>,\n",
       " <a href=\"releasepoints/us/pl/117/159/htm_usc04@117-159.zip\" title=\"Title 4 XHTML\">[XHTML]</a>,\n",
       " <a href=\"releasepoints/us/pl/117/159/pcc_usc04@117-159.zip\" title=\"Title 4 PCC\">[PCC]</a>,\n",
       " <a href=\"releasepoints/us/pl/117/159/pdf_usc04@117-159.zip\" title=\"Title 4 PDF\">[PDF]</a>,\n",
       " <a class=\"fn\" href=\"#fn\">٭</a>,\n",
       " <a href=\"releasepoints/us/pl/117/159/xml_usc05@117-159.zip\" title=\"Title 5 XML\">[XML]</a>,\n",
       " <a href=\"releasepoints/us/pl/117/159/htm_usc05@117-159.zip\" title=\"Title 5 XHTML\">[XHTML]</a>,\n",
       " <a href=\"releasepoints/us/pl/117/159/pcc_usc05@117-159.zip\" title=\"Title 5 PCC\">[PCC]</a>,\n",
       " <a href=\"releasepoints/us/pl/117/159/pdf_usc05@117-159.zip\" title=\"Title 5 PDF\">[PDF]</a>,\n",
       " <a href=\"releasepoints/us/pl/117/159/xml_usc05a@117-159.zip\" title=\"Title 5 App. XML\">[XML]</a>,\n",
       " <a href=\"releasepoints/us/pl/117/159/htm_usc05a@117-159.zip\" title=\"Title 5 App. XHTML\">[XHTML]</a>,\n",
       " <a href=\"releasepoints/us/pl/117/159/pcc_usc05a@117-159.zip\" title=\"Title 5 App. PCC\">[PCC]</a>,\n",
       " <a href=\"releasepoints/us/pl/117/159/pdf_usc05a@117-159.zip\" title=\"Title 5 App. PDF\">[PDF]</a>,\n",
       " <a href=\"releasepoints/us/pl/117/159/xml_usc06@117-159.zip\" title=\"Title 6 XML\">[XML]</a>,\n",
       " <a href=\"releasepoints/us/pl/117/159/htm_usc06@117-159.zip\" title=\"Title 6 XHTML\">[XHTML]</a>,\n",
       " <a href=\"releasepoints/us/pl/117/159/pcc_usc06@117-159.zip\" title=\"Title 6 PCC\">[PCC]</a>,\n",
       " <a href=\"releasepoints/us/pl/117/159/pdf_usc06@117-159.zip\" title=\"Title 6 PDF\">[PDF]</a>,\n",
       " <a href=\"releasepoints/us/pl/117/159/xml_usc07@117-159.zip\" title=\"Title 7 XML\">[XML]</a>,\n",
       " <a href=\"releasepoints/us/pl/117/159/htm_usc07@117-159.zip\" title=\"Title 7 XHTML\">[XHTML]</a>,\n",
       " <a href=\"releasepoints/us/pl/117/159/pcc_usc07@117-159.zip\" title=\"Title 7 PCC\">[PCC]</a>,\n",
       " <a href=\"releasepoints/us/pl/117/159/pdf_usc07@117-159.zip\" title=\"Title 7 PDF\">[PDF]</a>,\n",
       " <a href=\"releasepoints/us/pl/117/159/xml_usc08@117-159.zip\" title=\"Title 8 XML\">[XML]</a>,\n",
       " <a href=\"releasepoints/us/pl/117/159/htm_usc08@117-159.zip\" title=\"Title 8 XHTML\">[XHTML]</a>,\n",
       " <a href=\"releasepoints/us/pl/117/159/pcc_usc08@117-159.zip\" title=\"Title 8 PCC\">[PCC]</a>,\n",
       " <a href=\"releasepoints/us/pl/117/159/pdf_usc08@117-159.zip\" title=\"Title 8 PDF\">[PDF]</a>,\n",
       " <a class=\"fn\" href=\"#fn\">٭</a>,\n",
       " <a href=\"releasepoints/us/pl/117/159/xml_usc09@117-159.zip\" title=\"Title 9 XML\">[XML]</a>,\n",
       " <a href=\"releasepoints/us/pl/117/159/htm_usc09@117-159.zip\" title=\"Title 9 XHTML\">[XHTML]</a>,\n",
       " <a href=\"releasepoints/us/pl/117/159/pcc_usc09@117-159.zip\" title=\"Title 9 PCC\">[PCC]</a>,\n",
       " <a href=\"releasepoints/us/pl/117/159/pdf_usc09@117-159.zip\" title=\"Title 9 PDF\">[PDF]</a>,\n",
       " <a class=\"fn\" href=\"#fn\">٭</a>,\n",
       " <a href=\"releasepoints/us/pl/117/159/xml_usc10@117-159.zip\" title=\"Title 10 XML\">[XML]</a>,\n",
       " <a href=\"releasepoints/us/pl/117/159/htm_usc10@117-159.zip\" title=\"Title 10 XHTML\">[XHTML]</a>,\n",
       " <a href=\"releasepoints/us/pl/117/159/pcc_usc10@117-159.zip\" title=\"Title 10 PCC\">[PCC]</a>,\n",
       " <a href=\"releasepoints/us/pl/117/159/pdf_usc10@117-159.zip\" title=\"Title 10 PDF\">[PDF]</a>,\n",
       " <a class=\"fn\" href=\"#fn\">٭</a>,\n",
       " <a href=\"releasepoints/us/pl/117/159/xml_usc11@117-159.zip\" title=\"Title 11 XML\">[XML]</a>,\n",
       " <a href=\"releasepoints/us/pl/117/159/htm_usc11@117-159.zip\" title=\"Title 11 XHTML\">[XHTML]</a>,\n",
       " <a href=\"releasepoints/us/pl/117/159/pcc_usc11@117-159.zip\" title=\"Title 11 PCC\">[PCC]</a>,\n",
       " <a href=\"releasepoints/us/pl/117/159/pdf_usc11@117-159.zip\" title=\"Title 11 PDF\">[PDF]</a>,\n",
       " <a href=\"releasepoints/us/pl/117/159/xml_usc11a@117-159.zip\" title=\"Title 11 App.  XML\">[XML]</a>,\n",
       " <a href=\"releasepoints/us/pl/117/159/htm_usc11a@117-159.zip\" title=\"Title 11 App. XHTML\">[XHTML]</a>,\n",
       " <a href=\"releasepoints/us/pl/117/159/pcc_usc11a@117-159.zip\" title=\"Title 11 App. PCC\">[PCC]</a>,\n",
       " <a href=\"releasepoints/us/pl/117/159/pdf_usc11a@117-159.zip\" title=\"Title 11 App. PDF\">[PDF]</a>,\n",
       " <a href=\"releasepoints/us/pl/117/159/xml_usc12@117-159.zip\" title=\"Title 12 XML\">[XML]</a>,\n",
       " <a href=\"releasepoints/us/pl/117/159/htm_usc12@117-159.zip\" title=\"Title 12 XHTML\">[XHTML]</a>,\n",
       " <a href=\"releasepoints/us/pl/117/159/pcc_usc12@117-159.zip\" title=\"Title 12 PCC\">[PCC]</a>,\n",
       " <a href=\"releasepoints/us/pl/117/159/pdf_usc12@117-159.zip\" title=\"Title 12 PDF\">[PDF]</a>,\n",
       " <a class=\"fn\" href=\"#fn\">٭</a>,\n",
       " <a href=\"releasepoints/us/pl/117/159/xml_usc13@117-159.zip\" title=\"Title 13 XML\">[XML]</a>,\n",
       " <a href=\"releasepoints/us/pl/117/159/htm_usc13@117-159.zip\" title=\"Title 13 XHTML\">[XHTML]</a>,\n",
       " <a href=\"releasepoints/us/pl/117/159/pcc_usc13@117-159.zip\" title=\"Title 13 PCC\">[PCC]</a>,\n",
       " <a href=\"releasepoints/us/pl/117/159/pdf_usc13@117-159.zip\" title=\"Title 13 PDF\">[PDF]</a>,\n",
       " <a class=\"fn\" href=\"#fn\">٭</a>,\n",
       " <a href=\"releasepoints/us/pl/117/159/xml_usc14@117-159.zip\" title=\"Title 14 XML\">[XML]</a>,\n",
       " <a href=\"releasepoints/us/pl/117/159/htm_usc14@117-159.zip\" title=\"Title 14 XHTML\">[XHTML]</a>,\n",
       " <a href=\"releasepoints/us/pl/117/159/pcc_usc14@117-159.zip\" title=\"Title 14 PCC\">[PCC]</a>,\n",
       " <a href=\"releasepoints/us/pl/117/159/pdf_usc14@117-159.zip\" title=\"Title 14 PDF\">[PDF]</a>,\n",
       " <a href=\"releasepoints/us/pl/117/159/xml_usc15@117-159.zip\" title=\"Title 15 XML\">[XML]</a>,\n",
       " <a href=\"releasepoints/us/pl/117/159/htm_usc15@117-159.zip\" title=\"Title 15 XHTML\">[XHTML]</a>,\n",
       " <a href=\"releasepoints/us/pl/117/159/pcc_usc15@117-159.zip\" title=\"Title 15 PCC\">[PCC]</a>,\n",
       " <a href=\"releasepoints/us/pl/117/159/pdf_usc15@117-159.zip\" title=\"Title 15 PDF\">[PDF]</a>,\n",
       " <a href=\"releasepoints/us/pl/117/159/xml_usc16@117-159.zip\" title=\"Title 16 XML\">[XML]</a>,\n",
       " <a href=\"releasepoints/us/pl/117/159/htm_usc16@117-159.zip\" title=\"Title 16 XHTML\">[XHTML]</a>,\n",
       " <a href=\"releasepoints/us/pl/117/159/pcc_usc16@117-159.zip\" title=\"Title 16 PCC\">[PCC]</a>,\n",
       " <a href=\"releasepoints/us/pl/117/159/pdf_usc16@117-159.zip\" title=\"Title 16 PDF\">[PDF]</a>,\n",
       " <a class=\"fn\" href=\"#fn\">٭</a>,\n",
       " <a href=\"releasepoints/us/pl/117/159/xml_usc17@117-159.zip\" title=\"Title 17 XML\">[XML]</a>,\n",
       " <a href=\"releasepoints/us/pl/117/159/htm_usc17@117-159.zip\" title=\"Title 17 XHTML\">[XHTML]</a>,\n",
       " <a href=\"releasepoints/us/pl/117/159/pcc_usc17@117-159.zip\" title=\"Title 17 PCC\">[PCC]</a>,\n",
       " <a href=\"releasepoints/us/pl/117/159/pdf_usc17@117-159.zip\" title=\"Title 17 PDF\">[PDF]</a>,\n",
       " <a class=\"fn\" href=\"#fn\">٭</a>,\n",
       " <a href=\"releasepoints/us/pl/117/159/xml_usc18@117-159.zip\" title=\"Title 18 XML\">[XML]</a>,\n",
       " <a href=\"releasepoints/us/pl/117/159/htm_usc18@117-159.zip\" title=\"Title 18 XHTML\">[XHTML]</a>,\n",
       " <a href=\"releasepoints/us/pl/117/159/pcc_usc18@117-159.zip\" title=\"Title 18 PCC\">[PCC]</a>,\n",
       " <a href=\"releasepoints/us/pl/117/159/pdf_usc18@117-159.zip\" title=\"Title 18 PDF\">[PDF]</a>,\n",
       " <a href=\"releasepoints/us/pl/117/159/xml_usc18a@117-159.zip\" title=\"Title 18 App. XML\">[XML]</a>,\n",
       " <a href=\"releasepoints/us/pl/117/159/htm_usc18a@117-159.zip\" title=\"Title 18 App. XHTML\">[XHTML]</a>,\n",
       " <a href=\"releasepoints/us/pl/117/159/pcc_usc18a@117-159.zip\" title=\"Title 18 App. PCC\">[PCC]</a>,\n",
       " <a href=\"releasepoints/us/pl/117/159/pdf_usc18a@117-159.zip\" title=\"Title 18 App. PDF\">[PDF]</a>,\n",
       " <a href=\"releasepoints/us/pl/117/159/xml_usc19@117-159.zip\" title=\"Title 19 XML\">[XML]</a>,\n",
       " <a href=\"releasepoints/us/pl/117/159/htm_usc19@117-159.zip\" title=\"Title 19 XHTML\">[XHTML]</a>,\n",
       " <a href=\"releasepoints/us/pl/117/159/pcc_usc19@117-159.zip\" title=\"Title 19 PCC\">[PCC]</a>,\n",
       " <a href=\"releasepoints/us/pl/117/159/pdf_usc19@117-159.zip\" title=\"Title 19 PDF\">[PDF]</a>,\n",
       " <a href=\"releasepoints/us/pl/117/159/xml_usc20@117-159.zip\" title=\"Title 20 XML\">[XML]</a>,\n",
       " <a href=\"releasepoints/us/pl/117/159/htm_usc20@117-159.zip\" title=\"Title 20 XHTML\">[XHTML]</a>,\n",
       " <a href=\"releasepoints/us/pl/117/159/pcc_usc20@117-159.zip\" title=\"Title 20 PCC\">[PCC]</a>,\n",
       " <a href=\"releasepoints/us/pl/117/159/pdf_usc20@117-159.zip\" title=\"Title 20 PDF\">[PDF]</a>,\n",
       " <a href=\"releasepoints/us/pl/117/159/xml_usc21@117-159.zip\" title=\"Title 21 XML\">[XML]</a>,\n",
       " <a href=\"releasepoints/us/pl/117/159/htm_usc21@117-159.zip\" title=\"Title 21 XHTML\">[XHTML]</a>,\n",
       " <a href=\"releasepoints/us/pl/117/159/pcc_usc21@117-159.zip\" title=\"Title 21 PCC\">[PCC]</a>,\n",
       " <a href=\"releasepoints/us/pl/117/159/pdf_usc21@117-159.zip\" title=\"Title 21 PDF\">[PDF]</a>,\n",
       " <a href=\"releasepoints/us/pl/117/159/xml_usc22@117-159.zip\" title=\"Title 22 XML\">[XML]</a>,\n",
       " <a href=\"releasepoints/us/pl/117/159/htm_usc22@117-159.zip\" title=\"Title 22 XHTML\">[XHTML]</a>,\n",
       " <a href=\"releasepoints/us/pl/117/159/pcc_usc22@117-159.zip\" title=\"Title 22 PCC\">[PCC]</a>,\n",
       " <a href=\"releasepoints/us/pl/117/159/pdf_usc22@117-159.zip\" title=\"Title 22 PDF\">[PDF]</a>,\n",
       " <a class=\"fn\" href=\"#fn\">٭</a>,\n",
       " <a href=\"releasepoints/us/pl/117/159/xml_usc23@117-159.zip\" title=\"Title 23 XML\">[XML]</a>,\n",
       " <a href=\"releasepoints/us/pl/117/159/htm_usc23@117-159.zip\" title=\"Title 23 XHTML\">[XHTML]</a>,\n",
       " <a href=\"releasepoints/us/pl/117/159/pcc_usc23@117-159.zip\" title=\"Title 23 PCC\">[PCC]</a>,\n",
       " <a href=\"releasepoints/us/pl/117/159/pdf_usc23@117-159.zip\" title=\"Title 23 PDF\">[PDF]</a>,\n",
       " <a href=\"releasepoints/us/pl/117/159/xml_usc24@117-159.zip\" title=\"Title 24 XML\">[XML]</a>,\n",
       " <a href=\"releasepoints/us/pl/117/159/htm_usc24@117-159.zip\" title=\"Title 24 XHTML\">[XHTML]</a>,\n",
       " <a href=\"releasepoints/us/pl/117/159/pcc_usc24@117-159.zip\" title=\"Title 24 PCC\">[PCC]</a>,\n",
       " <a href=\"releasepoints/us/pl/117/159/pdf_usc24@117-159.zip\" title=\"Title 24 PDF\">[PDF]</a>,\n",
       " <a href=\"releasepoints/us/pl/117/159/xml_usc25@117-159.zip\" title=\"Title 25 XML\">[XML]</a>,\n",
       " <a href=\"releasepoints/us/pl/117/159/htm_usc25@117-159.zip\" title=\"Title 25 XHTML\">[XHTML]</a>,\n",
       " <a href=\"releasepoints/us/pl/117/159/pcc_usc25@117-159.zip\" title=\"Title 25 PCC\">[PCC]</a>,\n",
       " <a href=\"releasepoints/us/pl/117/159/pdf_usc25@117-159.zip\" title=\"Title 25 PDF\">[PDF]</a>,\n",
       " <a href=\"releasepoints/us/pl/117/159/xml_usc26@117-159.zip\" title=\"Title 26 XML\">[XML]</a>,\n",
       " <a href=\"releasepoints/us/pl/117/159/htm_usc26@117-159.zip\" title=\"Title 26 XHTML\">[XHTML]</a>,\n",
       " <a href=\"releasepoints/us/pl/117/159/pcc_usc26@117-159.zip\" title=\"Title 26 PCC\">[PCC]</a>,\n",
       " <a href=\"releasepoints/us/pl/117/159/pdf_usc26@117-159.zip\" title=\"Title 26 PDF\">[PDF]</a>,\n",
       " <a href=\"releasepoints/us/pl/117/159/xml_usc27@117-159.zip\" title=\"Title 27 XML\">[XML]</a>,\n",
       " <a href=\"releasepoints/us/pl/117/159/htm_usc27@117-159.zip\" title=\"Title 27 XHTML\">[XHTML]</a>,\n",
       " <a href=\"releasepoints/us/pl/117/159/pcc_usc27@117-159.zip\" title=\"Title 27 PCC\">[PCC]</a>,\n",
       " <a href=\"releasepoints/us/pl/117/159/pdf_usc27@117-159.zip\" title=\"Title 27 PDF\">[PDF]</a>,\n",
       " <a class=\"fn\" href=\"#fn\">٭</a>,\n",
       " <a href=\"releasepoints/us/pl/117/159/xml_usc28@117-159.zip\" title=\"Title 28 XML\">[XML]</a>,\n",
       " <a href=\"releasepoints/us/pl/117/159/htm_usc28@117-159.zip\" title=\"Title 28 XHTML\">[XHTML]</a>,\n",
       " <a href=\"releasepoints/us/pl/117/159/pcc_usc28@117-159.zip\" title=\"Title 28 PCC\">[PCC]</a>,\n",
       " <a href=\"releasepoints/us/pl/117/159/pdf_usc28@117-159.zip\" title=\"Title 28 PDF\">[PDF]</a>,\n",
       " <a href=\"releasepoints/us/pl/117/159/xml_usc28a@117-159.zip\" title=\"Title 28 App. XML\">[XML]</a>,\n",
       " <a href=\"releasepoints/us/pl/117/159/htm_usc28a@117-159.zip\" title=\"Title 28 App. XHTML\">[XHTML]</a>,\n",
       " <a href=\"releasepoints/us/pl/117/159/pcc_usc28a@117-159.zip\" title=\"Title 28 App. PCC\">[PCC]</a>,\n",
       " <a href=\"releasepoints/us/pl/117/159/pdf_usc28a@117-159.zip\" title=\"Title 28 App. PDF\">[PDF]</a>,\n",
       " <a href=\"releasepoints/us/pl/117/159/xml_usc29@117-159.zip\" title=\"Title 29 XML\">[XML]</a>,\n",
       " <a href=\"releasepoints/us/pl/117/159/htm_usc29@117-159.zip\" title=\"Title 29 XHTML\">[XHTML]</a>,\n",
       " <a href=\"releasepoints/us/pl/117/159/pcc_usc29@117-159.zip\" title=\"Title 29 PCC\">[PCC]</a>,\n",
       " <a href=\"releasepoints/us/pl/117/159/pdf_usc29@117-159.zip\" title=\"Title 29 PDF\">[PDF]</a>,\n",
       " <a href=\"releasepoints/us/pl/117/159/xml_usc30@117-159.zip\" title=\"Title 30 XML\">[XML]</a>,\n",
       " <a href=\"releasepoints/us/pl/117/159/htm_usc30@117-159.zip\" title=\"Title 30 XHTML\">[XHTML]</a>,\n",
       " <a href=\"releasepoints/us/pl/117/159/pcc_usc30@117-159.zip\" title=\"Title 30 PCC\">[PCC]</a>,\n",
       " <a href=\"releasepoints/us/pl/117/159/pdf_usc30@117-159.zip\" title=\"Title 30 PDF\">[PDF]</a>,\n",
       " <a class=\"fn\" href=\"#fn\">٭</a>,\n",
       " <a href=\"releasepoints/us/pl/117/159/xml_usc31@117-159.zip\" title=\"Title 31 XML\">[XML]</a>,\n",
       " <a href=\"releasepoints/us/pl/117/159/htm_usc31@117-159.zip\" title=\"Title 31 XHTML\">[XHTML]</a>,\n",
       " <a href=\"releasepoints/us/pl/117/159/pcc_usc31@117-159.zip\" title=\"Title 31 PCC\">[PCC]</a>,\n",
       " <a href=\"releasepoints/us/pl/117/159/pdf_usc31@117-159.zip\" title=\"Title 31 PDF\">[PDF]</a>,\n",
       " <a class=\"fn\" href=\"#fn\">٭</a>,\n",
       " <a href=\"releasepoints/us/pl/117/159/xml_usc32@117-159.zip\" title=\"Title 32 XML\">[XML]</a>,\n",
       " <a href=\"releasepoints/us/pl/117/159/htm_usc32@117-159.zip\" title=\"Title 32 XHTML\">[XHTML]</a>,\n",
       " <a href=\"releasepoints/us/pl/117/159/pcc_usc32@117-159.zip\" title=\"Title 32 PCC\">[PCC]</a>,\n",
       " <a href=\"releasepoints/us/pl/117/159/pdf_usc32@117-159.zip\" title=\"Title 32 PDF\">[PDF]</a>,\n",
       " <a href=\"releasepoints/us/pl/117/159/xml_usc33@117-159.zip\" title=\"Title 33 XML\">[XML]</a>,\n",
       " <a href=\"releasepoints/us/pl/117/159/htm_usc33@117-159.zip\" title=\"Title 33 XHTML\">[XHTML]</a>,\n",
       " <a href=\"releasepoints/us/pl/117/159/pcc_usc33@117-159.zip\" title=\"Title 33 PCC\">[PCC]</a>,\n",
       " <a href=\"releasepoints/us/pl/117/159/pdf_usc33@117-159.zip\" title=\"Title 33 PDF\">[PDF]</a>,\n",
       " <a href=\"releasepoints/us/pl/117/159/xml_usc34@117-159.zip\" title=\"Title 34 XML\">[XML]</a>,\n",
       " <a href=\"releasepoints/us/pl/117/159/htm_usc34@117-159.zip\" title=\"Title 34 XHTML\">[XHTML]</a>,\n",
       " <a href=\"releasepoints/us/pl/117/159/pcc_usc34@117-159.zip\" title=\"Title 34 PCC\">[PCC]</a>,\n",
       " <a href=\"releasepoints/us/pl/117/159/pdf_usc34@117-159.zip\" title=\"Title 34 PDF\">[PDF]</a>,\n",
       " <a class=\"fn\" href=\"#fn\">٭</a>,\n",
       " <a href=\"releasepoints/us/pl/117/159/xml_usc35@117-159.zip\" title=\"Title 35 XML\">[XML]</a>,\n",
       " <a href=\"releasepoints/us/pl/117/159/htm_usc35@117-159.zip\" title=\"Title 35 XHTML\">[XHTML]</a>,\n",
       " <a href=\"releasepoints/us/pl/117/159/pcc_usc35@117-159.zip\" title=\"Title 35 PCC\">[PCC]</a>,\n",
       " <a href=\"releasepoints/us/pl/117/159/pdf_usc35@117-159.zip\" title=\"Title 35 PDF\">[PDF]</a>,\n",
       " <a class=\"fn\" href=\"#fn\">٭</a>,\n",
       " <a href=\"releasepoints/us/pl/117/159/xml_usc36@117-159.zip\" title=\"Title 36 XML\">[XML]</a>,\n",
       " <a href=\"releasepoints/us/pl/117/159/htm_usc36@117-159.zip\" title=\"Title 36 XHTML\">[XHTML]</a>,\n",
       " <a href=\"releasepoints/us/pl/117/159/pcc_usc36@117-159.zip\" title=\"Title 36 PCC\">[PCC]</a>,\n",
       " <a href=\"releasepoints/us/pl/117/159/pdf_usc36@117-159.zip\" title=\"Title 36 PDF\">[PDF]</a>,\n",
       " <a class=\"fn\" href=\"#fn\">٭</a>,\n",
       " <a href=\"releasepoints/us/pl/117/159/xml_usc37@117-159.zip\" title=\"Title 37 XML\">[XML]</a>,\n",
       " <a href=\"releasepoints/us/pl/117/159/htm_usc37@117-159.zip\" title=\"Title 37 XHTML\">[XHTML]</a>,\n",
       " <a href=\"releasepoints/us/pl/117/159/pcc_usc37@117-159.zip\" title=\"Title 37 PCC\">[PCC]</a>,\n",
       " <a href=\"releasepoints/us/pl/117/159/pdf_usc37@117-159.zip\" title=\"Title 37 PDF\">[PDF]</a>,\n",
       " <a class=\"fn\" href=\"#fn\">٭</a>,\n",
       " <a href=\"releasepoints/us/pl/117/159/xml_usc38@117-159.zip\" title=\"Title 38 XML\">[XML]</a>,\n",
       " <a href=\"releasepoints/us/pl/117/159/htm_usc38@117-159.zip\" title=\"Title 38 XHTML\">[XHTML]</a>,\n",
       " <a href=\"releasepoints/us/pl/117/159/pcc_usc38@117-159.zip\" title=\"Title 38 PCC\">[PCC]</a>,\n",
       " <a href=\"releasepoints/us/pl/117/159/pdf_usc38@117-159.zip\" title=\"Title 38 PDF\">[PDF]</a>,\n",
       " <a class=\"fn\" href=\"#fn\">٭</a>,\n",
       " <a href=\"releasepoints/us/pl/117/159/xml_usc39@117-159.zip\" title=\"Title 39 XML\">[XML]</a>,\n",
       " <a href=\"releasepoints/us/pl/117/159/htm_usc39@117-159.zip\" title=\"Title 39 XHTML\">[XHTML]</a>,\n",
       " <a href=\"releasepoints/us/pl/117/159/pcc_usc39@117-159.zip\" title=\"Title 39 PCC\">[PCC]</a>,\n",
       " <a href=\"releasepoints/us/pl/117/159/pdf_usc39@117-159.zip\" title=\"Title 39 PDF\">[PDF]</a>,\n",
       " <a class=\"fn\" href=\"#fn\">٭</a>,\n",
       " <a href=\"releasepoints/us/pl/117/159/xml_usc40@117-159.zip\" title=\"Title 40 XML\">[XML]</a>,\n",
       " <a href=\"releasepoints/us/pl/117/159/htm_usc40@117-159.zip\" title=\"Title 40 XHTML\">[XHTML]</a>,\n",
       " <a href=\"releasepoints/us/pl/117/159/pcc_usc40@117-159.zip\" title=\"Title 40 PCC\">[PCC]</a>,\n",
       " <a href=\"releasepoints/us/pl/117/159/pdf_usc40@117-159.zip\" title=\"Title 40 PDF\">[PDF]</a>,\n",
       " <a class=\"fn\" href=\"#fn\">٭</a>,\n",
       " <a href=\"releasepoints/us/pl/117/159/xml_usc41@117-159.zip\" title=\"Title 41 XML\">[XML]</a>,\n",
       " <a href=\"releasepoints/us/pl/117/159/htm_usc41@117-159.zip\" title=\"Title 41 XHTML\">[XHTML]</a>,\n",
       " <a href=\"releasepoints/us/pl/117/159/pcc_usc41@117-159.zip\" title=\"Title 41 PCC\">[PCC]</a>,\n",
       " <a href=\"releasepoints/us/pl/117/159/pdf_usc41@117-159.zip\" title=\"Title 41 PDF\">[PDF]</a>,\n",
       " <a href=\"releasepoints/us/pl/117/159/xml_usc42@117-159.zip\" title=\"Title 42 XML\">[XML]</a>,\n",
       " <a href=\"releasepoints/us/pl/117/159/htm_usc42@117-159.zip\" title=\"Title 42 XHTML\">[XHTML]</a>,\n",
       " <a href=\"releasepoints/us/pl/117/159/pcc_usc42@117-159.zip\" title=\"Title 42 PCC\">[PCC]</a>,\n",
       " <a href=\"releasepoints/us/pl/117/159/pdf_usc42@117-159.zip\" title=\"Title 42 PDF\">[PDF]</a>,\n",
       " <a href=\"releasepoints/us/pl/117/159/xml_usc43@117-159.zip\" title=\"Title 43 XML\">[XML]</a>,\n",
       " <a href=\"releasepoints/us/pl/117/159/htm_usc43@117-159.zip\" title=\"Title 43 XHTML\">[XHTML]</a>,\n",
       " <a href=\"releasepoints/us/pl/117/159/pcc_usc43@117-159.zip\" title=\"Title 43 PCC\">[PCC]</a>,\n",
       " <a href=\"releasepoints/us/pl/117/159/pdf_usc43@117-159.zip\" title=\"Title 43 PDF\">[PDF]</a>,\n",
       " <a class=\"fn\" href=\"#fn\">٭</a>,\n",
       " <a href=\"releasepoints/us/pl/117/159/xml_usc44@117-159.zip\" title=\"Title 44 XML\">[XML]</a>,\n",
       " <a href=\"releasepoints/us/pl/117/159/htm_usc44@117-159.zip\" title=\"Title 44 XHTML\">[XHTML]</a>,\n",
       " <a href=\"releasepoints/us/pl/117/159/pcc_usc44@117-159.zip\" title=\"Title 44 PCC\">[PCC]</a>,\n",
       " <a href=\"releasepoints/us/pl/117/159/pdf_usc44@117-159.zip\" title=\"Title 44 PDF\">[PDF]</a>,\n",
       " <a href=\"releasepoints/us/pl/117/159/xml_usc45@117-159.zip\" title=\"Title 45 XML\">[XML]</a>,\n",
       " <a href=\"releasepoints/us/pl/117/159/htm_usc45@117-159.zip\" title=\"Title 45 XHTML\">[XHTML]</a>,\n",
       " <a href=\"releasepoints/us/pl/117/159/pcc_usc45@117-159.zip\" title=\"Title 45 PCC\">[PCC]</a>,\n",
       " <a href=\"releasepoints/us/pl/117/159/pdf_usc45@117-159.zip\" title=\"Title 45 PDF\">[PDF]</a>,\n",
       " <a class=\"fn\" href=\"#fn\">٭</a>,\n",
       " <a href=\"releasepoints/us/pl/117/159/xml_usc46@117-159.zip\" title=\"Title 46 XML\">[XML]</a>,\n",
       " <a href=\"releasepoints/us/pl/117/159/htm_usc46@117-159.zip\" title=\"Title 46 XHTML\">[XHTML]</a>,\n",
       " <a href=\"releasepoints/us/pl/117/159/pcc_usc46@117-159.zip\" title=\"Title 46 PCC\">[PCC]</a>,\n",
       " <a href=\"releasepoints/us/pl/117/159/pdf_usc46@117-159.zip\" title=\"Title 46 PDF\">[PDF]</a>,\n",
       " <a href=\"releasepoints/us/pl/117/159/xml_usc47@117-159.zip\" title=\"Title 47 XML\">[XML]</a>,\n",
       " <a href=\"releasepoints/us/pl/117/159/htm_usc47@117-159.zip\" title=\"Title 47 XHTML\">[XHTML]</a>,\n",
       " <a href=\"releasepoints/us/pl/117/159/pcc_usc47@117-159.zip\" title=\"Title 47 PCC\">[PCC]</a>,\n",
       " <a href=\"releasepoints/us/pl/117/159/pdf_usc47@117-159.zip\" title=\"Title 47 PDF\">[PDF]</a>,\n",
       " <a href=\"releasepoints/us/pl/117/159/xml_usc48@117-159.zip\" title=\"Title 48 XML\">[XML]</a>,\n",
       " <a href=\"releasepoints/us/pl/117/159/htm_usc48@117-159.zip\" title=\"Title 48 XHTML\">[XHTML]</a>,\n",
       " <a href=\"releasepoints/us/pl/117/159/pcc_usc48@117-159.zip\" title=\"Title 48 PCC\">[PCC]</a>,\n",
       " <a href=\"releasepoints/us/pl/117/159/pdf_usc48@117-159.zip\" title=\"Title 48 PDF\">[PDF]</a>,\n",
       " <a class=\"fn\" href=\"#fn\">٭</a>,\n",
       " <a href=\"releasepoints/us/pl/117/159/xml_usc49@117-159.zip\" title=\"Title 49 XML\">[XML]</a>,\n",
       " <a href=\"releasepoints/us/pl/117/159/htm_usc49@117-159.zip\" title=\"Title 49 XHTML\">[XHTML]</a>,\n",
       " <a href=\"releasepoints/us/pl/117/159/pcc_usc49@117-159.zip\" title=\"Title 49 PCC\">[PCC]</a>,\n",
       " <a href=\"releasepoints/us/pl/117/159/pdf_usc49@117-159.zip\" title=\"Title 49 PDF\">[PDF]</a>,\n",
       " <a href=\"releasepoints/us/pl/117/159/xml_usc50@117-159.zip\" title=\"Title 50 XML\">[XML]</a>,\n",
       " <a href=\"releasepoints/us/pl/117/159/htm_usc50@117-159.zip\" title=\"Title 50 XHTML\">[XHTML]</a>,\n",
       " <a href=\"releasepoints/us/pl/117/159/pcc_usc50@117-159.zip\" title=\"Title 50 PCC\">[PCC]</a>,\n",
       " <a href=\"releasepoints/us/pl/117/159/pdf_usc50@117-159.zip\" title=\"Title 50 PDF\">[PDF]</a>,\n",
       " <a href=\"releasepoints/us/pl/117/159/xml_usc50a@117-159.zip\" title=\"Title 50 App. XML\">[XML]</a>,\n",
       " <a href=\"releasepoints/us/pl/117/159/htm_usc50a@117-159.zip\" title=\"Title 50 App. XHTML\">[XHTML]</a>,\n",
       " <a href=\"releasepoints/us/pl/117/159/pcc_usc50a@117-159.zip\" title=\"Title 50 App. PCC\">[PCC]</a>,\n",
       " <a href=\"releasepoints/us/pl/117/159/pdf_usc50a@117-159.zip\" title=\"Title 50 App. PDF\">[PDF]</a>,\n",
       " <a class=\"fn\" href=\"#fn\">٭</a>,\n",
       " <a href=\"releasepoints/us/pl/117/159/xml_usc51@117-159.zip\" title=\"Title 51 XML\">[XML]</a>,\n",
       " <a href=\"releasepoints/us/pl/117/159/htm_usc51@117-159.zip\" title=\"Title 51 XHTML\">[XHTML]</a>,\n",
       " <a href=\"releasepoints/us/pl/117/159/pcc_usc51@117-159.zip\" title=\"Title 51 PCC\">[PCC]</a>,\n",
       " <a href=\"releasepoints/us/pl/117/159/pdf_usc51@117-159.zip\" title=\"Title 51 PDF\">[PDF]</a>,\n",
       " <a href=\"releasepoints/us/pl/117/159/xml_usc52@117-159.zip\" title=\"Title 52 XML\">[XML]</a>,\n",
       " <a href=\"releasepoints/us/pl/117/159/htm_usc52@117-159.zip\" title=\"Title 52 XHTML\">[XHTML]</a>,\n",
       " <a href=\"releasepoints/us/pl/117/159/pcc_usc52@117-159.zip\" title=\"Title 52 PCC\">[PCC]</a>,\n",
       " <a href=\"releasepoints/us/pl/117/159/pdf_usc52@117-159.zip\" title=\"Title 52 PDF\">[PDF]</a>,\n",
       " <a href=\"releasepoints/us/pl/117/159/xml_usc53@117-159.zip\" title=\"Title 53 XML\">[XML]</a>,\n",
       " <a href=\"releasepoints/us/pl/117/159/htm_usc53@117-159.zip\" title=\"Title 53 XHTML\">[XHTML]</a>,\n",
       " <a href=\"releasepoints/us/pl/117/159/pcc_usc53@117-159.zip\" title=\"Title 53 PCC\">[PCC]</a>,\n",
       " <a href=\"releasepoints/us/pl/117/159/pdf_usc53@117-159.zip\" title=\"Title 53 PDF\">[PDF]</a>,\n",
       " <a class=\"fn\" href=\"#fn\">٭</a>,\n",
       " <a href=\"releasepoints/us/pl/117/159/xml_usc54@117-159.zip\" title=\"Title 54 XML\">[XML]</a>,\n",
       " <a href=\"releasepoints/us/pl/117/159/htm_usc54@117-159.zip\" title=\"Title 54 XHTML\">[XHTML]</a>,\n",
       " <a href=\"releasepoints/us/pl/117/159/pcc_usc54@117-159.zip\" title=\"Title 54 PCC\">[PCC]</a>,\n",
       " <a href=\"releasepoints/us/pl/117/159/pdf_usc54@117-159.zip\" title=\"Title 54 PDF\">[PDF]</a>,\n",
       " <a href=\"/about_office.xhtml;jsessionid=1328FDA88448DDCDD5D9136B7CB7B918\">About the Office</a>,\n",
       " <a href=\"/privacy_policy.xhtml;jsessionid=1328FDA88448DDCDD5D9136B7CB7B918\">Privacy Policy</a>]"
      ]
     },
     "execution_count": 115,
     "metadata": {},
     "output_type": "execute_result"
    }
   ],
   "source": [
    "# your code here\n",
    "c=response = requests.get(url)\n",
    "c=c.content\n",
    "parsed_html4 = bs4.BeautifulSoup(c, \"html.parser\")\n",
    "code_us=parsed_html4.find_all('a')\n",
    "code_us"
   ]
  },
  {
   "cell_type": "markdown",
   "metadata": {},
   "source": [
    "#### Find a Python list with the top ten FBI's Most Wanted names."
   ]
  },
  {
   "cell_type": "code",
   "execution_count": null,
   "metadata": {},
   "outputs": [],
   "source": [
    "# This is the url you will scrape in this exercise\n",
    "url = 'https://www.fbi.gov/wanted/topten'"
   ]
  },
  {
   "cell_type": "code",
   "execution_count": null,
   "metadata": {},
   "outputs": [],
   "source": [
    "# your code here"
   ]
  },
  {
   "cell_type": "markdown",
   "metadata": {},
   "source": [
    "####  Display the 20 latest earthquakes info (date, time, latitude, longitude and region name) by the EMSC as a pandas dataframe."
   ]
  },
  {
   "cell_type": "code",
   "execution_count": null,
   "metadata": {},
   "outputs": [],
   "source": [
    "# This is the url you will scrape in this exercise\n",
    "url = 'https://www.emsc-csem.org/Earthquake/'"
   ]
  },
  {
   "cell_type": "code",
   "execution_count": null,
   "metadata": {},
   "outputs": [],
   "source": [
    "# your code here"
   ]
  },
  {
   "cell_type": "markdown",
   "metadata": {},
   "source": [
    "#### Count the number of tweets by a given Twitter account.\n",
    "Ask the user for the handle (@handle) of a twitter account. You will need to include a ***try/except block*** for account names not found. \n",
    "<br>***Hint:*** the program should count the number of tweets for any provided account."
   ]
  },
  {
   "cell_type": "code",
   "execution_count": null,
   "metadata": {},
   "outputs": [],
   "source": [
    "# This is the url you will scrape in this exercise \n",
    "# You will need to add the account credentials to this url\n",
    "url = 'https://twitter.com/'"
   ]
  },
  {
   "cell_type": "code",
   "execution_count": null,
   "metadata": {},
   "outputs": [],
   "source": [
    "# your code here"
   ]
  },
  {
   "cell_type": "markdown",
   "metadata": {},
   "source": [
    "#### Number of followers of a given twitter account\n",
    "Ask the user for the handle (@handle) of a twitter account. You will need to include a ***try/except block*** for account names not found. \n",
    "<br>***Hint:*** the program should count the followers for any provided account."
   ]
  },
  {
   "cell_type": "code",
   "execution_count": null,
   "metadata": {},
   "outputs": [],
   "source": [
    "# This is the url you will scrape in this exercise \n",
    "# You will need to add the account credentials to this url\n",
    "url = 'https://twitter.com/'"
   ]
  },
  {
   "cell_type": "code",
   "execution_count": null,
   "metadata": {},
   "outputs": [],
   "source": [
    "# your code here"
   ]
  },
  {
   "cell_type": "markdown",
   "metadata": {},
   "source": [
    "#### List all language names and number of related articles in the order they appear in wikipedia.org."
   ]
  },
  {
   "cell_type": "code",
   "execution_count": null,
   "metadata": {},
   "outputs": [],
   "source": [
    "# This is the url you will scrape in this exercise\n",
    "url = 'https://www.wikipedia.org/'"
   ]
  },
  {
   "cell_type": "code",
   "execution_count": null,
   "metadata": {},
   "outputs": [],
   "source": [
    "# your code here"
   ]
  },
  {
   "cell_type": "markdown",
   "metadata": {},
   "source": [
    "#### A list with the different kind of datasets available in data.gov.uk."
   ]
  },
  {
   "cell_type": "code",
   "execution_count": null,
   "metadata": {},
   "outputs": [],
   "source": [
    "# This is the url you will scrape in this exercise\n",
    "url = 'https://data.gov.uk/'"
   ]
  },
  {
   "cell_type": "code",
   "execution_count": null,
   "metadata": {},
   "outputs": [],
   "source": [
    "# your code here"
   ]
  },
  {
   "cell_type": "markdown",
   "metadata": {},
   "source": [
    "#### Display the top 10 languages by number of native speakers stored in a pandas dataframe."
   ]
  },
  {
   "cell_type": "code",
   "execution_count": null,
   "metadata": {},
   "outputs": [],
   "source": [
    "# This is the url you will scrape in this exercise\n",
    "url = 'https://en.wikipedia.org/wiki/List_of_languages_by_number_of_native_speakers'"
   ]
  },
  {
   "cell_type": "code",
   "execution_count": null,
   "metadata": {},
   "outputs": [],
   "source": [
    "# your code here"
   ]
  },
  {
   "cell_type": "markdown",
   "metadata": {},
   "source": [
    "## Bonus\n",
    "#### Scrape a certain number of tweets of a given Twitter account."
   ]
  },
  {
   "cell_type": "code",
   "execution_count": null,
   "metadata": {},
   "outputs": [],
   "source": [
    "# This is the url you will scrape in this exercise \n",
    "# You will need to add the account credentials to this url\n",
    "url = 'https://twitter.com/'"
   ]
  },
  {
   "cell_type": "code",
   "execution_count": null,
   "metadata": {},
   "outputs": [],
   "source": [
    "# your code here"
   ]
  },
  {
   "cell_type": "markdown",
   "metadata": {},
   "source": [
    "#### Display IMDB's top 250 data (movie name, initial release, director name and stars) as a pandas dataframe."
   ]
  },
  {
   "cell_type": "code",
   "execution_count": null,
   "metadata": {},
   "outputs": [],
   "source": [
    "# This is the url you will scrape in this exercise \n",
    "url = 'https://www.imdb.com/chart/top'"
   ]
  },
  {
   "cell_type": "code",
   "execution_count": null,
   "metadata": {},
   "outputs": [],
   "source": [
    "# your code here"
   ]
  },
  {
   "cell_type": "markdown",
   "metadata": {},
   "source": [
    "#### Display the movie name, year and a brief summary of the top 10 random movies (IMDB) as a pandas dataframe."
   ]
  },
  {
   "cell_type": "code",
   "execution_count": null,
   "metadata": {},
   "outputs": [],
   "source": [
    "#This is the url you will scrape in this exercise\n",
    "url = 'http://www.imdb.com/chart/top'"
   ]
  },
  {
   "cell_type": "code",
   "execution_count": null,
   "metadata": {},
   "outputs": [],
   "source": [
    "# your code here"
   ]
  },
  {
   "cell_type": "markdown",
   "metadata": {},
   "source": [
    "#### Find the live weather report (temperature, wind speed, description and weather) of a given city."
   ]
  },
  {
   "cell_type": "code",
   "execution_count": null,
   "metadata": {},
   "outputs": [],
   "source": [
    "#https://openweathermap.org/current\n",
    "city = input('Enter the city: ')\n",
    "url = 'http://api.openweathermap.org/data/2.5/weather?'+'q='+city+'&APPID=b35975e18dc93725acb092f7272cc6b8&units=metric'"
   ]
  },
  {
   "cell_type": "code",
   "execution_count": null,
   "metadata": {},
   "outputs": [],
   "source": [
    "# your code here"
   ]
  },
  {
   "cell_type": "markdown",
   "metadata": {},
   "source": [
    "#### Find the book name, price and stock availability as a pandas dataframe."
   ]
  },
  {
   "cell_type": "code",
   "execution_count": null,
   "metadata": {},
   "outputs": [],
   "source": [
    "# This is the url you will scrape in this exercise. \n",
    "# It is a fictional bookstore created to be scraped. \n",
    "url = 'http://books.toscrape.com/'"
   ]
  },
  {
   "cell_type": "code",
   "execution_count": null,
   "metadata": {},
   "outputs": [],
   "source": [
    "# your code here"
   ]
  }
 ],
 "metadata": {
  "kernelspec": {
   "display_name": "Python [conda env:m1-ih]",
   "language": "python",
   "name": "conda-env-m1-ih-py"
  },
  "language_info": {
   "codemirror_mode": {
    "name": "ipython",
    "version": 3
   },
   "file_extension": ".py",
   "mimetype": "text/x-python",
   "name": "python",
   "nbconvert_exporter": "python",
   "pygments_lexer": "ipython3",
   "version": "3.9.12"
  }
 },
 "nbformat": 4,
 "nbformat_minor": 2
}
