{
 "cells": [
  {
   "cell_type": "markdown",
   "metadata": {},
   "source": [
    "# Web Scraping Lab\n",
    "\n",
    "You will find in this notebook some scrapy exercises to practise your scraping skills.\n",
    "\n",
    "**Tips:**\n",
    "\n",
    "- Check the response status code for each request to ensure you have obtained the intended content.\n",
    "- Print the response text in each request to understand the kind of info you are getting and its format.\n",
    "- Check for patterns in the response text to extract the data/info requested in each question.\n",
    "- Visit the urls below and take a look at their source code through Chrome DevTools. You'll need to identify the html tags, special class names, etc used in the html content you are expected to extract.\n",
    "\n",
    "**Resources**:\n",
    "- [Requests library](http://docs.python-requests.org/en/master/#the-user-guide)\n",
    "- [Beautiful Soup Doc](https://www.crummy.com/software/BeautifulSoup/bs4/doc/)\n",
    "- [Urllib](https://docs.python.org/3/library/urllib.html#module-urllib)\n",
    "- [re lib](https://docs.python.org/3/library/re.html)\n",
    "- [lxml lib](https://lxml.de/)\n",
    "- [Scrapy](https://scrapy.org/)\n",
    "- [List of HTTP status codes](https://en.wikipedia.org/wiki/List_of_HTTP_status_codes)\n",
    "- [HTML basics](http://www.simplehtmlguide.com/cheatsheet.php)\n",
    "- [CSS basics](https://www.cssbasics.com/#page_start)"
   ]
  },
  {
   "cell_type": "markdown",
   "metadata": {},
   "source": [
    "#### Below are the libraries and modules you may need. `requests`,  `BeautifulSoup` and `pandas` are already imported for you. If you prefer to use additional libraries feel free to do it."
   ]
  },
  {
   "cell_type": "code",
   "execution_count": 1,
   "metadata": {},
   "outputs": [],
   "source": [
    "import requests\n",
    "import bs4\n",
    "import pandas as pd"
   ]
  },
  {
   "cell_type": "markdown",
   "metadata": {},
   "source": [
    "#### Download, parse (using BeautifulSoup), and print the content from the Trending Developers page from GitHub:"
   ]
  },
  {
   "cell_type": "code",
   "execution_count": 2,
   "metadata": {},
   "outputs": [],
   "source": [
    "# This is the url you will scrape in this exercise\n",
    "url = 'https://github.com/trending/developers'\n"
   ]
  },
  {
   "cell_type": "code",
   "execution_count": 3,
   "metadata": {},
   "outputs": [
    {
     "name": "stdout",
     "output_type": "stream",
     "text": [
      "<class 'bs4.BeautifulSoup'>\n"
     ]
    }
   ],
   "source": [
    "# your code here\n",
    "r=response = requests.get(url)\n",
    "r=r.content\n",
    "type(r)\n",
    "parsed_html = bs4.BeautifulSoup(r, \"html.parser\") \n",
    "print(type(parsed_html))\n"
   ]
  },
  {
   "cell_type": "code",
   "execution_count": 4,
   "metadata": {},
   "outputs": [
    {
     "data": {
      "text/plain": [
       "['Roman Khavronenko',\n",
       " 'Daniel Vaz Gaspar',\n",
       " 'chencheng (云谦)',\n",
       " 'Stephen Celis',\n",
       " 'Florian Rival',\n",
       " 'Andrew Lock',\n",
       " 'Joel Hawksley',\n",
       " 'Roger Peppe',\n",
       " 'disksing',\n",
       " 'Carlton Gibson',\n",
       " 'Marcin Rataj',\n",
       " 'Olivier Halligon',\n",
       " 'Mike Perham',\n",
       " 'Gal Schlezinger',\n",
       " 'Josh Bleecher Snyder',\n",
       " 'Jonny Borges',\n",
       " 'Arseny Kapoulkine',\n",
       " 'maliming',\n",
       " 'Abubakar Abid',\n",
       " 'Nicolas Gallagher',\n",
       " 'Jaco',\n",
       " 'Hoang',\n",
       " 'Kenji Miyake',\n",
       " 'James Henry',\n",
       " 'Jeff Ching']"
      ]
     },
     "execution_count": 4,
     "metadata": {},
     "output_type": "execute_result"
    }
   ],
   "source": [
    "#metodo 2\n",
    "article=parsed_html.find_all('h1',{\"class\",\"h3 lh-condensed\"})\n",
    "articles=[]\n",
    "for a in article:\n",
    "    a=str(a)\n",
    "    soup_a=bs4.BeautifulSoup(a,\"html.parser\")\n",
    "    list_a=soup_a.find_all('a')\n",
    "    for e in list_a:\n",
    "        articles.append(e.string.strip())\n",
    "articles\n",
    "#metodo1:article=str(parsed_html.find_all('article',{\"class:\",\"Box-row d-flex\"}))\n",
    "\n",
    "#no hay strings en esa etiqueta, hay que ir mas abajo en las etiquetas. La string está en etiqueta a."
   ]
  },
  {
   "cell_type": "markdown",
   "metadata": {},
   "source": [
    "#### Display the names of the trending developers retrieved in the previous step.\n",
    "\n",
    "Your output should be a Python list of developer names. Each name should not contain any html tag.\n",
    "\n",
    "**Instructions:**\n",
    "\n",
    "1. Find out the html tag and class names used for the developer names. You can achieve this using Chrome DevTools.\n",
    "\n",
    "1. Use BeautifulSoup to extract all the html elements that contain the developer names.\n",
    "\n",
    "1. Use string manipulation techniques to replace whitespaces and linebreaks (i.e. `\\n`) in the *text* of each html element. Use a list to store the clean names.\n",
    "\n",
    "1. Print the list of names.\n",
    "\n",
    "Your output should look like below:\n",
    "\n",
    "```\n",
    "['trimstray (@trimstray)',\n",
    " 'joewalnes (JoeWalnes)',\n",
    " 'charlax (Charles-AxelDein)',\n",
    " 'ForrestKnight (ForrestKnight)',\n",
    " 'revery-ui (revery-ui)',\n",
    " 'alibaba (Alibaba)',\n",
    " 'Microsoft (Microsoft)',\n",
    " 'github (GitHub)',\n",
    " 'facebook (Facebook)',\n",
    " 'boazsegev (Bo)',\n",
    " 'google (Google)',\n",
    " 'cloudfetch',\n",
    " 'sindresorhus (SindreSorhus)',\n",
    " 'tensorflow',\n",
    " 'apache (TheApacheSoftwareFoundation)',\n",
    " 'DevonCrawford (DevonCrawford)',\n",
    " 'ARMmbed (ArmMbed)',\n",
    " 'vuejs (vuejs)',\n",
    " 'fastai (fast.ai)',\n",
    " 'QiShaoXuan (Qi)',\n",
    " 'joelparkerhenderson (JoelParkerHenderson)',\n",
    " 'torvalds (LinusTorvalds)',\n",
    " 'CyC2018',\n",
    " 'komeiji-satori (神楽坂覚々)',\n",
    " 'script-8']\n",
    " ```"
   ]
  },
  {
   "cell_type": "code",
   "execution_count": 5,
   "metadata": {},
   "outputs": [],
   "source": [
    "# your code here"
   ]
  },
  {
   "cell_type": "markdown",
   "metadata": {},
   "source": [
    "#### Display the trending Python repositories in GitHub.\n",
    "\n",
    "The steps to solve this problem is similar to the previous one except that you need to find out the repository names instead of developer names."
   ]
  },
  {
   "cell_type": "code",
   "execution_count": 6,
   "metadata": {},
   "outputs": [],
   "source": [
    "# This is the url you will scrape in this exercise\n",
    "url = 'https://github.com/trending/python?since=daily'"
   ]
  },
  {
   "cell_type": "code",
   "execution_count": 7,
   "metadata": {},
   "outputs": [],
   "source": [
    "# your code here"
   ]
  },
  {
   "cell_type": "markdown",
   "metadata": {},
   "source": [
    "#### Display all the image links from Walt Disney wikipedia page."
   ]
  },
  {
   "cell_type": "code",
   "execution_count": 8,
   "metadata": {},
   "outputs": [],
   "source": [
    "# This is the url you will scrape in this exercise\n",
    "url = 'https://en.wikipedia.org/wiki/Walt_Disney'"
   ]
  },
  {
   "cell_type": "code",
   "execution_count": 9,
   "metadata": {},
   "outputs": [
    {
     "name": "stdout",
     "output_type": "stream",
     "text": [
      "https:////upload.wikimedia.org/wikipedia/en/thumb/e/e7/Cscr-featured.svg/20px-Cscr-featured.svg.png\n",
      "https:////upload.wikimedia.org/wikipedia/en/thumb/8/8c/Extended-protection-shackle.svg/20px-Extended-protection-shackle.svg.png\n",
      "https:////upload.wikimedia.org/wikipedia/commons/thumb/d/df/Walt_Disney_1946.JPG/220px-Walt_Disney_1946.JPG\n",
      "https:////upload.wikimedia.org/wikipedia/commons/thumb/8/87/Walt_Disney_1942_signature.svg/150px-Walt_Disney_1942_signature.svg.png\n",
      "https:////upload.wikimedia.org/wikipedia/commons/thumb/c/c4/Walt_Disney_envelope_ca._1921.jpg/220px-Walt_Disney_envelope_ca._1921.jpg\n",
      "https:////upload.wikimedia.org/wikipedia/commons/thumb/0/0d/Trolley_Troubles_poster.jpg/170px-Trolley_Troubles_poster.jpg\n",
      "https:////upload.wikimedia.org/wikipedia/en/thumb/4/4e/Steamboat-willie.jpg/170px-Steamboat-willie.jpg\n",
      "https:////upload.wikimedia.org/wikipedia/commons/thumb/5/57/Walt_Disney_1935.jpg/170px-Walt_Disney_1935.jpg\n",
      "https:////upload.wikimedia.org/wikipedia/commons/thumb/c/cd/Walt_Disney_Snow_white_1937_trailer_screenshot_%2813%29.jpg/220px-Walt_Disney_Snow_white_1937_trailer_screenshot_%2813%29.jpg\n",
      "https:////upload.wikimedia.org/wikipedia/commons/thumb/1/15/Disney_drawing_goofy.jpg/170px-Disney_drawing_goofy.jpg\n",
      "https:////upload.wikimedia.org/wikipedia/commons/thumb/1/13/DisneySchiphol1951.jpg/220px-DisneySchiphol1951.jpg\n",
      "https:////upload.wikimedia.org/wikipedia/commons/thumb/8/8c/WaltDisneyplansDisneylandDec1954.jpg/220px-WaltDisneyplansDisneylandDec1954.jpg\n",
      "https:////upload.wikimedia.org/wikipedia/commons/thumb/f/ff/Walt_disney_portrait_right.jpg/170px-Walt_disney_portrait_right.jpg\n",
      "https:////upload.wikimedia.org/wikipedia/commons/thumb/1/1a/Walt_Disney_Grave.JPG/170px-Walt_Disney_Grave.JPG\n",
      "https:////upload.wikimedia.org/wikipedia/commons/thumb/2/2d/Roy_O._Disney_with_Company_at_Press_Conference.jpg/170px-Roy_O._Disney_with_Company_at_Press_Conference.jpg\n",
      "https:////upload.wikimedia.org/wikipedia/commons/thumb/b/b0/Disney_Oscar_1953_%28cropped%29.jpg/170px-Disney_Oscar_1953_%28cropped%29.jpg\n",
      "https:////upload.wikimedia.org/wikipedia/commons/thumb/6/6c/Disney1968.jpg/170px-Disney1968.jpg\n",
      "https:////upload.wikimedia.org/wikipedia/en/thumb/8/8a/OOjs_UI_icon_edit-ltr-progressive.svg/10px-OOjs_UI_icon_edit-ltr-progressive.svg.png\n",
      "https:////upload.wikimedia.org/wikipedia/en/thumb/8/8a/OOjs_UI_icon_edit-ltr-progressive.svg/10px-OOjs_UI_icon_edit-ltr-progressive.svg.png\n",
      "https:////upload.wikimedia.org/wikipedia/commons/thumb/e/e3/Disneyland_Resort_logo.svg/135px-Disneyland_Resort_logo.svg.png\n",
      "https:////upload.wikimedia.org/wikipedia/commons/thumb/d/da/Animation_disc.svg/20px-Animation_disc.svg.png\n",
      "https:////upload.wikimedia.org/wikipedia/en/thumb/6/69/P_vip.svg/19px-P_vip.svg.png\n",
      "https:////upload.wikimedia.org/wikipedia/commons/thumb/1/1a/Magic_Kingdom_castle.jpg/15px-Magic_Kingdom_castle.jpg\n",
      "https:////upload.wikimedia.org/wikipedia/en/thumb/e/e7/Video-x-generic.svg/19px-Video-x-generic.svg.png\n",
      "https:////upload.wikimedia.org/wikipedia/commons/thumb/a/a3/Flag_of_Los_Angeles_County%2C_California.svg/21px-Flag_of_Los_Angeles_County%2C_California.svg.png\n",
      "https:////upload.wikimedia.org/wikipedia/commons/thumb/8/8c/Blank_television_set.svg/21px-Blank_television_set.svg.png\n",
      "https:////upload.wikimedia.org/wikipedia/en/thumb/a/a4/Flag_of_the_United_States.svg/21px-Flag_of_the_United_States.svg.png\n",
      "https:////upload.wikimedia.org/wikipedia/en/thumb/4/4a/Commons-logo.svg/14px-Commons-logo.svg.png\n",
      "https:////upload.wikimedia.org/wikipedia/commons/thumb/f/fa/Wikiquote-logo.svg/16px-Wikiquote-logo.svg.png\n",
      "https:////upload.wikimedia.org/wikipedia/commons/thumb/f/ff/Wikidata-logo.svg/21px-Wikidata-logo.svg.png\n",
      "https:////upload.wikimedia.org/wikipedia/en/thumb/8/8a/OOjs_UI_icon_edit-ltr-progressive.svg/10px-OOjs_UI_icon_edit-ltr-progressive.svg.png\n",
      "https:////en.wikipedia.org/wiki/Special:CentralAutoLogin/start?type=1x1\n",
      "https:///static/images/footer/wikimedia-button.png\n",
      "https:///static/images/footer/poweredby_mediawiki_88x31.png\n"
     ]
    }
   ],
   "source": [
    "# your code here\n",
    "r=response = requests.get(url)\n",
    "r=r.content\n",
    "parsed_html = bs4.BeautifulSoup(r, \"html.parser\")\n",
    "walt_img=parsed_html.find_all('img')\n",
    "for i in walt_img:\n",
    "    print('https://'+ i.attrs['src'] )\n"
   ]
  },
  {
   "cell_type": "markdown",
   "metadata": {},
   "source": [
    "#### Retrieve an arbitary Wikipedia page of \"Python\" and create a list of links on that page."
   ]
  },
  {
   "cell_type": "code",
   "execution_count": 28,
   "metadata": {},
   "outputs": [],
   "source": [
    "# This is the url you will scrape in this exercise\n",
    "url ='https://en.wikipedia.org/wiki/Python' \n"
   ]
  },
  {
   "cell_type": "code",
   "execution_count": 57,
   "metadata": {},
   "outputs": [
    {
     "name": "stdout",
     "output_type": "stream",
     "text": [
      "None\n",
      "#mw-head\n",
      "#searchInput\n",
      "https://en.wiktionary.org/wiki/Python\n",
      "https://en.wiktionary.org/wiki/python\n",
      "#Snakes\n",
      "#Computing\n",
      "#People\n",
      "#Roller_coasters\n",
      "#Vehicles\n",
      "#Weaponry\n",
      "#Other_uses\n",
      "#See_also\n",
      "/w/index.php?title=Python&action=edit&section=1\n",
      "/wiki/Pythonidae\n",
      "/wiki/Python_(genus)\n",
      "/wiki/Python_(mythology)\n",
      "/w/index.php?title=Python&action=edit&section=2\n",
      "/wiki/Python_(programming_language)\n",
      "/wiki/CMU_Common_Lisp\n",
      "/wiki/PERQ#PERQ_3\n",
      "/w/index.php?title=Python&action=edit&section=3\n",
      "/wiki/Python_of_Aenus\n",
      "/wiki/Python_(painter)\n",
      "/wiki/Python_of_Byzantium\n",
      "/wiki/Python_of_Catana\n",
      "/wiki/Python_Anghelo\n",
      "/w/index.php?title=Python&action=edit&section=4\n",
      "/wiki/Python_(Efteling)\n",
      "/wiki/Python_(Busch_Gardens_Tampa_Bay)\n",
      "/wiki/Python_(Coney_Island,_Cincinnati,_Ohio)\n",
      "/w/index.php?title=Python&action=edit&section=5\n",
      "/wiki/Python_(automobile_maker)\n",
      "/wiki/Python_(Ford_prototype)\n",
      "/w/index.php?title=Python&action=edit&section=6\n",
      "/wiki/Python_(missile)\n",
      "/wiki/Python_(nuclear_primary)\n",
      "/wiki/Colt_Python\n",
      "/w/index.php?title=Python&action=edit&section=7\n",
      "/wiki/PYTHON\n",
      "/wiki/Python_(film)\n",
      "/wiki/Monty_Python\n",
      "/wiki/Python_(Monty)_Pictures\n",
      "/wiki/Timon_of_Phlius\n",
      "/w/index.php?title=Python&action=edit&section=8\n",
      "/wiki/Cython\n",
      "/wiki/Pyton\n",
      "/wiki/Pithon\n",
      "/wiki/File:Disambig_gray.svg\n",
      "/wiki/Help:Disambiguation\n",
      "https://en.wikipedia.org/w/index.php?title=Special:WhatLinksHere/Python&namespace=0\n",
      "https://en.wikipedia.org/w/index.php?title=Python&oldid=1087251762\n",
      "/wiki/Help:Category\n",
      "/wiki/Category:Disambiguation_pages\n",
      "/wiki/Category:Human_name_disambiguation_pages\n",
      "/wiki/Category:Disambiguation_pages_with_given-name-holder_lists\n",
      "/wiki/Category:Disambiguation_pages_with_short_descriptions\n",
      "/wiki/Category:Short_description_is_different_from_Wikidata\n",
      "/wiki/Category:All_article_disambiguation_pages\n",
      "/wiki/Category:All_disambiguation_pages\n",
      "/wiki/Category:Animal_common_name_disambiguation_pages\n",
      "/wiki/Special:MyTalk\n",
      "/wiki/Special:MyContributions\n",
      "/w/index.php?title=Special:CreateAccount&returnto=Python\n",
      "/w/index.php?title=Special:UserLogin&returnto=Python\n",
      "/wiki/Python\n",
      "/wiki/Talk:Python\n",
      "/wiki/Python\n",
      "/w/index.php?title=Python&action=edit\n",
      "/w/index.php?title=Python&action=history\n",
      "/wiki/Main_Page\n",
      "/wiki/Main_Page\n",
      "/wiki/Wikipedia:Contents\n",
      "/wiki/Portal:Current_events\n",
      "/wiki/Special:Random\n",
      "/wiki/Wikipedia:About\n",
      "//en.wikipedia.org/wiki/Wikipedia:Contact_us\n",
      "https://donate.wikimedia.org/wiki/Special:FundraiserRedirector?utm_source=donate&utm_medium=sidebar&utm_campaign=C13_en.wikipedia.org&uselang=en\n",
      "/wiki/Help:Contents\n",
      "/wiki/Help:Introduction\n",
      "/wiki/Wikipedia:Community_portal\n",
      "/wiki/Special:RecentChanges\n",
      "/wiki/Wikipedia:File_Upload_Wizard\n",
      "/wiki/Special:WhatLinksHere/Python\n",
      "/wiki/Special:RecentChangesLinked/Python\n",
      "/wiki/Wikipedia:File_Upload_Wizard\n",
      "/wiki/Special:SpecialPages\n",
      "/w/index.php?title=Python&oldid=1087251762\n",
      "/w/index.php?title=Python&action=info\n",
      "/w/index.php?title=Special:CiteThisPage&page=Python&id=1087251762&wpFormIdentifier=titleform\n",
      "https://www.wikidata.org/wiki/Special:EntityPage/Q747452\n",
      "/w/index.php?title=Special:DownloadAsPdf&page=Python&action=show-download-screen\n",
      "/w/index.php?title=Python&printable=yes\n",
      "https://commons.wikimedia.org/wiki/Category:Python\n",
      "https://af.wikipedia.org/wiki/Python\n",
      "https://als.wikipedia.org/wiki/Python\n",
      "https://ar.wikipedia.org/wiki/%D8%A8%D8%A7%D9%8A%D8%AB%D9%88%D9%86_(%D8%AA%D9%88%D8%B6%D9%8A%D8%AD)\n",
      "https://az.wikipedia.org/wiki/Python\n",
      "https://bn.wikipedia.org/wiki/%E0%A6%AA%E0%A6%BE%E0%A6%87%E0%A6%A5%E0%A6%A8_(%E0%A6%A6%E0%A7%8D%E0%A6%AC%E0%A7%8D%E0%A6%AF%E0%A6%B0%E0%A7%8D%E0%A6%A5%E0%A6%A4%E0%A6%BE_%E0%A6%A8%E0%A6%BF%E0%A6%B0%E0%A6%B8%E0%A6%A8)\n",
      "https://be.wikipedia.org/wiki/Python\n",
      "https://bg.wikipedia.org/wiki/%D0%9F%D0%B8%D1%82%D0%BE%D0%BD_(%D0%BF%D0%BE%D1%8F%D1%81%D0%BD%D0%B5%D0%BD%D0%B8%D0%B5)\n",
      "https://cs.wikipedia.org/wiki/Python_(rozcestn%C3%ADk)\n",
      "https://da.wikipedia.org/wiki/Python\n",
      "https://de.wikipedia.org/wiki/Python\n",
      "https://eo.wikipedia.org/wiki/Pitono_(apartigilo)\n",
      "https://eu.wikipedia.org/wiki/Python_(argipena)\n",
      "https://fa.wikipedia.org/wiki/%D9%BE%D8%A7%DB%8C%D8%AA%D9%88%D9%86\n",
      "https://fr.wikipedia.org/wiki/Python\n",
      "https://ko.wikipedia.org/wiki/%ED%8C%8C%EC%9D%B4%EC%84%A0\n",
      "https://hr.wikipedia.org/wiki/Python_(razdvojba)\n",
      "https://io.wikipedia.org/wiki/Pitono\n",
      "https://id.wikipedia.org/wiki/Python\n",
      "https://ia.wikipedia.org/wiki/Python_(disambiguation)\n",
      "https://is.wikipedia.org/wiki/Python_(a%C3%B0greining)\n",
      "https://it.wikipedia.org/wiki/Python_(disambigua)\n",
      "https://he.wikipedia.org/wiki/%D7%A4%D7%99%D7%AA%D7%95%D7%9F\n",
      "https://ka.wikipedia.org/wiki/%E1%83%9E%E1%83%98%E1%83%97%E1%83%9D%E1%83%9C%E1%83%98_(%E1%83%9B%E1%83%A0%E1%83%90%E1%83%95%E1%83%90%E1%83%9A%E1%83%9B%E1%83%9C%E1%83%98%E1%83%A8%E1%83%95%E1%83%9C%E1%83%94%E1%83%9A%E1%83%9D%E1%83%95%E1%83%90%E1%83%9C%E1%83%98)\n",
      "https://kg.wikipedia.org/wiki/Mboma_(nyoka)\n",
      "https://la.wikipedia.org/wiki/Python_(discretiva)\n",
      "https://lb.wikipedia.org/wiki/Python\n",
      "https://hu.wikipedia.org/wiki/Python_(egy%C3%A9rtelm%C5%B1s%C3%ADt%C5%91_lap)\n",
      "https://mr.wikipedia.org/wiki/%E0%A4%AA%E0%A4%BE%E0%A4%AF%E0%A4%A5%E0%A5%89%E0%A4%A8_(%E0%A4%86%E0%A4%9C%E0%A5%8D%E0%A4%9E%E0%A4%BE%E0%A4%B5%E0%A4%B2%E0%A5%80_%E0%A4%AD%E0%A4%BE%E0%A4%B7%E0%A4%BE)\n",
      "https://nl.wikipedia.org/wiki/Python\n",
      "https://ja.wikipedia.org/wiki/%E3%83%91%E3%82%A4%E3%82%BD%E3%83%B3\n",
      "https://no.wikipedia.org/wiki/Pyton\n",
      "https://pl.wikipedia.org/wiki/Pyton\n",
      "https://pt.wikipedia.org/wiki/Python_(desambigua%C3%A7%C3%A3o)\n",
      "https://ru.wikipedia.org/wiki/Python_(%D0%B7%D0%BD%D0%B0%D1%87%D0%B5%D0%BD%D0%B8%D1%8F)\n",
      "https://sk.wikipedia.org/wiki/Python\n",
      "https://sr.wikipedia.org/wiki/%D0%9F%D0%B8%D1%82%D0%BE%D0%BD_(%D0%B2%D0%B8%D1%88%D0%B5%D0%B7%D0%BD%D0%B0%D1%87%D0%BD%D0%B0_%D0%BE%D0%B4%D1%80%D0%B5%D0%B4%D0%BD%D0%B8%D1%86%D0%B0)\n",
      "https://sh.wikipedia.org/wiki/Python\n",
      "https://fi.wikipedia.org/wiki/Python\n",
      "https://sv.wikipedia.org/wiki/Pyton\n",
      "https://th.wikipedia.org/wiki/%E0%B9%84%E0%B8%9E%E0%B8%97%E0%B8%AD%E0%B8%99\n",
      "https://tr.wikipedia.org/wiki/Python_(anlam_ayr%C4%B1m%C4%B1)\n",
      "https://uk.wikipedia.org/wiki/%D0%9F%D1%96%D1%84%D0%BE%D0%BD\n",
      "https://ur.wikipedia.org/wiki/%D9%BE%D8%A7%D8%A6%DB%8C%D8%AA%DA%BE%D9%88%D9%86\n",
      "https://vi.wikipedia.org/wiki/Python\n",
      "https://zh.wikipedia.org/wiki/Python_(%E6%B6%88%E6%AD%A7%E4%B9%89)\n",
      "https://www.wikidata.org/wiki/Special:EntityPage/Q747452#sitelinks-wikipedia\n",
      "//en.wikipedia.org/wiki/Wikipedia:Text_of_Creative_Commons_Attribution-ShareAlike_3.0_Unported_License\n",
      "//creativecommons.org/licenses/by-sa/3.0/\n",
      "//foundation.wikimedia.org/wiki/Terms_of_Use\n",
      "//foundation.wikimedia.org/wiki/Privacy_policy\n",
      "//www.wikimediafoundation.org/\n",
      "https://foundation.wikimedia.org/wiki/Privacy_policy\n",
      "/wiki/Wikipedia:About\n",
      "/wiki/Wikipedia:General_disclaimer\n",
      "//en.wikipedia.org/wiki/Wikipedia:Contact_us\n",
      "//en.m.wikipedia.org/w/index.php?title=Python&mobileaction=toggle_view_mobile\n",
      "https://developer.wikimedia.org\n",
      "https://stats.wikimedia.org/#/en.wikipedia.org\n",
      "https://foundation.wikimedia.org/wiki/Cookie_statement\n",
      "https://wikimediafoundation.org/\n",
      "https://www.mediawiki.org/\n"
     ]
    }
   ],
   "source": [
    "# your code here\n",
    "p=response = requests.get(url)\n",
    "p=p.content\n",
    "parsed_html3 = bs4.BeautifulSoup(p, \"html.parser\")\n",
    "python_p=parsed_html3.find_all('a')\n",
    "for i in python_p:\n",
    "            print(i.get('href'))\n"
   ]
  },
  {
   "cell_type": "code",
   "execution_count": null,
   "metadata": {},
   "outputs": [],
   "source": []
  },
  {
   "cell_type": "markdown",
   "metadata": {},
   "source": [
    "#### Find the number of titles that have changed in the United States Code since its last release point."
   ]
  },
  {
   "cell_type": "code",
   "execution_count": 68,
   "metadata": {},
   "outputs": [],
   "source": [
    "# This is the url you will scrape in this exercise\n",
    "url = 'http://uscode.house.gov/download/download.shtml'"
   ]
  },
  {
   "cell_type": "code",
   "execution_count": 71,
   "metadata": {},
   "outputs": [
    {
     "data": {
      "text/plain": [
       "[]"
      ]
     },
     "execution_count": 71,
     "metadata": {},
     "output_type": "execute_result"
    }
   ],
   "source": [
    "# your code here\n",
    "c=response = requests.get(url)\n",
    "c=c.content\n",
    "parsed_html4 = bs4.BeautifulSoup(c, \"html.parser\")\n",
    "code_us=parsed_html4.find_all('span',{\"style\",\"font_weight\"})\n",
    "code_us\n",
    "#font_weight: bold dentro de span style"
   ]
  },
  {
   "cell_type": "markdown",
   "metadata": {},
   "source": [
    "#### Find a Python list with the top ten FBI's Most Wanted names."
   ]
  },
  {
   "cell_type": "code",
   "execution_count": null,
   "metadata": {},
   "outputs": [],
   "source": [
    "# This is the url you will scrape in this exercise\n",
    "url = 'https://www.fbi.gov/wanted/topten'"
   ]
  },
  {
   "cell_type": "code",
   "execution_count": 72,
   "metadata": {},
   "outputs": [
    {
     "data": {
      "text/plain": [
       "[<span id=\"item_SEARCH_BROWSE\" style=\"width: 100%; height: 31px;\"><img src=\"/javax.faces.resource/u6.png.xhtml?ln=images\" style=\"width: 100%; height: 31px;\"/>\n",
       " </span>,\n",
       " <span class=\"item_text\" id=\"text_SEARCH_BROWSE\" style=\"font-family: 'Calibri'; color: rgb(49, 28, 26); font-size: 15px; font-weight: bold;\">\n",
       " \t                    Search &amp; Browse\n",
       " \t                </span>,\n",
       " <span id=\"item_CURRENCY1\" style=\"width: 100%; height: 31px;\"><img src=\"/javax.faces.resource/u6.png.xhtml?ln=images\" style=\"width: 100%; height: 31px;\"/>\n",
       " </span>,\n",
       " <span class=\"item_text\" id=\"text_CURRENCY1\" style=\"font-family: 'Calibri'; color: rgb(49, 28, 26); font-size: 15px; font-weight: bold;\">\n",
       " \t                    Currency and Updating\n",
       " \t                </span>,\n",
       " <span id=\"item_CLASSIFICATION_TABLES\" style=\"width: 100%; height: 31px;\"><img src=\"/javax.faces.resource/u6.png.xhtml?ln=images\" style=\"width: 100%; height: 31px;\"/>\n",
       " </span>,\n",
       " <span class=\"item_text\" id=\"text_CLASSIFICATION_TABLES\" style=\"font-family: 'Calibri'; color: rgb(49, 28, 26); font-size: 15px; font-weight: bold;\">\n",
       " \t                    Classification Tables\n",
       " \t                </span>,\n",
       " <span id=\"item_POPULAR_NAME_TOOL\" style=\"width: 100%; height: 31px;\"><img src=\"/javax.faces.resource/u6.png.xhtml?ln=images\" style=\"width: 100%; height: 31px;\"/>\n",
       " </span>,\n",
       " <span class=\"item_text\" id=\"text_POPULAR_NAME_TOOL\" style=\"font-family: 'Calibri'; color: rgb(49, 28, 26); font-size: 15px; font-weight: bold;\">\n",
       " \t                    Popular Name Tool\n",
       " \t                </span>,\n",
       " <span id=\"item_OTHER_TABLES_TOOLS\" style=\"width: 100%; height: 31px;\"><img src=\"/javax.faces.resource/u6.png.xhtml?ln=images\" style=\"width: 100%; height: 31px;\"/>\n",
       " </span>,\n",
       " <span class=\"item_text\" id=\"text_OTHER_TABLES_TOOLS\" style=\"font-family: 'Calibri'; color: rgb(49, 28, 26); font-size: 15px; font-weight: bold;\">\n",
       " \t                    Other OLRC Tables and Tools\n",
       " \t                </span>,\n",
       " <span id=\"item_CITE_CHECKER\" style=\"width: 100%; height: 31px;\"><img src=\"/javax.faces.resource/u6.png.xhtml?ln=images\" style=\"width: 100%; height: 31px;\"/>\n",
       " </span>,\n",
       " <span class=\"subitem_text\" id=\"text_CITE_CHECKER\" style=\"font-family: 'Calibri'; color: rgb(49, 28, 26); font-size: 15px; font-weight: bold;\">\n",
       " \t                    Cite Checker\n",
       " \t                </span>,\n",
       " <span id=\"item_TABLEIII\" style=\"width: 100%; height: 31px;\"><img src=\"/javax.faces.resource/u6.png.xhtml?ln=images\" style=\"width: 100%; height: 31px;\"/>\n",
       " </span>,\n",
       " <span class=\"subitem_text\" id=\"text_TABLEIII\" style=\"font-family: 'Calibri'; color: rgb(49, 28, 26); font-size: 15px; font-weight: bold;\">\n",
       " \t                    Table III - Statutes at Large\n",
       " \t                </span>,\n",
       " <span id=\"item_OTHER_TABLES\" style=\"width: 100%; height: 31px;\"><img src=\"/javax.faces.resource/u6.png.xhtml?ln=images\" style=\"width: 100%; height: 31px;\"/>\n",
       " </span>,\n",
       " <span class=\"subitem_text\" id=\"text_OTHER_TABLES\" style=\"font-family: 'Calibri'; color: rgb(49, 28, 26); font-size: 15px; font-weight: bold;\">\n",
       " \t                    Other Tables\n",
       " \t                </span>,\n",
       " <span id=\"item_UNDERSTANTING\" style=\"width: 100%; height: 31px;\"><img src=\"/javax.faces.resource/u6.png.xhtml?ln=images\" style=\"width: 100%; height: 31px;\"/>\n",
       " </span>,\n",
       " <span class=\"item_text\" id=\"text_UNDERSTANTING\" style=\"font-family: 'Calibri'; color: rgb(49, 28, 26); font-size: 15px; font-weight: bold;\">\n",
       " \t                    Understanding the Code\n",
       " \t                </span>,\n",
       " <span id=\"item_ABOUT_CODE\" style=\"width: 100%; height: 31px;\"><img src=\"/javax.faces.resource/u6.png.xhtml?ln=images\" style=\"width: 100%; height: 31px;\"/>\n",
       " </span>,\n",
       " <span class=\"subitem_text\" id=\"text_ABOUT_CODE\" style=\"font-family: 'Calibri'; color: rgb(49, 28, 26); font-size: 15px; font-weight: bold;\">\n",
       " \t                    About the Code and Website\n",
       " \t                </span>,\n",
       " <span id=\"item_ABOUT_CLASSIFICATION\" style=\"width: 100%; height: 31px;\"><img src=\"/javax.faces.resource/u6.png.xhtml?ln=images\" style=\"width: 100%; height: 31px;\"/>\n",
       " </span>,\n",
       " <span class=\"subitem_text\" id=\"text_ABOUT_CLASSIFICATION\" style=\"font-family: 'Calibri'; color: rgb(49, 28, 26); font-size: 15px; font-weight: bold;\">\n",
       " \t                    About Classification\n",
       " \t                </span>,\n",
       " <span id=\"item_DETAILED_GUIDE\" style=\"width: 100%; height: 31px;\"><img src=\"/javax.faces.resource/u6.png.xhtml?ln=images\" style=\"width: 100%; height: 31px;\"/>\n",
       " </span>,\n",
       " <span class=\"subitem_text\" id=\"text_DETAILED_GUIDE\" style=\"font-family: 'Calibri'; color: rgb(49, 28, 26); font-size: 15px; font-weight: bold;\">\n",
       " \t                    Detailed Guide to the Code\n",
       " \t                </span>,\n",
       " <span id=\"item_FAQ\" style=\"width: 100%; height: 31px;\"><img src=\"/javax.faces.resource/u6.png.xhtml?ln=images\" style=\"width: 100%; height: 31px;\"/>\n",
       " </span>,\n",
       " <span class=\"subitem_text\" id=\"text_FAQ\" style=\"font-family: 'Calibri'; color: rgb(49, 28, 26); font-size: 15px; font-weight: bold;\">\n",
       " \t                    FAQ and Glossary\n",
       " \t                </span>,\n",
       " <span id=\"item_POSITIVE_LAW\" style=\"width: 100%; height: 31px;\"><img src=\"/javax.faces.resource/u6.png.xhtml?ln=images\" style=\"width: 100%; height: 31px;\"/>\n",
       " </span>,\n",
       " <span class=\"item_text\" id=\"text_POSITIVE_LAW\" style=\"font-family: 'Calibri'; color: rgb(49, 28, 26); font-size: 15px; font-weight: bold;\">\n",
       " \t                    Positive Law Codification\n",
       " \t                </span>,\n",
       " <span id=\"item_EDITORIAL_RECLASSIFICATION\" style=\"width: 100%; height: 31px;\"><img src=\"/javax.faces.resource/u6.png.xhtml?ln=images\" style=\"width: 100%; height: 31px;\"/>\n",
       " </span>,\n",
       " <span class=\"item_text\" id=\"text_EDITORIAL_RECLASSIFICATION\" style=\"font-family: 'Calibri'; color: rgb(49, 28, 26); font-size: 15px; font-weight: bold;\">\n",
       " \t                    Editorial Reclassification\n",
       " \t                </span>,\n",
       " <span id=\"item_DOWNLOADS\" style=\"width: 100%; height: 31px;\"><img src=\"/javax.faces.resource/u29.png.xhtml?ln=images\" style=\"width: 100%; height: 31px;\"/>\n",
       " </span>,\n",
       " <span class=\"item_text\" id=\"text_DOWNLOADS\" style=\"font-family: 'Calibri'; color: rgb(0, 0, 0); font-size: 15px; font-weight: bold;\">\n",
       " \t                    Downloads\n",
       " \t                </span>,\n",
       " <span id=\"item_OTHER_RESOURCES\" style=\"width: 100%; height: 31px;\"><img src=\"/javax.faces.resource/u6.png.xhtml?ln=images\" style=\"width: 100%; height: 31px;\"/>\n",
       " </span>,\n",
       " <span class=\"item_text\" id=\"text_OTHER_RESOURCES\" style=\"font-family: 'Calibri'; color: rgb(49, 28, 26); font-size: 15px; font-weight: bold;\">\n",
       " \t                    Other Legislative Resources\n",
       " \t                </span>,\n",
       " <span id=\"item_CONGRESS_GOV\" style=\"width: 100%; height: 31px;\"><img src=\"/javax.faces.resource/u6.png.xhtml?ln=images\" style=\"width: 100%; height: 31px;\"/>\n",
       " </span>,\n",
       " <span class=\"subitem_text\" id=\"text_CONGRESS_GOV\" style=\"font-family: 'Calibri'; color: rgb(49, 28, 26); font-size: 15px; font-weight: bold;\">\n",
       " \t                    CONGRESS.GOV\n",
       " \t                </span>,\n",
       " <span id=\"item_GOVINFO\" style=\"width: 100%; height: 31px;\"><img src=\"/javax.faces.resource/u6.png.xhtml?ln=images\" style=\"width: 100%; height: 31px;\"/>\n",
       " </span>,\n",
       " <span class=\"subitem_text\" id=\"text_GOVINFO\" style=\"font-family: 'Calibri'; color: rgb(49, 28, 26); font-size: 15px; font-weight: bold;\">\n",
       " \t                    govinfo\n",
       " \t                </span>,\n",
       " <span id=\"item_HOLC_STATUTE_COMPILATIONS\" style=\"width: 100%; height: 31px;\"><img src=\"/javax.faces.resource/u6.png.xhtml?ln=images\" style=\"width: 100%; height: 31px;\"/>\n",
       " </span>,\n",
       " <span class=\"subitem_text\" id=\"text_HOLC_STATUTE_COMPILATIONS\" style=\"font-family: 'Calibri'; color: rgb(49, 28, 26); font-size: 15px; font-weight: bold;\">\n",
       " \t                    HOLC Statutory Compilations\n",
       " \t                </span>,\n",
       " <span class=\"footnote\"><a class=\"fn\" href=\"#fn\">٭</a></span>,\n",
       " <span class=\"footnote\"><a class=\"fn\" href=\"#fn\">٭</a></span>,\n",
       " <span class=\"footnote\"><a class=\"fn\" href=\"#fn\">٭</a></span>,\n",
       " <span class=\"footnote\"><a class=\"fn\" href=\"#fn\">٭</a></span>,\n",
       " <span class=\"footnote\"><a class=\"fn\" href=\"#fn\">٭</a></span>,\n",
       " <span class=\"footnote\"><a class=\"fn\" href=\"#fn\">٭</a></span>,\n",
       " <span class=\"footnote\"><a class=\"fn\" href=\"#fn\">٭</a></span>,\n",
       " <span class=\"footnote\"><a class=\"fn\" href=\"#fn\">٭</a></span>,\n",
       " <span class=\"footnote\"><a class=\"fn\" href=\"#fn\">٭</a></span>,\n",
       " <span class=\"footnote\"><a class=\"fn\" href=\"#fn\">٭</a></span>,\n",
       " <span class=\"footnote\"><a class=\"fn\" href=\"#fn\">٭</a></span>,\n",
       " <span class=\"footnote\"><a class=\"fn\" href=\"#fn\">٭</a></span>,\n",
       " <span class=\"footnote\"><a class=\"fn\" href=\"#fn\">٭</a></span>,\n",
       " <span class=\"footnote\"><a class=\"fn\" href=\"#fn\">٭</a></span>,\n",
       " <span class=\"footnote\"><a class=\"fn\" href=\"#fn\">٭</a></span>,\n",
       " <span class=\"footnote\"><a class=\"fn\" href=\"#fn\">٭</a></span>,\n",
       " <span class=\"footnote\"><a class=\"fn\" href=\"#fn\">٭</a></span>,\n",
       " <span class=\"footnote\"><a class=\"fn\" href=\"#fn\">٭</a></span>,\n",
       " <span class=\"footnote\"><a class=\"fn\" href=\"#fn\">٭</a></span>,\n",
       " <span class=\"footnote\"><a class=\"fn\" href=\"#fn\">٭</a></span>,\n",
       " <span class=\"footnote\"><a class=\"fn\" href=\"#fn\">٭</a></span>,\n",
       " <span class=\"footnote\"><a class=\"fn\" href=\"#fn\">٭</a></span>,\n",
       " <span class=\"footnote\"><a class=\"fn\" href=\"#fn\">٭</a></span>,\n",
       " <span class=\"footnote\"><a class=\"fn\" href=\"#fn\">٭</a></span>,\n",
       " <span class=\"footnote\"><a class=\"fn\" href=\"#fn\">٭</a></span>,\n",
       " <span class=\"footnote\"><a class=\"fn\" href=\"#fn\">٭</a></span>,\n",
       " <span class=\"footnote\"><a class=\"fn\" href=\"#fn\">٭</a></span>,\n",
       " <span class=\"footnote\">٭</span>,\n",
       " <span class=\"footer\">\n",
       " \t\t\t\t    3v4      \n",
       "                     <a href=\"/about_office.xhtml;jsessionid=1462AD464EED00F012CD96BF0D7FD43D\">About the Office</a> \n",
       "                           <a href=\"/privacy_policy.xhtml;jsessionid=1462AD464EED00F012CD96BF0D7FD43D\">Privacy Policy</a>\n",
       " </span>,\n",
       " <span class=\"debugCode\" id=\"resizeWindow\">\n",
       " <form action=\"/static.xhtml;jsessionid=1462AD464EED00F012CD96BF0D7FD43D\" enctype=\"application/x-www-form-urlencoded\" id=\"formPrefs\" method=\"post\" name=\"formPrefs\">\n",
       " <input name=\"formPrefs\" type=\"hidden\" value=\"formPrefs\"/>\n",
       " <input id=\"winTop\" name=\"winTop\" type=\"hidden\" value=\"0\"/><input id=\"left\" name=\"left\" type=\"hidden\" value=\"0\"/><input id=\"width\" name=\"width\" type=\"hidden\" value=\"0\"/><input id=\"height\" name=\"height\" type=\"hidden\" value=\"0\"/><input id=\"submitBtn\" name=\"submitBtn\" onclick=\"jsf.ajax.request(this, event, {execute:'@form', render: '@form'}); return false;\" type=\"submit\" value=\"change value\"/><input id=\"refreshBtn\" name=\"refreshBtn\" onclick=\"jsf.ajax.request(this, event, {render: '@form'}); return false;\" type=\"submit\" value=\"refresh value\"/><input autocomplete=\"off\" id=\"javax.faces.ViewState\" name=\"javax.faces.ViewState\" type=\"hidden\" value=\"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\"/>\n",
       " </form>\n",
       " <form action=\"/static.xhtml;jsessionid=1462AD464EED00F012CD96BF0D7FD43D\" enctype=\"application/x-www-form-urlencoded\" id=\"formStdRef\" method=\"post\" name=\"formStdRef\">\n",
       " <input name=\"formStdRef\" type=\"hidden\" value=\"formStdRef\"/>\n",
       " <input id=\"first\" name=\"first\" type=\"hidden\" value=\"\"/><input id=\"second\" name=\"second\" type=\"hidden\" value=\"\"/><input id=\"type\" name=\"type\" type=\"hidden\" value=\"\"/><input id=\"url\" name=\"url\" type=\"hidden\" value=\"\"/><input id=\"stdRefBtn\" name=\"stdRefBtn\" onclick=\"jsf.ajax.request(this, event, {execute:'@form', render: '@form'}); return false;\" type=\"submit\" value=\"open std ref value\"/><input autocomplete=\"off\" id=\"javax.faces.ViewState\" name=\"javax.faces.ViewState\" type=\"hidden\" value=\"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\"/>\n",
       " </form></span>]"
      ]
     },
     "execution_count": 72,
     "metadata": {},
     "output_type": "execute_result"
    }
   ],
   "source": [
    "# your code here\n",
    "d=response = requests.get(url)\n",
    "d=d.content\n",
    "parsed_html4 = bs4.BeautifulSoup(d, \"html.parser\")\n",
    "FBI=parsed_html4.find_all('span')\n",
    "FBI"
   ]
  },
  {
   "cell_type": "markdown",
   "metadata": {},
   "source": [
    "####  Display the 20 latest earthquakes info (date, time, latitude, longitude and region name) by the EMSC as a pandas dataframe."
   ]
  },
  {
   "cell_type": "code",
   "execution_count": null,
   "metadata": {},
   "outputs": [],
   "source": [
    "# This is the url you will scrape in this exercise\n",
    "url = 'https://www.emsc-csem.org/Earthquake/'"
   ]
  },
  {
   "cell_type": "code",
   "execution_count": 73,
   "metadata": {},
   "outputs": [
    {
     "data": {
      "text/plain": [
       "[<span id=\"item_SEARCH_BROWSE\" style=\"width: 100%; height: 31px;\"><img src=\"/javax.faces.resource/u6.png.xhtml?ln=images\" style=\"width: 100%; height: 31px;\"/>\n",
       " </span>,\n",
       " <span class=\"item_text\" id=\"text_SEARCH_BROWSE\" style=\"font-family: 'Calibri'; color: rgb(49, 28, 26); font-size: 15px; font-weight: bold;\">\n",
       " \t                    Search &amp; Browse\n",
       " \t                </span>,\n",
       " <span id=\"item_CURRENCY1\" style=\"width: 100%; height: 31px;\"><img src=\"/javax.faces.resource/u6.png.xhtml?ln=images\" style=\"width: 100%; height: 31px;\"/>\n",
       " </span>,\n",
       " <span class=\"item_text\" id=\"text_CURRENCY1\" style=\"font-family: 'Calibri'; color: rgb(49, 28, 26); font-size: 15px; font-weight: bold;\">\n",
       " \t                    Currency and Updating\n",
       " \t                </span>,\n",
       " <span id=\"item_CLASSIFICATION_TABLES\" style=\"width: 100%; height: 31px;\"><img src=\"/javax.faces.resource/u6.png.xhtml?ln=images\" style=\"width: 100%; height: 31px;\"/>\n",
       " </span>,\n",
       " <span class=\"item_text\" id=\"text_CLASSIFICATION_TABLES\" style=\"font-family: 'Calibri'; color: rgb(49, 28, 26); font-size: 15px; font-weight: bold;\">\n",
       " \t                    Classification Tables\n",
       " \t                </span>,\n",
       " <span id=\"item_POPULAR_NAME_TOOL\" style=\"width: 100%; height: 31px;\"><img src=\"/javax.faces.resource/u6.png.xhtml?ln=images\" style=\"width: 100%; height: 31px;\"/>\n",
       " </span>,\n",
       " <span class=\"item_text\" id=\"text_POPULAR_NAME_TOOL\" style=\"font-family: 'Calibri'; color: rgb(49, 28, 26); font-size: 15px; font-weight: bold;\">\n",
       " \t                    Popular Name Tool\n",
       " \t                </span>,\n",
       " <span id=\"item_OTHER_TABLES_TOOLS\" style=\"width: 100%; height: 31px;\"><img src=\"/javax.faces.resource/u6.png.xhtml?ln=images\" style=\"width: 100%; height: 31px;\"/>\n",
       " </span>,\n",
       " <span class=\"item_text\" id=\"text_OTHER_TABLES_TOOLS\" style=\"font-family: 'Calibri'; color: rgb(49, 28, 26); font-size: 15px; font-weight: bold;\">\n",
       " \t                    Other OLRC Tables and Tools\n",
       " \t                </span>,\n",
       " <span id=\"item_CITE_CHECKER\" style=\"width: 100%; height: 31px;\"><img src=\"/javax.faces.resource/u6.png.xhtml?ln=images\" style=\"width: 100%; height: 31px;\"/>\n",
       " </span>,\n",
       " <span class=\"subitem_text\" id=\"text_CITE_CHECKER\" style=\"font-family: 'Calibri'; color: rgb(49, 28, 26); font-size: 15px; font-weight: bold;\">\n",
       " \t                    Cite Checker\n",
       " \t                </span>,\n",
       " <span id=\"item_TABLEIII\" style=\"width: 100%; height: 31px;\"><img src=\"/javax.faces.resource/u6.png.xhtml?ln=images\" style=\"width: 100%; height: 31px;\"/>\n",
       " </span>,\n",
       " <span class=\"subitem_text\" id=\"text_TABLEIII\" style=\"font-family: 'Calibri'; color: rgb(49, 28, 26); font-size: 15px; font-weight: bold;\">\n",
       " \t                    Table III - Statutes at Large\n",
       " \t                </span>,\n",
       " <span id=\"item_OTHER_TABLES\" style=\"width: 100%; height: 31px;\"><img src=\"/javax.faces.resource/u6.png.xhtml?ln=images\" style=\"width: 100%; height: 31px;\"/>\n",
       " </span>,\n",
       " <span class=\"subitem_text\" id=\"text_OTHER_TABLES\" style=\"font-family: 'Calibri'; color: rgb(49, 28, 26); font-size: 15px; font-weight: bold;\">\n",
       " \t                    Other Tables\n",
       " \t                </span>,\n",
       " <span id=\"item_UNDERSTANTING\" style=\"width: 100%; height: 31px;\"><img src=\"/javax.faces.resource/u6.png.xhtml?ln=images\" style=\"width: 100%; height: 31px;\"/>\n",
       " </span>,\n",
       " <span class=\"item_text\" id=\"text_UNDERSTANTING\" style=\"font-family: 'Calibri'; color: rgb(49, 28, 26); font-size: 15px; font-weight: bold;\">\n",
       " \t                    Understanding the Code\n",
       " \t                </span>,\n",
       " <span id=\"item_ABOUT_CODE\" style=\"width: 100%; height: 31px;\"><img src=\"/javax.faces.resource/u6.png.xhtml?ln=images\" style=\"width: 100%; height: 31px;\"/>\n",
       " </span>,\n",
       " <span class=\"subitem_text\" id=\"text_ABOUT_CODE\" style=\"font-family: 'Calibri'; color: rgb(49, 28, 26); font-size: 15px; font-weight: bold;\">\n",
       " \t                    About the Code and Website\n",
       " \t                </span>,\n",
       " <span id=\"item_ABOUT_CLASSIFICATION\" style=\"width: 100%; height: 31px;\"><img src=\"/javax.faces.resource/u6.png.xhtml?ln=images\" style=\"width: 100%; height: 31px;\"/>\n",
       " </span>,\n",
       " <span class=\"subitem_text\" id=\"text_ABOUT_CLASSIFICATION\" style=\"font-family: 'Calibri'; color: rgb(49, 28, 26); font-size: 15px; font-weight: bold;\">\n",
       " \t                    About Classification\n",
       " \t                </span>,\n",
       " <span id=\"item_DETAILED_GUIDE\" style=\"width: 100%; height: 31px;\"><img src=\"/javax.faces.resource/u6.png.xhtml?ln=images\" style=\"width: 100%; height: 31px;\"/>\n",
       " </span>,\n",
       " <span class=\"subitem_text\" id=\"text_DETAILED_GUIDE\" style=\"font-family: 'Calibri'; color: rgb(49, 28, 26); font-size: 15px; font-weight: bold;\">\n",
       " \t                    Detailed Guide to the Code\n",
       " \t                </span>,\n",
       " <span id=\"item_FAQ\" style=\"width: 100%; height: 31px;\"><img src=\"/javax.faces.resource/u6.png.xhtml?ln=images\" style=\"width: 100%; height: 31px;\"/>\n",
       " </span>,\n",
       " <span class=\"subitem_text\" id=\"text_FAQ\" style=\"font-family: 'Calibri'; color: rgb(49, 28, 26); font-size: 15px; font-weight: bold;\">\n",
       " \t                    FAQ and Glossary\n",
       " \t                </span>,\n",
       " <span id=\"item_POSITIVE_LAW\" style=\"width: 100%; height: 31px;\"><img src=\"/javax.faces.resource/u6.png.xhtml?ln=images\" style=\"width: 100%; height: 31px;\"/>\n",
       " </span>,\n",
       " <span class=\"item_text\" id=\"text_POSITIVE_LAW\" style=\"font-family: 'Calibri'; color: rgb(49, 28, 26); font-size: 15px; font-weight: bold;\">\n",
       " \t                    Positive Law Codification\n",
       " \t                </span>,\n",
       " <span id=\"item_EDITORIAL_RECLASSIFICATION\" style=\"width: 100%; height: 31px;\"><img src=\"/javax.faces.resource/u6.png.xhtml?ln=images\" style=\"width: 100%; height: 31px;\"/>\n",
       " </span>,\n",
       " <span class=\"item_text\" id=\"text_EDITORIAL_RECLASSIFICATION\" style=\"font-family: 'Calibri'; color: rgb(49, 28, 26); font-size: 15px; font-weight: bold;\">\n",
       " \t                    Editorial Reclassification\n",
       " \t                </span>,\n",
       " <span id=\"item_DOWNLOADS\" style=\"width: 100%; height: 31px;\"><img src=\"/javax.faces.resource/u29.png.xhtml?ln=images\" style=\"width: 100%; height: 31px;\"/>\n",
       " </span>,\n",
       " <span class=\"item_text\" id=\"text_DOWNLOADS\" style=\"font-family: 'Calibri'; color: rgb(0, 0, 0); font-size: 15px; font-weight: bold;\">\n",
       " \t                    Downloads\n",
       " \t                </span>,\n",
       " <span id=\"item_OTHER_RESOURCES\" style=\"width: 100%; height: 31px;\"><img src=\"/javax.faces.resource/u6.png.xhtml?ln=images\" style=\"width: 100%; height: 31px;\"/>\n",
       " </span>,\n",
       " <span class=\"item_text\" id=\"text_OTHER_RESOURCES\" style=\"font-family: 'Calibri'; color: rgb(49, 28, 26); font-size: 15px; font-weight: bold;\">\n",
       " \t                    Other Legislative Resources\n",
       " \t                </span>,\n",
       " <span id=\"item_CONGRESS_GOV\" style=\"width: 100%; height: 31px;\"><img src=\"/javax.faces.resource/u6.png.xhtml?ln=images\" style=\"width: 100%; height: 31px;\"/>\n",
       " </span>,\n",
       " <span class=\"subitem_text\" id=\"text_CONGRESS_GOV\" style=\"font-family: 'Calibri'; color: rgb(49, 28, 26); font-size: 15px; font-weight: bold;\">\n",
       " \t                    CONGRESS.GOV\n",
       " \t                </span>,\n",
       " <span id=\"item_GOVINFO\" style=\"width: 100%; height: 31px;\"><img src=\"/javax.faces.resource/u6.png.xhtml?ln=images\" style=\"width: 100%; height: 31px;\"/>\n",
       " </span>,\n",
       " <span class=\"subitem_text\" id=\"text_GOVINFO\" style=\"font-family: 'Calibri'; color: rgb(49, 28, 26); font-size: 15px; font-weight: bold;\">\n",
       " \t                    govinfo\n",
       " \t                </span>,\n",
       " <span id=\"item_HOLC_STATUTE_COMPILATIONS\" style=\"width: 100%; height: 31px;\"><img src=\"/javax.faces.resource/u6.png.xhtml?ln=images\" style=\"width: 100%; height: 31px;\"/>\n",
       " </span>,\n",
       " <span class=\"subitem_text\" id=\"text_HOLC_STATUTE_COMPILATIONS\" style=\"font-family: 'Calibri'; color: rgb(49, 28, 26); font-size: 15px; font-weight: bold;\">\n",
       " \t                    HOLC Statutory Compilations\n",
       " \t                </span>,\n",
       " <span class=\"footnote\"><a class=\"fn\" href=\"#fn\">٭</a></span>,\n",
       " <span class=\"footnote\"><a class=\"fn\" href=\"#fn\">٭</a></span>,\n",
       " <span class=\"footnote\"><a class=\"fn\" href=\"#fn\">٭</a></span>,\n",
       " <span class=\"footnote\"><a class=\"fn\" href=\"#fn\">٭</a></span>,\n",
       " <span class=\"footnote\"><a class=\"fn\" href=\"#fn\">٭</a></span>,\n",
       " <span class=\"footnote\"><a class=\"fn\" href=\"#fn\">٭</a></span>,\n",
       " <span class=\"footnote\"><a class=\"fn\" href=\"#fn\">٭</a></span>,\n",
       " <span class=\"footnote\"><a class=\"fn\" href=\"#fn\">٭</a></span>,\n",
       " <span class=\"footnote\"><a class=\"fn\" href=\"#fn\">٭</a></span>,\n",
       " <span class=\"footnote\"><a class=\"fn\" href=\"#fn\">٭</a></span>,\n",
       " <span class=\"footnote\"><a class=\"fn\" href=\"#fn\">٭</a></span>,\n",
       " <span class=\"footnote\"><a class=\"fn\" href=\"#fn\">٭</a></span>,\n",
       " <span class=\"footnote\"><a class=\"fn\" href=\"#fn\">٭</a></span>,\n",
       " <span class=\"footnote\"><a class=\"fn\" href=\"#fn\">٭</a></span>,\n",
       " <span class=\"footnote\"><a class=\"fn\" href=\"#fn\">٭</a></span>,\n",
       " <span class=\"footnote\"><a class=\"fn\" href=\"#fn\">٭</a></span>,\n",
       " <span class=\"footnote\"><a class=\"fn\" href=\"#fn\">٭</a></span>,\n",
       " <span class=\"footnote\"><a class=\"fn\" href=\"#fn\">٭</a></span>,\n",
       " <span class=\"footnote\"><a class=\"fn\" href=\"#fn\">٭</a></span>,\n",
       " <span class=\"footnote\"><a class=\"fn\" href=\"#fn\">٭</a></span>,\n",
       " <span class=\"footnote\"><a class=\"fn\" href=\"#fn\">٭</a></span>,\n",
       " <span class=\"footnote\"><a class=\"fn\" href=\"#fn\">٭</a></span>,\n",
       " <span class=\"footnote\"><a class=\"fn\" href=\"#fn\">٭</a></span>,\n",
       " <span class=\"footnote\"><a class=\"fn\" href=\"#fn\">٭</a></span>,\n",
       " <span class=\"footnote\"><a class=\"fn\" href=\"#fn\">٭</a></span>,\n",
       " <span class=\"footnote\"><a class=\"fn\" href=\"#fn\">٭</a></span>,\n",
       " <span class=\"footnote\"><a class=\"fn\" href=\"#fn\">٭</a></span>,\n",
       " <span class=\"footnote\">٭</span>,\n",
       " <span class=\"footer\">\n",
       " \t\t\t\t    16v4      \n",
       "                     <a href=\"/about_office.xhtml;jsessionid=4AB1A44A9B2767620CFC85B2AA995330\">About the Office</a> \n",
       "                           <a href=\"/privacy_policy.xhtml;jsessionid=4AB1A44A9B2767620CFC85B2AA995330\">Privacy Policy</a>\n",
       " </span>,\n",
       " <span class=\"debugCode\" id=\"resizeWindow\">\n",
       " <form action=\"/static.xhtml;jsessionid=4AB1A44A9B2767620CFC85B2AA995330\" enctype=\"application/x-www-form-urlencoded\" id=\"formPrefs\" method=\"post\" name=\"formPrefs\">\n",
       " <input name=\"formPrefs\" type=\"hidden\" value=\"formPrefs\"/>\n",
       " <input id=\"winTop\" name=\"winTop\" type=\"hidden\" value=\"0\"/><input id=\"left\" name=\"left\" type=\"hidden\" value=\"0\"/><input id=\"width\" name=\"width\" type=\"hidden\" value=\"0\"/><input id=\"height\" name=\"height\" type=\"hidden\" value=\"0\"/><input id=\"submitBtn\" name=\"submitBtn\" onclick=\"jsf.ajax.request(this, event, {execute:'@form', render: '@form'}); return false;\" type=\"submit\" value=\"change value\"/><input id=\"refreshBtn\" name=\"refreshBtn\" onclick=\"jsf.ajax.request(this, event, {render: '@form'}); return false;\" type=\"submit\" value=\"refresh value\"/><input autocomplete=\"off\" id=\"javax.faces.ViewState\" name=\"javax.faces.ViewState\" type=\"hidden\" value=\"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\"/>\n",
       " </form>\n",
       " <form action=\"/static.xhtml;jsessionid=4AB1A44A9B2767620CFC85B2AA995330\" enctype=\"application/x-www-form-urlencoded\" id=\"formStdRef\" method=\"post\" name=\"formStdRef\">\n",
       " <input name=\"formStdRef\" type=\"hidden\" value=\"formStdRef\"/>\n",
       " <input id=\"first\" name=\"first\" type=\"hidden\" value=\"\"/><input id=\"second\" name=\"second\" type=\"hidden\" value=\"\"/><input id=\"type\" name=\"type\" type=\"hidden\" value=\"\"/><input id=\"url\" name=\"url\" type=\"hidden\" value=\"\"/><input id=\"stdRefBtn\" name=\"stdRefBtn\" onclick=\"jsf.ajax.request(this, event, {execute:'@form', render: '@form'}); return false;\" type=\"submit\" value=\"open std ref value\"/><input autocomplete=\"off\" id=\"javax.faces.ViewState\" name=\"javax.faces.ViewState\" type=\"hidden\" value=\"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\"/>\n",
       " </form></span>]"
      ]
     },
     "execution_count": 73,
     "metadata": {},
     "output_type": "execute_result"
    }
   ],
   "source": [
    "# your code here\n",
    "e=response = requests.get(url)\n",
    "e=e.content\n",
    "parsed_html4 = bs4.BeautifulSoup(e, \"html.parser\")\n",
    "quake=parsed_html4.find_all('span')\n",
    "quake"
   ]
  },
  {
   "cell_type": "markdown",
   "metadata": {},
   "source": [
    "#### Count the number of tweets by a given Twitter account.\n",
    "Ask the user for the handle (@handle) of a twitter account. You will need to include a ***try/except block*** for account names not found. \n",
    "<br>***Hint:*** the program should count the number of tweets for any provided account."
   ]
  },
  {
   "cell_type": "code",
   "execution_count": null,
   "metadata": {},
   "outputs": [],
   "source": [
    "# This is the url you will scrape in this exercise \n",
    "# You will need to add the account credentials to this url\n",
    "url = 'https://twitter.com/'"
   ]
  },
  {
   "cell_type": "code",
   "execution_count": null,
   "metadata": {},
   "outputs": [],
   "source": [
    "# your code here"
   ]
  },
  {
   "cell_type": "markdown",
   "metadata": {},
   "source": [
    "#### Number of followers of a given twitter account\n",
    "Ask the user for the handle (@handle) of a twitter account. You will need to include a ***try/except block*** for account names not found. \n",
    "<br>***Hint:*** the program should count the followers for any provided account."
   ]
  },
  {
   "cell_type": "code",
   "execution_count": null,
   "metadata": {},
   "outputs": [],
   "source": [
    "# This is the url you will scrape in this exercise \n",
    "# You will need to add the account credentials to this url\n",
    "url = 'https://twitter.com/'"
   ]
  },
  {
   "cell_type": "code",
   "execution_count": null,
   "metadata": {},
   "outputs": [],
   "source": [
    "# your code here"
   ]
  },
  {
   "cell_type": "markdown",
   "metadata": {},
   "source": [
    "#### List all language names and number of related articles in the order they appear in wikipedia.org."
   ]
  },
  {
   "cell_type": "code",
   "execution_count": null,
   "metadata": {},
   "outputs": [],
   "source": [
    "# This is the url you will scrape in this exercise\n",
    "url = 'https://www.wikipedia.org/'"
   ]
  },
  {
   "cell_type": "code",
   "execution_count": null,
   "metadata": {},
   "outputs": [],
   "source": [
    "# your code here"
   ]
  },
  {
   "cell_type": "markdown",
   "metadata": {},
   "source": [
    "#### A list with the different kind of datasets available in data.gov.uk."
   ]
  },
  {
   "cell_type": "code",
   "execution_count": null,
   "metadata": {},
   "outputs": [],
   "source": [
    "# This is the url you will scrape in this exercise\n",
    "url = 'https://data.gov.uk/'"
   ]
  },
  {
   "cell_type": "code",
   "execution_count": null,
   "metadata": {},
   "outputs": [],
   "source": [
    "# your code here"
   ]
  },
  {
   "cell_type": "markdown",
   "metadata": {},
   "source": [
    "#### Display the top 10 languages by number of native speakers stored in a pandas dataframe."
   ]
  },
  {
   "cell_type": "code",
   "execution_count": null,
   "metadata": {},
   "outputs": [],
   "source": [
    "# This is the url you will scrape in this exercise\n",
    "url = 'https://en.wikipedia.org/wiki/List_of_languages_by_number_of_native_speakers'"
   ]
  },
  {
   "cell_type": "code",
   "execution_count": null,
   "metadata": {},
   "outputs": [],
   "source": [
    "# your code here"
   ]
  },
  {
   "cell_type": "markdown",
   "metadata": {},
   "source": [
    "## Bonus\n",
    "#### Scrape a certain number of tweets of a given Twitter account."
   ]
  },
  {
   "cell_type": "code",
   "execution_count": null,
   "metadata": {},
   "outputs": [],
   "source": [
    "# This is the url you will scrape in this exercise \n",
    "# You will need to add the account credentials to this url\n",
    "url = 'https://twitter.com/'"
   ]
  },
  {
   "cell_type": "code",
   "execution_count": null,
   "metadata": {},
   "outputs": [],
   "source": [
    "# your code here"
   ]
  },
  {
   "cell_type": "markdown",
   "metadata": {},
   "source": [
    "#### Display IMDB's top 250 data (movie name, initial release, director name and stars) as a pandas dataframe."
   ]
  },
  {
   "cell_type": "code",
   "execution_count": null,
   "metadata": {},
   "outputs": [],
   "source": [
    "# This is the url you will scrape in this exercise \n",
    "url = 'https://www.imdb.com/chart/top'"
   ]
  },
  {
   "cell_type": "code",
   "execution_count": null,
   "metadata": {},
   "outputs": [],
   "source": [
    "# your code here"
   ]
  },
  {
   "cell_type": "markdown",
   "metadata": {},
   "source": [
    "#### Display the movie name, year and a brief summary of the top 10 random movies (IMDB) as a pandas dataframe."
   ]
  },
  {
   "cell_type": "code",
   "execution_count": null,
   "metadata": {},
   "outputs": [],
   "source": [
    "#This is the url you will scrape in this exercise\n",
    "url = 'http://www.imdb.com/chart/top'"
   ]
  },
  {
   "cell_type": "code",
   "execution_count": null,
   "metadata": {},
   "outputs": [],
   "source": [
    "# your code here"
   ]
  },
  {
   "cell_type": "markdown",
   "metadata": {},
   "source": [
    "#### Find the live weather report (temperature, wind speed, description and weather) of a given city."
   ]
  },
  {
   "cell_type": "code",
   "execution_count": null,
   "metadata": {},
   "outputs": [],
   "source": [
    "#https://openweathermap.org/current\n",
    "city = input('Enter the city: ')\n",
    "url = 'http://api.openweathermap.org/data/2.5/weather?'+'q='+city+'&APPID=b35975e18dc93725acb092f7272cc6b8&units=metric'"
   ]
  },
  {
   "cell_type": "code",
   "execution_count": null,
   "metadata": {},
   "outputs": [],
   "source": [
    "# your code here"
   ]
  },
  {
   "cell_type": "markdown",
   "metadata": {},
   "source": [
    "#### Find the book name, price and stock availability as a pandas dataframe."
   ]
  },
  {
   "cell_type": "code",
   "execution_count": null,
   "metadata": {},
   "outputs": [],
   "source": [
    "# This is the url you will scrape in this exercise. \n",
    "# It is a fictional bookstore created to be scraped. \n",
    "url = 'http://books.toscrape.com/'"
   ]
  },
  {
   "cell_type": "code",
   "execution_count": null,
   "metadata": {},
   "outputs": [],
   "source": [
    "# your code here"
   ]
  }
 ],
 "metadata": {
  "kernelspec": {
   "display_name": "Python [conda env:m1-ih]",
   "language": "python",
   "name": "conda-env-m1-ih-py"
  },
  "language_info": {
   "codemirror_mode": {
    "name": "ipython",
    "version": 3
   },
   "file_extension": ".py",
   "mimetype": "text/x-python",
   "name": "python",
   "nbconvert_exporter": "python",
   "pygments_lexer": "ipython3",
   "version": "3.9.12"
  }
 },
 "nbformat": 4,
 "nbformat_minor": 2
}
