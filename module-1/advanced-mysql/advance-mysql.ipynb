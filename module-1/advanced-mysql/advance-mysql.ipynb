{
 "cells": [
  {
   "cell_type": "code",
   "execution_count": 33,
   "id": "82a400fe",
   "metadata": {},
   "outputs": [],
   "source": [
    "import sqlalchemy\n",
    "from sqlalchemy import create_engine\n",
    "from sqlalchemy import inspect\n",
    "import pandas as pd"
   ]
  },
  {
   "cell_type": "code",
   "execution_count": 38,
   "id": "117f5d7a",
   "metadata": {},
   "outputs": [
    {
     "data": {
      "text/plain": [
       "'sqlite:///publications.db'"
      ]
     },
     "execution_count": 38,
     "metadata": {},
     "output_type": "execute_result"
    }
   ],
   "source": [
    "conection_string = 'sqlite:///publications.db'\n",
    "conection_string"
   ]
  },
  {
   "cell_type": "code",
   "execution_count": 39,
   "id": "27dc8576",
   "metadata": {},
   "outputs": [],
   "source": [
    "engine=create_engine(conection_string)"
   ]
  },
  {
   "cell_type": "code",
   "execution_count": 40,
   "id": "6b4ced2e",
   "metadata": {},
   "outputs": [
    {
     "data": {
      "text/plain": [
       "Engine(sqlite:///publications.db)"
      ]
     },
     "execution_count": 40,
     "metadata": {},
     "output_type": "execute_result"
    }
   ],
   "source": [
    "engine"
   ]
  },
  {
   "cell_type": "code",
   "execution_count": 41,
   "id": "26f87bd9",
   "metadata": {},
   "outputs": [
    {
     "data": {
      "text/plain": [
       "['authors',\n",
       " 'discounts',\n",
       " 'employee',\n",
       " 'jobs',\n",
       " 'pub_info',\n",
       " 'publishers',\n",
       " 'roysched',\n",
       " 'sales',\n",
       " 'stores',\n",
       " 'titleauthor',\n",
       " 'titles']"
      ]
     },
     "execution_count": 41,
     "metadata": {},
     "output_type": "execute_result"
    }
   ],
   "source": [
    "inspector=inspect(engine)\n",
    "inspector.get_table_names()\n"
   ]
  },
  {
   "cell_type": "code",
   "execution_count": null,
   "id": "8e15911c",
   "metadata": {},
   "outputs": [],
   "source": [
    "# CHALLENGE1: Most profiting authors\n",
    "#Step 1: Calculate the royalty of each sale for each author and the advance for each author and publication"
   ]
  },
  {
   "cell_type": "code",
   "execution_count": 50,
   "id": "86d7dd06",
   "metadata": {},
   "outputs": [],
   "source": [
    "var1='''\n",
    "SELECT authors.au_id AS 'AUTHOR ID',\n",
    "ti.title_id AS 'TITLE ID',\n",
    "ti.advance as 'ADVANCE'\n",
    "FROM authors\n",
    "INNER JOIN titles ti ON ti.title_id=t.title_id\n",
    "INNER JOIN titleauthor t ON authors.au_id=t.au_id\n",
    "'''\n",
    "\n",
    "ST1=pd.read_sql_query(var1, engine)"
   ]
  },
  {
   "cell_type": "code",
   "execution_count": 49,
   "id": "af1974b6",
   "metadata": {},
   "outputs": [
    {
     "data": {
      "text/html": [
       "<div>\n",
       "<style scoped>\n",
       "    .dataframe tbody tr th:only-of-type {\n",
       "        vertical-align: middle;\n",
       "    }\n",
       "\n",
       "    .dataframe tbody tr th {\n",
       "        vertical-align: top;\n",
       "    }\n",
       "\n",
       "    .dataframe thead th {\n",
       "        text-align: right;\n",
       "    }\n",
       "</style>\n",
       "<table border=\"1\" class=\"dataframe\">\n",
       "  <thead>\n",
       "    <tr style=\"text-align: right;\">\n",
       "      <th></th>\n",
       "      <th>AUTHOR ID</th>\n",
       "      <th>TITLE ID</th>\n",
       "      <th>ADVANCE</th>\n",
       "    </tr>\n",
       "  </thead>\n",
       "  <tbody>\n",
       "    <tr>\n",
       "      <th>0</th>\n",
       "      <td>172-32-1176</td>\n",
       "      <td>PS3333</td>\n",
       "      <td>2000.0</td>\n",
       "    </tr>\n",
       "    <tr>\n",
       "      <th>1</th>\n",
       "      <td>213-46-8915</td>\n",
       "      <td>BU1032</td>\n",
       "      <td>5000.0</td>\n",
       "    </tr>\n",
       "    <tr>\n",
       "      <th>2</th>\n",
       "      <td>238-95-7766</td>\n",
       "      <td>PC1035</td>\n",
       "      <td>7000.0</td>\n",
       "    </tr>\n",
       "    <tr>\n",
       "      <th>3</th>\n",
       "      <td>267-41-2394</td>\n",
       "      <td>BU1111</td>\n",
       "      <td>5000.0</td>\n",
       "    </tr>\n",
       "    <tr>\n",
       "      <th>4</th>\n",
       "      <td>274-80-9391</td>\n",
       "      <td>BU7832</td>\n",
       "      <td>5000.0</td>\n",
       "    </tr>\n",
       "    <tr>\n",
       "      <th>5</th>\n",
       "      <td>409-56-7008</td>\n",
       "      <td>BU1032</td>\n",
       "      <td>5000.0</td>\n",
       "    </tr>\n",
       "    <tr>\n",
       "      <th>6</th>\n",
       "      <td>427-17-2319</td>\n",
       "      <td>PC8888</td>\n",
       "      <td>8000.0</td>\n",
       "    </tr>\n",
       "    <tr>\n",
       "      <th>7</th>\n",
       "      <td>472-27-2349</td>\n",
       "      <td>TC7777</td>\n",
       "      <td>8000.0</td>\n",
       "    </tr>\n",
       "    <tr>\n",
       "      <th>8</th>\n",
       "      <td>486-29-1786</td>\n",
       "      <td>PC9999</td>\n",
       "      <td>NaN</td>\n",
       "    </tr>\n",
       "    <tr>\n",
       "      <th>9</th>\n",
       "      <td>648-92-1872</td>\n",
       "      <td>TC4203</td>\n",
       "      <td>4000.0</td>\n",
       "    </tr>\n",
       "    <tr>\n",
       "      <th>10</th>\n",
       "      <td>672-71-3249</td>\n",
       "      <td>TC7777</td>\n",
       "      <td>8000.0</td>\n",
       "    </tr>\n",
       "    <tr>\n",
       "      <th>11</th>\n",
       "      <td>712-45-1867</td>\n",
       "      <td>MC2222</td>\n",
       "      <td>0.0</td>\n",
       "    </tr>\n",
       "    <tr>\n",
       "      <th>12</th>\n",
       "      <td>722-51-5454</td>\n",
       "      <td>MC3021</td>\n",
       "      <td>15000.0</td>\n",
       "    </tr>\n",
       "    <tr>\n",
       "      <th>13</th>\n",
       "      <td>724-80-9391</td>\n",
       "      <td>BU1111</td>\n",
       "      <td>5000.0</td>\n",
       "    </tr>\n",
       "    <tr>\n",
       "      <th>14</th>\n",
       "      <td>756-30-7391</td>\n",
       "      <td>PS1372</td>\n",
       "      <td>7000.0</td>\n",
       "    </tr>\n",
       "    <tr>\n",
       "      <th>15</th>\n",
       "      <td>807-91-6654</td>\n",
       "      <td>TC3218</td>\n",
       "      <td>7000.0</td>\n",
       "    </tr>\n",
       "    <tr>\n",
       "      <th>16</th>\n",
       "      <td>846-92-7186</td>\n",
       "      <td>PC8888</td>\n",
       "      <td>8000.0</td>\n",
       "    </tr>\n",
       "    <tr>\n",
       "      <th>17</th>\n",
       "      <td>899-46-2035</td>\n",
       "      <td>MC3021</td>\n",
       "      <td>15000.0</td>\n",
       "    </tr>\n",
       "    <tr>\n",
       "      <th>18</th>\n",
       "      <td>998-72-3567</td>\n",
       "      <td>PS2091</td>\n",
       "      <td>2275.0</td>\n",
       "    </tr>\n",
       "  </tbody>\n",
       "</table>\n",
       "</div>"
      ],
      "text/plain": [
       "      AUTHOR ID TITLE ID  ADVANCE\n",
       "0   172-32-1176   PS3333   2000.0\n",
       "1   213-46-8915   BU1032   5000.0\n",
       "2   238-95-7766   PC1035   7000.0\n",
       "3   267-41-2394   BU1111   5000.0\n",
       "4   274-80-9391   BU7832   5000.0\n",
       "5   409-56-7008   BU1032   5000.0\n",
       "6   427-17-2319   PC8888   8000.0\n",
       "7   472-27-2349   TC7777   8000.0\n",
       "8   486-29-1786   PC9999      NaN\n",
       "9   648-92-1872   TC4203   4000.0\n",
       "10  672-71-3249   TC7777   8000.0\n",
       "11  712-45-1867   MC2222      0.0\n",
       "12  722-51-5454   MC3021  15000.0\n",
       "13  724-80-9391   BU1111   5000.0\n",
       "14  756-30-7391   PS1372   7000.0\n",
       "15  807-91-6654   TC3218   7000.0\n",
       "16  846-92-7186   PC8888   8000.0\n",
       "17  899-46-2035   MC3021  15000.0\n",
       "18  998-72-3567   PS2091   2275.0"
      ]
     },
     "execution_count": 49,
     "metadata": {},
     "output_type": "execute_result"
    }
   ],
   "source": [
    "ST1"
   ]
  },
  {
   "cell_type": "code",
   "execution_count": null,
   "id": "bfc9b050",
   "metadata": {},
   "outputs": [],
   "source": []
  }
 ],
 "metadata": {
  "kernelspec": {
   "display_name": "Python [conda env:m1-ih]",
   "language": "python",
   "name": "conda-env-m1-ih-py"
  },
  "language_info": {
   "codemirror_mode": {
    "name": "ipython",
    "version": 3
   },
   "file_extension": ".py",
   "mimetype": "text/x-python",
   "name": "python",
   "nbconvert_exporter": "python",
   "pygments_lexer": "ipython3",
   "version": "3.9.12"
  }
 },
 "nbformat": 4,
 "nbformat_minor": 5
}
