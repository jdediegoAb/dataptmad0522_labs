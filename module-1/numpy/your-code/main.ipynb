{
 "cells": [
  {
   "cell_type": "markdown",
   "metadata": {},
   "source": [
    "# Introduction to NumPy\n",
    "\n",
    "\n",
    "#### 1. Import NumPy under the name np."
   ]
  },
  {
   "cell_type": "code",
   "execution_count": 1,
   "metadata": {},
   "outputs": [],
   "source": [
    "# your code here\n",
    "import numpy as np"
   ]
  },
  {
   "cell_type": "markdown",
   "metadata": {},
   "source": [
    "#### 2. Print your NumPy version."
   ]
  },
  {
   "cell_type": "code",
   "execution_count": 2,
   "metadata": {},
   "outputs": [
    {
     "name": "stdout",
     "output_type": "stream",
     "text": [
      "1.22.3\n"
     ]
    }
   ],
   "source": [
    "# your code here\n",
    "print(np.__version__)"
   ]
  },
  {
   "cell_type": "markdown",
   "metadata": {},
   "source": [
    "#### 3. Generate a 2x3x5 3-dimensional array with random values. Assign the array to variable *a*.\n",
    "**Challenge**: there are at least three easy ways that use numpy to generate random arrays. How many ways can you find?"
   ]
  },
  {
   "cell_type": "code",
   "execution_count": 3,
   "metadata": {},
   "outputs": [
    {
     "name": "stdout",
     "output_type": "stream",
     "text": [
      "[[[0.94758917 0.82349825 0.90035463 0.07735231 0.20069375]\n",
      "  [0.8624134  0.50302704 0.6409257  0.43045051 0.54218332]\n",
      "  [0.35587837 0.42152456 0.85028228 0.60261446 0.15878227]]\n",
      "\n",
      " [[0.81246725 0.18502173 0.49952593 0.41065251 0.3242133 ]\n",
      "  [0.86301674 0.91347792 0.4110356  0.79009186 0.43742025]\n",
      "  [0.26144041 0.85254412 0.7177171  0.10439967 0.98289624]]]\n"
     ]
    }
   ],
   "source": [
    "# Method 1------random float between 0 and 1\n",
    "a1=np.random.rand(2,3,5)\n",
    "print (a1)"
   ]
  },
  {
   "cell_type": "code",
   "execution_count": 4,
   "metadata": {},
   "outputs": [
    {
     "name": "stdout",
     "output_type": "stream",
     "text": [
      "[[[14  5 15  9 30]\n",
      "  [49 48 29  9 48]\n",
      "  [38 12 31 49  7]]\n",
      "\n",
      " [[24 17  2 27 13]\n",
      "  [ 9 34 38 11  5]\n",
      "  [20 49 38  3 36]]]\n"
     ]
    }
   ],
   "source": [
    "\n",
    "# Method 2-----The randint() method takes a size parameter where you can specify the shape of an array\n",
    "a=np.random.randint(50,size=(2,3,5))\n",
    "print(a)"
   ]
  },
  {
   "cell_type": "code",
   "execution_count": 5,
   "metadata": {},
   "outputs": [
    {
     "name": "stdout",
     "output_type": "stream",
     "text": [
      "[[[6 6 1 6 1]\n",
      "  [1 1 9 9 3]\n",
      "  [6 8 0 8 9]]\n",
      "\n",
      " [[3 8 8 1 1]\n",
      "  [3 1 3 0 6]\n",
      "  [3 0 6 3 8]]]\n"
     ]
    }
   ],
   "source": [
    "# Method 3------The choice() method allows you to generate a random value based on an array of values.\n",
    "a3=np.random.choice([3,1,0,6,8,9], size=(2,3,5))\n",
    "print(a3)"
   ]
  },
  {
   "cell_type": "markdown",
   "metadata": {},
   "source": [
    "#### 4. Print *a*.\n"
   ]
  },
  {
   "cell_type": "code",
   "execution_count": 6,
   "metadata": {},
   "outputs": [
    {
     "name": "stdout",
     "output_type": "stream",
     "text": [
      "[[[14  5 15  9 30]\n",
      "  [49 48 29  9 48]\n",
      "  [38 12 31 49  7]]\n",
      "\n",
      " [[24 17  2 27 13]\n",
      "  [ 9 34 38 11  5]\n",
      "  [20 49 38  3 36]]]\n"
     ]
    }
   ],
   "source": [
    "# your code here\n",
    "print(a)"
   ]
  },
  {
   "cell_type": "markdown",
   "metadata": {},
   "source": [
    "#### 5. Create a 5x2x3 3-dimensional array with all values equaling 1. Assign the array to variable *b*."
   ]
  },
  {
   "cell_type": "code",
   "execution_count": 7,
   "metadata": {},
   "outputs": [],
   "source": [
    "# your code here\n",
    "b=np.random.choice([1],size=(5,2,3))"
   ]
  },
  {
   "cell_type": "markdown",
   "metadata": {},
   "source": [
    "#### 6. Print *b*.\n"
   ]
  },
  {
   "cell_type": "code",
   "execution_count": 8,
   "metadata": {},
   "outputs": [
    {
     "name": "stdout",
     "output_type": "stream",
     "text": [
      "[[[1 1 1]\n",
      "  [1 1 1]]\n",
      "\n",
      " [[1 1 1]\n",
      "  [1 1 1]]\n",
      "\n",
      " [[1 1 1]\n",
      "  [1 1 1]]\n",
      "\n",
      " [[1 1 1]\n",
      "  [1 1 1]]\n",
      "\n",
      " [[1 1 1]\n",
      "  [1 1 1]]]\n"
     ]
    }
   ],
   "source": [
    "# your code here\n",
    "print(b)"
   ]
  },
  {
   "cell_type": "markdown",
   "metadata": {},
   "source": [
    "#### 7. Do *a* and *b* have the same size? How do you prove that in Python code?"
   ]
  },
  {
   "cell_type": "code",
   "execution_count": 9,
   "metadata": {},
   "outputs": [
    {
     "data": {
      "text/plain": [
       "True"
      ]
     },
     "execution_count": 9,
     "metadata": {},
     "output_type": "execute_result"
    }
   ],
   "source": [
    "# your code here\n",
    "np.size(a)==np.size(b)"
   ]
  },
  {
   "cell_type": "markdown",
   "metadata": {},
   "source": [
    "#### 8. Are you able to add *a* and *b*? Why or why not?\n"
   ]
  },
  {
   "cell_type": "code",
   "execution_count": 10,
   "metadata": {},
   "outputs": [
    {
     "ename": "ValueError",
     "evalue": "operands could not be broadcast together with shapes (2,3,5) (5,2,3) ",
     "output_type": "error",
     "traceback": [
      "\u001b[0;31m---------------------------------------------------------------------------\u001b[0m",
      "\u001b[0;31mValueError\u001b[0m                                Traceback (most recent call last)",
      "Input \u001b[0;32mIn [10]\u001b[0m, in \u001b[0;36m<cell line: 2>\u001b[0;34m()\u001b[0m\n\u001b[1;32m      1\u001b[0m \u001b[38;5;66;03m# your answer here\u001b[39;00m\n\u001b[0;32m----> 2\u001b[0m \u001b[43mnp\u001b[49m\u001b[38;5;241;43m.\u001b[39;49m\u001b[43madd\u001b[49m\u001b[43m(\u001b[49m\u001b[43ma\u001b[49m\u001b[43m,\u001b[49m\u001b[43mb\u001b[49m\u001b[43m)\u001b[49m\n",
      "\u001b[0;31mValueError\u001b[0m: operands could not be broadcast together with shapes (2,3,5) (5,2,3) "
     ]
    }
   ],
   "source": [
    "# your answer here\n",
    "np.add(a,b)\n",
    "\n",
    "#is not possible as the SHAPE is not the same for the arrays.they must be broadcastable to a common shape"
   ]
  },
  {
   "cell_type": "markdown",
   "metadata": {},
   "source": [
    "#### 9. Transpose *b* so that it has the same structure of *a* (i.e. become a 2x3x5 array). Assign the transposed array to variable *c*."
   ]
  },
  {
   "cell_type": "code",
   "execution_count": 11,
   "metadata": {},
   "outputs": [
    {
     "name": "stdout",
     "output_type": "stream",
     "text": [
      "[[[1 1 1 1 1]\n",
      "  [1 1 1 1 1]\n",
      "  [1 1 1 1 1]]\n",
      "\n",
      " [[1 1 1 1 1]\n",
      "  [1 1 1 1 1]\n",
      "  [1 1 1 1 1]]]\n"
     ]
    }
   ],
   "source": [
    "# your code here\n",
    "c=np.transpose(b,(1,2,0))\n",
    "print(c)"
   ]
  },
  {
   "cell_type": "markdown",
   "metadata": {},
   "source": [
    "#### 10. Try to add *a* and *c*. Now it should work. Assign the sum to variable *d*. But why does it work now?"
   ]
  },
  {
   "cell_type": "code",
   "execution_count": 40,
   "metadata": {},
   "outputs": [],
   "source": [
    "# your code/answer here\n",
    "# mirar que al transponer b se cambia de una (5,2,3) a una (3,2,5) y queremos una (2,3,5)\n",
    "d=np.add(a,c)"
   ]
  },
  {
   "cell_type": "markdown",
   "metadata": {},
   "source": [
    "#### 11. Print *a* and *d*. Notice the difference and relation of the two array in terms of the values? Explain."
   ]
  },
  {
   "cell_type": "code",
   "execution_count": 41,
   "metadata": {},
   "outputs": [
    {
     "name": "stdout",
     "output_type": "stream",
     "text": [
      "a= [[[14  5 15  9 30]\n",
      "  [49 48 29  9 48]\n",
      "  [38 12 31 49  7]]\n",
      "\n",
      " [[24 17  2 27 13]\n",
      "  [ 9 34 38 11  5]\n",
      "  [20 49 38  3 36]]]\n",
      "d= [[[15  6 16 10 31]\n",
      "  [50 49 30 10 49]\n",
      "  [39 13 32 50  8]]\n",
      "\n",
      " [[25 18  3 28 14]\n",
      "  [10 35 39 12  6]\n",
      "  [21 50 39  4 37]]]\n"
     ]
    }
   ],
   "source": [
    "# your code/answer here\n",
    "print('a=',a)\n",
    "print('d=',d)"
   ]
  },
  {
   "cell_type": "markdown",
   "metadata": {},
   "source": [
    "#### 12. Multiply *a* and *c*. Assign the result to *e*."
   ]
  },
  {
   "cell_type": "code",
   "execution_count": 42,
   "metadata": {},
   "outputs": [
    {
     "name": "stdout",
     "output_type": "stream",
     "text": [
      "[[[14  5 15  9 30]\n",
      "  [49 48 29  9 48]\n",
      "  [38 12 31 49  7]]\n",
      "\n",
      " [[24 17  2 27 13]\n",
      "  [ 9 34 38 11  5]\n",
      "  [20 49 38  3 36]]]\n"
     ]
    }
   ],
   "source": [
    "# your code here\n",
    "e= np.multiply(a,c)\n",
    "print(e)"
   ]
  },
  {
   "cell_type": "markdown",
   "metadata": {},
   "source": [
    "#### 13. Does *e* equal to *a*? Why or why not?\n"
   ]
  },
  {
   "cell_type": "code",
   "execution_count": 43,
   "metadata": {},
   "outputs": [
    {
     "data": {
      "text/plain": [
       "True"
      ]
     },
     "execution_count": 43,
     "metadata": {},
     "output_type": "execute_result"
    }
   ],
   "source": [
    "# your code/answer here\n",
    "np.size(a)==np.size(e)\n",
    "np.shape(a)==np.shape(e)\n",
    "#a y b have the same size and shape(2,3,5)  so the result has the same size and shape."
   ]
  },
  {
   "cell_type": "markdown",
   "metadata": {},
   "source": [
    "#### 14. Identify the max, min, and mean values in *d*. Assign those values to variables *d_max*, *d_min* and *d_mean*."
   ]
  },
  {
   "cell_type": "code",
   "execution_count": 44,
   "metadata": {},
   "outputs": [
    {
     "name": "stdout",
     "output_type": "stream",
     "text": [
      "50 / 3 / 24.966666666666665\n"
     ]
    }
   ],
   "source": [
    "# your code here\n",
    "d_max=np.max(d)\n",
    "d_min=np.min(d)\n",
    "d_mean=np.average(d)\n",
    "print(d_max,\"/\",d_min,\"/\",d_mean)"
   ]
  },
  {
   "cell_type": "markdown",
   "metadata": {},
   "source": [
    "#### 15. Now we want to label the values in *d*. First create an empty array *f* with the same shape (i.e. 2x3x5) as *d* using `np.empty`.\n"
   ]
  },
  {
   "cell_type": "code",
   "execution_count": 45,
   "metadata": {},
   "outputs": [
    {
     "name": "stdout",
     "output_type": "stream",
     "text": [
      "[[[6.92e-323 2.47e-323 7.41e-323 4.45e-323 1.48e-322]\n",
      "  [2.42e-322 2.37e-322 1.43e-322 4.45e-323 2.37e-322]\n",
      "  [1.88e-322 5.93e-323 1.53e-322 2.42e-322 3.46e-323]]\n",
      "\n",
      " [[1.19e-322 8.40e-323 9.88e-324 1.33e-322 6.42e-323]\n",
      "  [4.45e-323 1.68e-322 1.88e-322 5.43e-323 2.47e-323]\n",
      "  [9.88e-323 2.42e-322 1.88e-322 1.48e-323 1.78e-322]]]\n"
     ]
    }
   ],
   "source": [
    "# your code here\n",
    "f=np.empty([2,3,5])\n",
    "print(f)"
   ]
  },
  {
   "cell_type": "markdown",
   "metadata": {},
   "source": [
    "#### 16. Populate the values in *f*. \n",
    "\n",
    "For each value in *d*, if it's larger than *d_min* but smaller than *d_mean*, assign 25 to the corresponding value in *f*. If a value in *d* is larger than *d_mean* but smaller than *d_max*, assign 75 to the corresponding value in *f*. If a value equals to *d_mean*, assign 50 to the corresponding value in *f*. Assign 0 to the corresponding value(s) in *f* for *d_min* in *d*. Assign 100 to the corresponding value(s) in *f* for *d_max* in *d*. In the end, f should have only the following values: 0, 25, 50, 75, and 100.\n",
    "\n",
    "**Note**: you don't have to use Numpy in this question."
   ]
  },
  {
   "cell_type": "code",
   "execution_count": 46,
   "metadata": {},
   "outputs": [],
   "source": [
    "for j in d:\n",
    "    for i in j:\n",
    "        if (i.any() > d_min and i.any()< d_mean):\n",
    "            arr[f] = 25\n",
    "        if i.any() > d_mean and i.any() < d_max:\n",
    "            arr[f] = 75\n",
    "        if i.any() == d_mean:\n",
    "            arr[f]= 50\n",
    "        #if i.any() == d_min: #(no me funciona esta parte)\n",
    "            #f[i] = 0\n",
    "        if i.any() == d_max:\n",
    "            arr[f] = 100\n"
   ]
  },
  {
   "cell_type": "markdown",
   "metadata": {},
   "source": [
    "#### 17. Print *d* and *f*. Do you have your expected *f*?\n",
    "For instance, if your *d* is:\n",
    "```python\n",
    "[[[1.85836099, 1.67064465, 1.62576044, 1.40243961, 1.88454931],\n",
    "[1.75354326, 1.69403643, 1.36729252, 1.61415071, 1.12104981],\n",
    "[1.72201435, 1.1862918 , 1.87078449, 1.7726778 , 1.88180042]],\n",
    "[[1.44747908, 1.31673383, 1.02000951, 1.52218947, 1.97066381],\n",
    "[1.79129243, 1.74983003, 1.96028037, 1.85166831, 1.65450881],\n",
    "[1.18068344, 1.9587381 , 1.00656599, 1.93402165, 1.73514584]]]\n",
    "```\n",
    "Your *f* should be:\n",
    "```python\n",
    "[[[ 75.,  75.,  75.,  25.,  75.],\n",
    "[ 75.,  75.,  25.,  25.,  25.],\n",
    "[ 75.,  25.,  75.,  75.,  75.]],\n",
    "[[ 25.,  25.,  25.,  25., 100.],\n",
    "[ 75.,  75.,  75.,  75.,  75.],\n",
    "[ 25.,  75.,   0.,  75.,  75.]]]\n",
    "```"
   ]
  },
  {
   "cell_type": "code",
   "execution_count": 47,
   "metadata": {},
   "outputs": [
    {
     "name": "stdout",
     "output_type": "stream",
     "text": [
      "d= [[[15  6 16 10 31]\n",
      "  [50 49 30 10 49]\n",
      "  [39 13 32 50  8]]\n",
      "\n",
      " [[25 18  3 28 14]\n",
      "  [10 35 39 12  6]\n",
      "  [21 50 39  4 37]]]\n",
      "f= [[[6.92e-323 2.47e-323 7.41e-323 4.45e-323 1.48e-322]\n",
      "  [2.42e-322 2.37e-322 1.43e-322 4.45e-323 2.37e-322]\n",
      "  [1.88e-322 5.93e-323 1.53e-322 2.42e-322 3.46e-323]]\n",
      "\n",
      " [[1.19e-322 8.40e-323 9.88e-324 1.33e-322 6.42e-323]\n",
      "  [4.45e-323 1.68e-322 1.88e-322 5.43e-323 2.47e-323]\n",
      "  [9.88e-323 2.42e-322 1.88e-322 1.48e-323 1.78e-322]]]\n"
     ]
    }
   ],
   "source": [
    "# your code here\n",
    "print('d=',d)\n",
    "print('f=',f)"
   ]
  },
  {
   "cell_type": "markdown",
   "metadata": {},
   "source": [
    "#### 18. Bonus question: instead of using numbers (i.e. 0, 25, 50, 75, and 100), use string values  (\"A\", \"B\", \"C\", \"D\", and \"E\") to label the array elements. For the example above, the expected result is:\n",
    "\n",
    "```python\n",
    "[[[ 'D',  'D',  'D',  'B',  'D'],\n",
    "[ 'D',  'D',  'B',  'B',  'B'],\n",
    "[ 'D',  'B',  'D',  'D',  'D']],\n",
    "[[ 'B',  'B',  'B',  'B',  'E'],\n",
    "[ 'D',  'D',  'D',  'D',  'D'],\n",
    "[ 'B',  'D',   'A',  'D', 'D']]]\n",
    "```\n",
    "**Note**: you don't have to use Numpy in this question."
   ]
  },
  {
   "cell_type": "code",
   "execution_count": 48,
   "metadata": {},
   "outputs": [],
   "source": [
    "# your code here\n",
    "for j in d:\n",
    "    for i in j:\n",
    "        if i.any() > d_min and i.any() < d_mean:\n",
    "            i = 'A'\n",
    "            f.append(i)\n",
    "\n",
    "        if i.any() > d_mean and i.any() < d_max:\n",
    "            i = 'B'\n",
    "            f.append(i)\n",
    "\n",
    "        if i.any() == d_mean:\n",
    "            i = 'C'\n",
    "            f.append(i)\n",
    "\n",
    "        #if i.any() == d_min:\n",
    "            #i = 'D'\n",
    "            #i.append(f)\n",
    "\n",
    "        if i.any() == d_max:\n",
    "            i = 'E'\n",
    "            f.append(i)\n"
   ]
  },
  {
   "cell_type": "code",
   "execution_count": 49,
   "metadata": {},
   "outputs": [
    {
     "name": "stdout",
     "output_type": "stream",
     "text": [
      "[[[6.92e-323 2.47e-323 7.41e-323 4.45e-323 1.48e-322]\n",
      "  [2.42e-322 2.37e-322 1.43e-322 4.45e-323 2.37e-322]\n",
      "  [1.88e-322 5.93e-323 1.53e-322 2.42e-322 3.46e-323]]\n",
      "\n",
      " [[1.19e-322 8.40e-323 9.88e-324 1.33e-322 6.42e-323]\n",
      "  [4.45e-323 1.68e-322 1.88e-322 5.43e-323 2.47e-323]\n",
      "  [9.88e-323 2.42e-322 1.88e-322 1.48e-323 1.78e-322]]]\n"
     ]
    }
   ],
   "source": [
    "print(f)"
   ]
  },
  {
   "cell_type": "code",
   "execution_count": null,
   "metadata": {},
   "outputs": [],
   "source": []
  }
 ],
 "metadata": {
  "kernelspec": {
   "display_name": "Python [conda env:m1-ih]",
   "language": "python",
   "name": "conda-env-m1-ih-py"
  },
  "language_info": {
   "codemirror_mode": {
    "name": "ipython",
    "version": 3
   },
   "file_extension": ".py",
   "mimetype": "text/x-python",
   "name": "python",
   "nbconvert_exporter": "python",
   "pygments_lexer": "ipython3",
   "version": "3.9.12"
  }
 },
 "nbformat": 4,
 "nbformat_minor": 2
}
