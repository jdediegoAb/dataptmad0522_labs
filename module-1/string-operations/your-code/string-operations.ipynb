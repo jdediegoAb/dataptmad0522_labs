{
 "cells": [
  {
   "cell_type": "markdown",
   "metadata": {},
   "source": [
    "# Before your start:\n",
    "- Read the README.md file\n",
    "- Comment as much as you can and use the resources in the README.md file\n",
    "- Happy learning!"
   ]
  },
  {
   "cell_type": "code",
   "execution_count": null,
   "metadata": {},
   "outputs": [],
   "source": [
    "import re"
   ]
  },
  {
   "cell_type": "markdown",
   "metadata": {},
   "source": [
    "# Challenge 1 - Combining Strings\n",
    "\n",
    "Combining strings is an important skill to acquire. There are multiple ways of combining strings in Python, as well as combining strings with variables. We will explore this in the first challenge. In the cell below, combine the strings in the list and add spaces between the strings (do not add a space after the last string). Insert a period after the last string."
   ]
  },
  {
   "cell_type": "code",
   "execution_count": 36,
   "metadata": {},
   "outputs": [
    {
     "name": "stdout",
     "output_type": "stream",
     "text": [
      "Durante un tiempo no estuvo segura de si su marido era su marido.\n"
     ]
    }
   ],
   "source": [
    "str_list = ['Durante', 'un', 'tiempo', 'no', 'estuvo', 'segura', 'de', 'si', 'su', 'marido', 'era', 'su', 'marido']\n",
    "# Your code here:\n",
    "#I used a join function in the list, positioning spaces between every word in the list\n",
    "#I added a dot at the end using a concatenate operation\n",
    "\n",
    "print(' '.join(str_list)+'.')\n"
   ]
  },
  {
   "cell_type": "markdown",
   "metadata": {},
   "source": [
    "In the cell below, use the list of strings to create a grocery list. Start the list with the string `Grocery list: ` and include a comma and a space between each item except for the last one. Include a period at the end. Only include foods in the list that start with the letter 'b' and ensure all foods are lower case."
   ]
  },
  {
   "cell_type": "code",
   "execution_count": 99,
   "metadata": {},
   "outputs": [
    {
     "name": "stdout",
     "output_type": "stream",
     "text": [
      "bananas bread brownie broccoli. "
     ]
    }
   ],
   "source": [
    "food_list = [\"Bananas\",\"Chocolate\",\"bread\",\"diapers\", \"Ice Cream\",\"Brownie Mix\",\"broccoli\"]\n",
    "# Your code here:\n",
    "#use for to filter every word and see if starts with \"b\" or \"B\"\n",
    "#for i in food_list:\n",
    "       #if i.startswith(\"b\") or i.startswith(\"B\"):\n",
    "             # print(''.join(i.lower()))\n",
    "x=' '.join(food_list).lower()+'.'\n",
    "for i in x.split():\n",
    "    if i.startswith(\"b\"): \n",
    "        print((i),end=' ')"
   ]
  },
  {
   "cell_type": "markdown",
   "metadata": {},
   "source": [
    "In the cell below, write a function that computes the area of a circle using its radius. Compute the area of the circle and insert the radius and the area between the two strings. Make sure to include spaces between the variable and the strings. \n",
    "\n",
    "Note: You can use the techniques we have learned https.my.ironhack.com/cohorts/61420f31978ddd002b050bb3so far or use f-strings. F-strings allow us to embed code inside strings. You can read more about f-strings [](https://www.python.org/dev/peps/pep-0498/)."
   ]
  },
  {
   "cell_type": "code",
   "execution_count": 82,
   "metadata": {},
   "outputs": [
    {
     "name": "stdout",
     "output_type": "stream",
     "text": [
      "4\n"
     ]
    }
   ],
   "source": [
    "import math\n",
    "\n",
    "string1 = \"The area of the circle with radius:\"\n",
    "string2  = \"is:\"\n",
    "radius = input()\n",
    "\n",
    "def area(x, pi = math.pi):\n",
    "    \"\"\"\n",
    "    This function takes a radius and returns the area of a circle. \n",
    "    We also pass a default value for pi.\n",
    "    \n",
    "    Input: Float (and default value for pi)\n",
    "    Output: Float\n",
    "    \n",
    "    Sample input: 5.0\n",
    "    Sample Output: 78.53981633\n",
    "    \"\"\"   \n",
    "    # Your code here:\n",
    "    \n",
    "    area=math.pi*(2*radius)\n",
    "    return(area)\n",
    "    \n",
    "# Your output string here: \n",
    "    print(string1+radius+string2+(area))"
   ]
  },
  {
   "cell_type": "markdown",
   "metadata": {},
   "source": [
    " Challenge 2 - Splitting Strings\n",
    "\n",
    "We have first looked at combining strings into one long string. There are times where we need to do the opposite and split the string into smaller components for further analysis. \n",
    "\n",
    "In the cell below, split the string into a list of strings using the space delimiter. Count the frequency of each word in the string in a dictionary. Strip the periods, line breaks and commas from the text. Make sure to remove empty strings from your dictionary."
   ]
  },
  {
   "cell_type": "code",
   "execution_count": 104,
   "metadata": {},
   "outputs": [
    {
     "name": "stdout",
     "output_type": "stream",
     "text": [
      "frequency of: Some -is: 2\n",
      "frequency of: say -is: 3\n",
      "frequency of: the -is: 1\n",
      "frequency of: world -is: 1\n",
      "frequency of: will -is: 1\n",
      "frequency of: end -is: 1\n",
      "frequency of: in -is: 2\n",
      "frequency of: fire -is: 2\n",
      "frequency of: Some -is: 2\n",
      "frequency of: say -is: 3\n",
      "frequency of: in -is: 2\n",
      "frequency of: ice -is: 2\n",
      "frequency of: From -is: 1\n",
      "frequency of: what -is: 1\n",
      "frequency of: Ive -is: 1\n",
      "frequency of: tasted -is: 1\n",
      "frequency of: of -is: 2\n",
      "frequency of: desire -is: 1\n",
      "frequency of: I -is: 3\n",
      "frequency of: hold -is: 1\n",
      "frequency of: with -is: 1\n",
      "frequency of: those -is: 1\n",
      "frequency of: who -is: 1\n",
      "frequency of: favor -is: 1\n",
      "frequency of: fire -is: 2\n",
      "frequency of: But -is: 1\n",
      "frequency of: if -is: 1\n",
      "frequency of: it -is: 1\n",
      "frequency of: had -is: 1\n",
      "frequency of: to -is: 1\n",
      "frequency of: perish -is: 1\n",
      "frequency of: twice -is: 1\n",
      "frequency of: I -is: 3\n",
      "frequency of: think -is: 1\n",
      "frequency of: I -is: 3\n",
      "frequency of: know -is: 1\n",
      "frequency of: enough -is: 1\n",
      "frequency of: of -is: 2\n",
      "frequency of: hate -is: 1\n",
      "frequency of: To -is: 1\n",
      "frequency of: say -is: 3\n",
      "frequency of: that -is: 1\n",
      "frequency of: for -is: 1\n",
      "frequency of: destruction -is: 1\n",
      "frequency of: ice -is: 2\n",
      "frequency of: Is -is: 1\n",
      "frequency of: also -is: 1\n",
      "frequency of: great -is: 1\n",
      "frequency of: And -is: 1\n",
      "frequency of: would -is: 1\n",
      "frequency of: suffice -is: 1\n"
     ]
    }
   ],
   "source": [
    "poem = \"\"\"Some say the world will end in fire,\n",
    "Some say in ice.\n",
    "From what I’ve tasted of desire\n",
    "I hold with those who favor fire.\n",
    "But if it had to perish twice,\n",
    "I think I know enough of hate\n",
    "To say that for destruction ice\n",
    "Is also great\n",
    "And would suffice.\"\"\"\n",
    "\n",
    "\n",
    "# Your code here:\n",
    "\n",
    "x=(poem.replace(\",\",\"\").replace(\".\",\"\").replace(\"’\",\"\").split())\n",
    "w=set(x)\n",
    "for words in x:\n",
    "    print(\"frequency of:\",words,\"-is:\",x.count(words))\n"
   ]
  },
  {
   "cell_type": "markdown",
   "metadata": {},
   "source": [
    " In the cell below, find all the words that appear in the text and do not appear in the blacklist. You must parse the string but can choose any data structure you wish for the words that do not appear in the blacklist. Remove all non letter characters and convert all words to lower case."
   ]
  },
  {
   "cell_type": "code",
   "execution_count": 110,
   "metadata": {},
   "outputs": [
    {
     "name": "stdout",
     "output_type": "stream",
     "text": [
      "i\n",
      "was\n",
      "angry\n",
      "with\n",
      "my\n",
      "friend\n",
      "i\n",
      "told\n",
      "my\n",
      "wrath\n",
      "my\n",
      "wrath\n",
      "did\n",
      "end\n",
      "i\n",
      "was\n",
      "angry\n",
      "with\n",
      "my\n",
      "foe\n",
      "i\n",
      "told\n",
      "not\n",
      "my\n",
      "wrath\n",
      "did\n",
      "grow\n",
      "i\n",
      "waterd\n",
      "fears\n",
      "night\n",
      "&\n",
      "morning\n",
      "with\n",
      "my\n",
      "tears\n",
      "i\n",
      "sunned\n",
      "with\n",
      "smiles\n",
      "with\n",
      "soft\n",
      "deceitful\n",
      "wiles\n",
      "grew\n",
      "both\n",
      "day\n",
      "night\n",
      "till\n",
      "bore\n",
      "apple\n",
      "bright\n",
      "my\n",
      "foe\n",
      "beheld\n",
      "shine\n",
      "he\n",
      "knew\n",
      "that\n",
      "was\n",
      "mine\n",
      "into\n",
      "my\n",
      "garden\n",
      "stole\n",
      "when\n",
      "night\n",
      "had\n",
      "veild\n",
      "pole\n",
      "morning\n",
      "glad\n",
      "i\n",
      "see\n",
      "my\n",
      "foe\n",
      "outstretched\n",
      "beneath\n",
      "tree\n"
     ]
    }
   ],
   "source": [
    "blacklist = ['and', 'as', 'an', 'a', 'the', 'in', 'it']\n",
    "\n",
    "poem = \"\"\"I was angry with my friend; \n",
    "I told my wrath, my wrath did end.\n",
    "I was angry with my foe: \n",
    "I told it not, my wrath did grow. \n",
    "\n",
    "And I waterd it in fears,\n",
    "Night & morning with my tears: \n",
    "And I sunned it with smiles,\n",
    "And with soft deceitful wiles. \n",
    "\n",
    "And it grew both day and night. \n",
    "Till it bore an apple bright. \n",
    "And my foe beheld it shine,\n",
    "And he knew that it was mine. \n",
    "\n",
    "And into my garden stole, \n",
    "When the night had veild the pole; \n",
    "In the morning glad I see; \n",
    "My foe outstretched beneath the tree.\"\"\"\n",
    "\n",
    "# Your code here:\n",
    "\n",
    "x=poem.lower().replace(\";\",\"\").replace(\",\",\"\").replace(\".\",\"\").replace(\":\",\"\").split()\n",
    "for i in x:\n",
    "    if i  not in blacklist:\n",
    "        print(i)\n",
    "    else:\n",
    "        pass"
   ]
  },
  {
   "cell_type": "markdown",
   "metadata": {},
   "source": [
    "# Challenge 3 - Regular Expressions\n",
    "\n",
    "Sometimes, we would like to perform more complex manipulations of our string. This is where regular expressions come in handy. In the cell below, return all characters that are upper case from the string specified below."
   ]
  },
  {
   "cell_type": "code",
   "execution_count": 122,
   "metadata": {},
   "outputs": [
    {
     "name": "stdout",
     "output_type": "stream",
     "text": [
      "['T', 'P']\n"
     ]
    }
   ],
   "source": [
    "poem = \"\"\"The apparition of these faces in the crowd;\n",
    "Petals on a wet, black bough.\"\"\"\n",
    "\n",
    "# Your code here:\n",
    "import re\n",
    "pattern =\"[A-Z]\"\n",
    "output= re.findall(pattern,poem)\n",
    "print(output)"
   ]
  },
  {
   "cell_type": "markdown",
   "metadata": {},
   "source": [
    "In the cell below, filter the list provided and return all elements of the list containing a number. To filter the list, use the `re.search` function. Check if the function does not return `None`. You can read more about the `re.search` function [here](https://docs.python.org/3/library/re.html)."
   ]
  },
  {
   "cell_type": "code",
   "execution_count": 133,
   "metadata": {},
   "outputs": [
    {
     "name": "stdout",
     "output_type": "stream",
     "text": [
      "['123', '123', '1', '4']\n"
     ]
    }
   ],
   "source": [
    "data = ['123abc', 'abc123', 'JohnSmith1', 'ABBY4', 'JANE']\n",
    "\n",
    "# Your code here:\n",
    "import re\n",
    "data1=''.join(data)\n",
    "pattern=\"[0-9]+\"\n",
    "output= re.findall(pattern,data1)\n",
    "print(output)"
   ]
  },
  {
   "cell_type": "markdown",
   "metadata": {},
   "source": [
    "# Bonus Challenge - Regular Expressions II\n",
    "\n",
    "In the cell below, filter the list provided to keep only strings containing at least one digit and at least one lower case letter. As in the previous question, use the `re.search` function and check that the result is not `None`.\n",
    "\n",
    "To read more about regular expressions, check out [this link](https://developers.google.com/edu/python/regular-expressions)."
   ]
  },
  {
   "cell_type": "code",
   "execution_count": 144,
   "metadata": {},
   "outputs": [
    {
     "name": "stdout",
     "output_type": "stream",
     "text": [
      "123abc\n",
      "abc123\n",
      "JohnSmith1\n",
      "ABBY4\n",
      "JANE\n"
     ]
    }
   ],
   "source": [
    "data = ['123abc', 'abc123', 'JohnSmith1', 'ABBY4', 'JANE']\n",
    "# Your code here:\n",
    "pattern=\".*[a-z].*|.*\\d.*\"\n",
    "for i in data:\n",
    "    re.findall(pattern,i)\n",
    "    print(i)"
   ]
  },
  {
   "cell_type": "code",
   "execution_count": null,
   "metadata": {},
   "outputs": [],
   "source": []
  }
 ],
 "metadata": {
  "kernelspec": {
   "display_name": "Python 3 (ipykernel)",
   "language": "python",
   "name": "python3"
  },
  "language_info": {
   "codemirror_mode": {
    "name": "ipython",
    "version": 3
   },
   "file_extension": ".py",
   "mimetype": "text/x-python",
   "name": "python",
   "nbconvert_exporter": "python",
   "pygments_lexer": "ipython3",
   "version": "3.9.12"
  }
 },
 "nbformat": 4,
 "nbformat_minor": 2
}
